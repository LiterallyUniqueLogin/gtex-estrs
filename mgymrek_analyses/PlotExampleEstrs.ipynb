{
 "cells": [
  {
   "cell_type": "code",
   "execution_count": 1,
   "metadata": {
    "collapsed": false
   },
   "outputs": [
    {
     "name": "stderr",
     "output_type": "stream",
     "text": [
      "/usr/lib64/python3.4/importlib/_bootstrap.py:321: FutureWarning: The pandas.core.datetools module is deprecated and will be removed in a future version. Please use the pandas.tseries module instead.\n",
      "  return f(*args, **kwds)\n"
     ]
    }
   ],
   "source": [
    "# Allow us to edit fonts in Illustrator\n",
    "import matplotlib\n",
    "matplotlib.rcParams['ps.useafm'] = True\n",
    "matplotlib.rcParams['pdf.use14corefonts'] = True\n",
    "matplotlib.rcParams['text.usetex'] = True\n",
    "\n",
    "# Libraries\n",
    "\n",
    "import os\n",
    "import numpy as np\n",
    "import pandas as pd\n",
    "import scipy.stats as ss\n",
    "import statsmodels.api as sm\n",
    "import seaborn.apionly as sns\n",
    "import matplotlib.pyplot as plt\n",
    "import statsmodels.formula.api as smf\n",
    "\n",
    "# Path to data\n",
    "RESDIR = \"/storage/szfeupe/Runs/GTEx_estr/Analysis_by_Tissue/\"\n",
    "DATA =  RESDIR+\"SUMMARY/Merged_Causality_best_tissue.table\"\n",
    "BASEDIR = \"/storage/szfeupe/Runs/GTEx_estr/Analysis_by_Tissue/\"\n",
    "SNPS = \"/storage/szfeupe/Runs/GTEx_estr/SNP_Analysis\"\n",
    "STRS = \"/storage/szfeupe/Runs/GTEx_estr/Normalized_Genotypes/\"\n",
    "COLOR = ['b', 'r', 'g', 'k', 'y', 'm', 'grey']\n",
    "\n",
    "Gene_table = pd.read_csv('/storage/szfeupe/Runs/GTEx_estr/FEATURES/Genes_only_table', sep='\\t')\n",
    "\n",
    "def plotthat(Frame, BASEDIR, start=None):\n",
    "    chs = list(Frame['chrom'])[0]\n",
    "    gene = list(Frame['gene'])[0]\n",
    "    if start is None: start = list(Frame['best.str.start'])[0]\n",
    "    tissue = list(Frame['best.tissue'])[0]\n",
    "    print(tissue)\n",
    "    score = list(Frame['best.score'])[0]\n",
    "    \n",
    "    snps=pd.read_csv(BASEDIR+tissue+\"/SNP_Analysis/PQValues.txt\", sep=\"\\t\",low_memory=False)\n",
    "    expr = pd.read_csv(BASEDIR+tissue+\"/Corr_Expr.csv\",sep=',' ,low_memory=False) \n",
    "    snp =pd.read_csv(SNPS+\"/SNP_raw_gt_\"+chs, sep='\\t',low_memory=False) #snps\n",
    "    Genos=pd.read_csv(STRS+\"STR_Raw_Gen.\"+chs, sep='\\t',low_memory=False)\n",
    "    #gene name\n",
    "    S = snps.loc[snps['gene']==gene]['str.start']; S=int(S)\n",
    "    Gene = Gene_table.loc[Gene_table['gene']==gene]['gene.name'].values[0]\n",
    "    print('\\n----->',chs,' gene ',gene,'(',Gene,')  Causality Score: ',score,'\\nCounts by SNP genotypes')\n",
    "    \n",
    "    #restrict to samples\n",
    "    samples = list(expr.index)\n",
    "    Genosnp = snp.loc[snp['start']==S,samples]\n",
    "    print(\"SNP %s\"%S)\n",
    "    Genostr = Genos.loc[Genos['start']==start, samples]\n",
    "    Genosnp = Genosnp.replace('None', np.nan) ; #print(Genosnp)\n",
    "    Genostr = Genostr.replace('None', np.nan) ; #print(Genostr)\n",
    "    #Expression\n",
    "    Expr = expr[gene]\n",
    "    \n",
    "    #Figure    (1) SNP vs EXPR\n",
    "    plt.figure(figsize=(11,3))\n",
    "    plt.subplot(131)\n",
    "    plt.title(tissue+' tissue')\n",
    "    plt.scatter(Genosnp, Expr, label='Lead SNP', color='b',marker='.')\n",
    "    plt.ylabel(Gene+' expression')\n",
    "    plt.xlabel('Best SNP genotypes')\n",
    "    \n",
    "    #Figure (2) STR vs. expr\n",
    "    plt.subplot(132)\n",
    "    plt.scatter(Genostr, Expr,label='eSTR', color='k',marker='.')\n",
    "    #plt.ylabel(Gene+' Gene expression')\n",
    "    print(int(start))\n",
    "    #plt.xlabel('eSTR genotypes \\nSTR_'+str(int(start)))\n",
    "    \n",
    "    df = pd.DataFrame({\"expr\":list(Expr), \"snp\":list(Genosnp.iloc[0,:]), \"str\": list(Genostr.iloc[0,:])})\n",
    "    df.to_csv(\"%s.tab\"%Gene)\n",
    "\n",
    "    #Figure (3) Hold snp genotypes constant\n",
    "    geno=list(set(Genosnp.values.tolist()[0]))\n",
    "    geno=list(set([x for x in np.nan_to_num(geno) if x!='nan']))\n",
    "    n=len(geno) ; N=0\n",
    "    ind=Genosnp.index[0]\n",
    "    #fig = plt.figure(figsize=(8,6))\n",
    "    plt.subplot(133) #\n",
    "    for i in range(n):\n",
    "        S = Genosnp.T.loc[Genosnp.T[ind]==geno[i]]\n",
    "        sample=list(S.index)\n",
    "        S['Exp']=Expr.loc[sample]\n",
    "        S['Str']=Genostr.T.loc[sample][Genostr.index[0]]\n",
    "        #print(N, list(S['Str']))\n",
    "        S['Str'] = S['Str'].astype(float)\n",
    "        #S['Str']+=N\n",
    "        if len(S['Exp'])==0:\n",
    "            continue\n",
    "        #ax = fig.add_subplot(n,1,1+i)\n",
    "        print(geno[i], S.shape)\n",
    "        plt.scatter(list(S['Str']), list(S['Exp']), color=COLOR[i], marker='.')\n",
    "#        plt.title.set_text(Gene+' Expression @ SNP_genotype='+str(geno[i])+' ( n='+str(len(S['Exp']))+' )')\n",
    "        if max(list(S['Str'].values))-min(list(S['Str'].values))!=0:\n",
    "            N += max(list(S['Str'].values))-min(list(S['Str'].values))+20\n",
    "        else:\n",
    "            N +=max(list(S['Str'].values))+20\n",
    "        #print(N, list(S['Str']))\n",
    "    #plt.xlabel('STRs at SNPs genotypes \\nSTR_'+str(int(start)))\n",
    "    plt.xticks([])\n",
    "    plt.show()\n",
    "    #plt.savefig(\"example_locus.pdf\")"
   ]
  },
  {
   "cell_type": "code",
   "execution_count": 3,
   "metadata": {
    "collapsed": false
   },
   "outputs": [
    {
     "name": "stdout",
     "output_type": "stream",
     "text": [
      "Adipose-Subcutaneous\n",
      "\n",
      "-----> chr10  gene  ENSG00000148848.10 ( ADAM12 )  Causality Score:  0.0190188196063 \n",
      "Counts by SNP genotypes\n",
      "SNP 128144858\n",
      "127865612\n",
      "1 (15, 3)\n",
      "0 (86, 3)\n"
     ]
    },
    {
     "data": {
      "image/png": "[encoded data removed]",
      "text/plain": [
       "<matplotlib.figure.Figure at 0x7fe3a7130da0>"
      ]
     },
     "metadata": {},
     "output_type": "display_data"
    }
   ],
   "source": [
    "Data = pd.read_csv(DATA, sep='\\t')\n",
    "#G = \"ENSG00000160213.5\" # CSTB\n",
    "G = \"ENSG00000148848.10\" # ADAM12\n",
    "start=None\n",
    "#G = \"ENSG00000100852.8\" # ARHGAP5\n",
    "#G = \"ENSG00000051825.10\" # MPHOSPH9\n",
    "#G = \"ENSG00000241635.3\" # UTGA1\n",
    "#start=234668880\n",
    "data = Data.loc[Data['gene']==G]\n",
    "plotthat(data, BASEDIR, start=start)"
   ]
  }
 ],
 "metadata": {
  "kernelspec": {
   "display_name": "Python 3",
   "language": "python",
   "name": "python3"
  },
  "language_info": {
   "codemirror_mode": {
    "name": "ipython",
    "version": 3
   },
   "file_extension": ".py",
   "mimetype": "text/x-python",
   "name": "python",
   "nbconvert_exporter": "python",
   "pygments_lexer": "ipython3",
   "version": "3.4.5"
  }
 },
 "nbformat": 4,
 "nbformat_minor": 2
}
