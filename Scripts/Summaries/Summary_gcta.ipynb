{
 "cells": [
  {
   "cell_type": "code",
   "execution_count": 10,
   "metadata": {
    "collapsed": false
   },
   "outputs": [
    {
     "name": "stdout",
     "output_type": "stream",
     "text": [
      "\n",
      "Total # genes: (n=13334)\n",
      "eSTR genes (n=570)\n",
      "   Explained by joint SNP+STR model:\n",
      "\t 0.186514285445 (0.156364591789), se 0.004551741825995988\n",
      "   \t h2 - SNPs: 8.19073421053 (0.034562), se 0.005191734313110675\n",
      "   \t h2 - STRs: 10.4606943339 (0.0999889587624), se 0.0028987376054814586\n",
      "   \t Gain over SNP only model: 0.00268139597106 (0.00438464664), se 0.0032809854267847995\n",
      "   \t h2 - cis_all: 56.0852178642 \n",
      "\n",
      "Total # genes: (n=9439)\n",
      "eSTR genes (n=582)\n",
      "   Explained by joint SNP+STR model:\n",
      "\t 0.202227814639 (0.169594281107), se 0.004595048202076306\n",
      "   \t h2 - SNPs: 8.67541013746 (0.03808), se 0.00487518945555598\n",
      "   \t h2 - STRs: 11.5473713265 (0.10861955111), se 0.0032001304373465715\n",
      "   \t Gain over SNP only model: -0.00138265099653 (0.102886450234), se 0.01487018385618854\n",
      "   \t h2 - cis_all: 57.1008065684 \n",
      "\n",
      "Total # genes: (n=10286)\n",
      "eSTR genes (n=221)\n",
      "   Explained by joint SNP+STR model:\n",
      "\t 0.202567132449 (0.169102390192), se 0.007345615664206584\n",
      "   \t h2 - SNPs: 7.25340678733 (0.029218), se 0.0076404512400797256\n",
      "   \t h2 - STRs: 13.0033064576 (0.120363975299), se 0.005447456314618567\n",
      "   \t Gain over SNP only model: -0.0776732295416 (0.115835488206), se 0.06538345178966472\n",
      "   \t h2 - cis_all: 64.1925780376 \n",
      "\n",
      "Total # genes: (n=10546)\n",
      "eSTR genes (n=246)\n",
      "   Explained by joint SNP+STR model:\n",
      "\t 0.230052948808 (0.192616992095), se 0.007931187253410186\n",
      "   \t h2 - SNPs: 8.87985894309 (0.043344), se 0.008510090777456085\n",
      "   \t h2 - STRs: 14.1254359377 (0.136118586372), se 0.005888444663454224\n",
      "   \t Gain over SNP only model: 0.0121883512466 (0.137028906863), se 0.028424347040318324\n",
      "   \t h2 - cis_all: 61.4008036449 \n",
      "\n",
      "Total # genes: (n=10647)\n",
      "eSTR genes (n=256)\n",
      "   Explained by joint SNP+STR model:\n",
      "\t 0.254426257795 (0.204122264112), se 0.008778801466938168\n",
      "   \t h2 - SNPs: 8.73844335938 (0.0343395), se 0.008347567941926603\n",
      "   \t h2 - STRs: 16.7041824201 (0.156871474664), se 0.007160134619017026\n",
      "   \t Gain over SNP only model: 0.00272799216981 (0.14995312043), se 0.028236606169585853\n",
      "   \t h2 - cis_all: 65.6543179343 \n",
      "\n",
      "Total # genes: (n=10466)\n",
      "eSTR genes (n=356)\n",
      "   Explained by joint SNP+STR model:\n",
      "\t 0.228779956843 (0.193623915981), se 0.0062907155993906965\n",
      "   \t h2 - SNPs: 8.8410008427 (0.038367), se 0.006347069870960188\n",
      "   \t h2 - STRs: 14.0369948416 (0.134711061102), se 0.004934937660033115\n",
      "   \t Gain over SNP only model: -0.0202012734938 (0.135008567054), se 0.030552517208870013\n",
      "   \t h2 - cis_all: 61.3558767792 \n",
      "\n",
      "Total # genes: (n=10409)\n",
      "eSTR genes (n=306)\n",
      "   Explained by joint SNP+STR model:\n",
      "\t 0.239936707716 (0.199537168626), se 0.010151146346918475\n",
      "   \t h2 - SNPs: 9.40713986928 (0.0349405), se 0.010572625523758573\n",
      "   \t h2 - STRs: 14.5865309023 (0.14754196026), se 0.004766599683312018\n",
      "   \t Gain over SNP only model: -0.0023198903236 (0.155060669393), se 0.04423829278639183\n",
      "   \t h2 - cis_all: 60.7932443566 \n"
     ]
    }
   ],
   "source": [
    "tissu = ['WholeBlood','Cells-Transformedfibroblasts','Muscle-Skeletal','Lung','Adipose-Subcutaneous','Artery-Tibial','Esophagus-Mucosa']\n",
    "#\n",
    "#h2cis = h2str/h2str+snp\n",
    "#\n",
    "import math\n",
    "import numpy as np\n",
    "import pandas as pd\n",
    "\n",
    "def stderr(x):\n",
    "    n = len(x)\n",
    "    se = math.sqrt((n*1.0/(n-1))*np.var(x))/math.sqrt(n)\n",
    "    return se\n",
    "\n",
    "for Tissue in tissu:\n",
    "    \n",
    "    path='/storage/szfeupe/Runs/GTEx_estr/Analysis_by_Tissue/'+Tissue+'/HH/'\n",
    "    snp_only_file = path+'h2_gcta_snp_only'                 #cgta results for snp only\n",
    "    snp_str_file = path+'All_genesh2_gcta'                 #snp_str gcta analysis\n",
    "    estrs_file = path+'estr_results'                   #estrs genes\n",
    "    correct = True                 #True or False\n",
    "\n",
    "    estrs = pd.read_csv(estrs_file, sep=\"\\t\")\n",
    "    estrs = estrs.loc[estrs['qval.gene']<=0.1]; estrs = list(estrs['gene']) \n",
    "    snp_only = pd.read_csv(snp_only_file, sep=\"\\t\")\n",
    "    snp_str = pd.read_csv(snp_str_file, sep=\"\\t\")\n",
    "    snp_str.shape\n",
    "    if correct:\n",
    "        snp_str[\"cis_str_h2\"] = snp_str.apply(lambda x: x.cis_str_h2 - x.cis_str_h2_se**2, 1)\n",
    "    snp_str[\"total_h2\"] = snp_str[\"cis_snp_h2\"] + snp_str[\"cis_str_h2\"]\n",
    "    compare = pd.merge(snp_only, snp_str, on=[\"gene\"])\n",
    "    compare[\"gain\"] = compare[\"total_h2\"]-compare[\"cis_snp_h2_x\"]\n",
    "    compare_estrs = compare[compare[\"gene\"].apply(lambda x: x in estrs)]\n",
    "\n",
    "    print (\"\\nTotal # genes: (n=%s)\"%compare.shape[0])\n",
    "#    print (\"   Explained by joint SNP+STR model: %s (%s), se %s\"%(np.mean(compare[\"total_h2\"]), np.median(compare[\"total_h2\"]), stderr(compare[\"total_h2\"])))\n",
    "#    print (\"   SNPs: %s (%s), se %s\"%(np.mean(compare[\"cis_snp_h2_y\"]), np.median(compare[\"cis_snp_h2_y\"]), stderr(compare[\"cis_snp_h2_y\"])))\n",
    "#    print (\"   STRs: %s (%s), se %s\"%(np.mean(compare[\"cis_str_h2\"]), np.median(compare[\"cis_str_h2\"]), stderr(compare[\"cis_str_h2\"])))\n",
    "#    print (\"   Gain over SNP only model: %s (%s), se %s\"%(np.mean(compare[\"gain\"]), np.median(compare[\"gain\"]), stderr(compare[\"gain\"])))\n",
    "    print (\"eSTR genes (n=%s)\"%compare_estrs.shape[0])\n",
    "    print (\"   Explained by joint SNP+STR model:\\n\\t %s (%s), se %s\"%(np.mean(compare_estrs[\"total_h2\"]), np.median(compare_estrs[\"total_h2\"]), stderr(compare_estrs[\"total_h2\"])))\n",
    "    print (\"   \\t h2 - SNPs: %s (%s), se %s\"%(np.mean(compare_estrs[\"cis_snp_h2_y\"])*100, np.median(compare_estrs[\"cis_snp_h2_y\"]), stderr(compare_estrs[\"cis_snp_h2_y\"])))\n",
    "    print (\"   \\t h2 - STRs: %s (%s), se %s\"%(np.mean(compare_estrs[\"cis_str_h2\"])*100, np.median(compare_estrs[\"cis_str_h2\"]), stderr(compare_estrs[\"cis_str_h2\"])))\n",
    "    print (\"   \\t Gain over SNP only model: %s (%s), se %s\"%(np.mean(compare_estrs[\"gain\"]), np.median(compare_estrs[\"gain\"]), stderr(compare_estrs[\"gain\"])))\n",
    "#    print (\"\\nSNP only model (n=%s)\"%compare.shape[0])\n",
    "#    print (\"   Explained by SNP-only model: %s (%s), se %s\"%(np.mean(compare[\"cis_snp_h2_x\"]), np.median(compare[\"cis_snp_h2_x\"]), stderr(compare[\"cis_snp_h2_x\"])))\n",
    "#    print (\"\\nSNP only model eSTR genes (n=%s)\"%compare_estrs.shape[0])\n",
    "#    print (\"   Explained by SNP-only model: %s (%s), se %s\"%(np.mean(compare_estrs[\"cis_snp_h2_x\"]), np.median(compare_estrs[\"cis_snp_h2_x\"]), stderr(compare_estrs[\"cis_snp_h2_x\"])))\n",
    "    print (\"   \\t h2 - cis_all: %s \"% (np.mean(compare_estrs[\"cis_str_h2\"])*100/np.mean(compare_estrs[\"total_h2\"])) )\n",
    "           \n",
    "    #break\n",
    "    "
   ]
  },
  {
   "cell_type": "code",
   "execution_count": 4,
   "metadata": {
    "collapsed": false
   },
   "outputs": [
    {
     "data": {
      "text/plain": [
       "0.560852178638332"
      ]
     },
     "execution_count": 4,
     "metadata": {},
     "output_type": "execute_result"
    }
   ],
   "source": [
    "0.104606943339/0.186514285445"
   ]
  },
  {
   "cell_type": "code",
   "execution_count": 19,
   "metadata": {
    "collapsed": true
   },
   "outputs": [],
   "source": []
  },
  {
   "cell_type": "code",
   "execution_count": 20,
   "metadata": {
    "collapsed": false
   },
   "outputs": [
    {
     "name": "stdout",
     "output_type": "stream",
     "text": [
      "All genes (n=10410)\n",
      "   Explained by joint SNP+STR model: 0.272823261244 (0.0274124419611), se 0.0085625907453851\n",
      "   SNPs: 0.257905435639 (1.9e-05), se 0.008117703171157401\n",
      "   STRs: 0.0149178256055 (-0.067746783636), se 0.0026450490175008966\n",
      "   Gain over SNP only model: 0.0807001345392 (-0.0405051953585), se 0.006005611488147217\n",
      "eSTR genes (n=306)\n",
      "   Explained by joint SNP+STR model: 0.377774406132 (0.084602869516), se 0.06949691772678639\n",
      "   SNPs: 0.33239845098 (1.8e-05), se 0.06679308641611295\n",
      "   STRs: 0.0453759551518 (-0.0492915953865), se 0.020541108332073333\n",
      "   Gain over SNP only model: 0.135517808093 (-0.0281522208535), se 0.05859796915374792\n",
      "SNP only model (n=10410)\n",
      "   Explained by SNP-only model: 0.192123126705 (1.8e-05), se 0.006017836334125421\n",
      "SNP only model eSTR genes (n=306)\n",
      "   Explained by SNP-only model: 0.242256598039 (1.8e-05), se 0.042855117538716056\n"
     ]
    }
   ],
   "source": []
  },
  {
   "cell_type": "code",
   "execution_count": 16,
   "metadata": {
    "collapsed": false
   },
   "outputs": [
    {
     "data": {
      "text/plain": [
       "18.921713093008"
      ]
     },
     "execution_count": 16,
     "metadata": {},
     "output_type": "execute_result"
    }
   ],
   "source": [
    "0.0843294034227*100/0.445675309673"
   ]
  },
  {
   "cell_type": "code",
   "execution_count": null,
   "metadata": {
    "collapsed": true
   },
   "outputs": [],
   "source": []
  }
 ],
 "metadata": {
  "kernelspec": {
   "display_name": "Python 3",
   "language": "python",
   "name": "python3"
  },
  "language_info": {
   "codemirror_mode": {
    "name": "ipython",
    "version": 3
   },
   "file_extension": ".py",
   "mimetype": "text/x-python",
   "name": "python",
   "nbconvert_exporter": "python",
   "pygments_lexer": "ipython3",
   "version": "3.4.5"
  }
 },
 "nbformat": 4,
 "nbformat_minor": 2
}
