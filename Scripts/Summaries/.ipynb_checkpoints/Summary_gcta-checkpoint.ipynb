{
 "cells": [
  {
   "cell_type": "code",
   "execution_count": 17,
   "metadata": {
    "collapsed": true
   },
   "outputs": [],
   "source": [
    "tissu = ['WholeBlood','Cells-Transformedfibroblasts','Muscle-Skeletal','Lung','Adipose-Subcutaneous','Artery-Tibial','Esophagus-Mucosa']\n",
    "#\n",
    "#\n",
    "#\n",
    "import math\n",
    "import numpy as np\n",
    "import pandas as pd\n",
    "\n",
    "def stderr(x):\n",
    "    n = len(x)\n",
    "    se = math.sqrt((n*1.0/(n-1))*np.var(x))/math.sqrt(n)\n",
    "    return se\n",
    "\n",
    "path='/storage/szfeupe/Runs/GTEx_estr/Analysis_by_Tissue/Esophagus-Mucosa/HH/'\n",
    "snp_only_file = path+'h2_gcta_snp_only'                 #cgta results for snp only\n",
    "snp_str_file = path+'All_genesh2_gcta_results'                 #snp_str gcta analysis\n",
    "estrs_file = path+'estr_results'                   #estrs genes\n",
    "correct = True                 #True or False\n",
    "\n",
    "estrs = pd.read_csv(estrs_file, sep=\"\\t\")\n",
    "estrs = estrs.loc[estrs['qval.gene']<=0.1]; print(estrs.shape);estrs = list(estrs['gene']) \n",
    "snp_only = pd.read_csv(snp_only_file, sep=\"\\t\")\n",
    "snp_str = pd.read_csv(snp_str_file, sep=\"\\t\")\n",
    "snp_str.shape"
   ]
  },
  {
   "cell_type": "code",
   "execution_count": 18,
   "metadata": {
    "collapsed": false
   },
   "outputs": [
    {
     "name": "stdout",
     "output_type": "stream",
     "text": [
      "(459, 12)\n"
     ]
    },
    {
     "data": {
      "text/plain": [
       "(10860, 11)"
      ]
     },
     "execution_count": 18,
     "metadata": {},
     "output_type": "execute_result"
    }
   ],
   "source": []
  },
  {
   "cell_type": "code",
   "execution_count": 19,
   "metadata": {
    "collapsed": true
   },
   "outputs": [],
   "source": [
    "if correct:\n",
    "    snp_str[\"cis_str_h2\"] = snp_str.apply(lambda x: x.cis_str_h2 - x.cis_str_h2_se**2, 1)\n",
    "snp_str[\"total_h2\"] = snp_str[\"cis_snp_h2\"] + snp_str[\"cis_str_h2\"]\n",
    "compare = pd.merge(snp_only, snp_str, on=[\"gene\"])\n",
    "compare[\"gain\"] = compare[\"total_h2\"]-compare[\"cis_snp_h2_x\"]\n",
    "compare_estrs = compare[compare[\"gene\"].apply(lambda x: x in estrs)]"
   ]
  },
  {
   "cell_type": "code",
   "execution_count": 20,
   "metadata": {
    "collapsed": false
   },
   "outputs": [
    {
     "name": "stdout",
     "output_type": "stream",
     "text": [
      "All genes (n=10410)\n",
      "   Explained by joint SNP+STR model: 0.272823261244 (0.0274124419611), se 0.0085625907453851\n",
      "   SNPs: 0.257905435639 (1.9e-05), se 0.008117703171157401\n",
      "   STRs: 0.0149178256055 (-0.067746783636), se 0.0026450490175008966\n",
      "   Gain over SNP only model: 0.0807001345392 (-0.0405051953585), se 0.006005611488147217\n",
      "eSTR genes (n=306)\n",
      "   Explained by joint SNP+STR model: 0.377774406132 (0.084602869516), se 0.06949691772678639\n",
      "   SNPs: 0.33239845098 (1.8e-05), se 0.06679308641611295\n",
      "   STRs: 0.0453759551518 (-0.0492915953865), se 0.020541108332073333\n",
      "   Gain over SNP only model: 0.135517808093 (-0.0281522208535), se 0.05859796915374792\n",
      "SNP only model (n=10410)\n",
      "   Explained by SNP-only model: 0.192123126705 (1.8e-05), se 0.006017836334125421\n",
      "SNP only model eSTR genes (n=306)\n",
      "   Explained by SNP-only model: 0.242256598039 (1.8e-05), se 0.042855117538716056\n"
     ]
    }
   ],
   "source": [
    "    print (\"All genes (n=%s)\"%compare.shape[0])\n",
    "    print (\"   Explained by joint SNP+STR model: %s (%s), se %s\"%(np.mean(compare[\"total_h2\"]), np.median(compare[\"total_h2\"]), stderr(compare[\"total_h2\"])))\n",
    "    print (\"   SNPs: %s (%s), se %s\"%(np.mean(compare[\"cis_snp_h2_y\"]), np.median(compare[\"cis_snp_h2_y\"]), stderr(compare[\"cis_snp_h2_y\"])))\n",
    "    print (\"   STRs: %s (%s), se %s\"%(np.mean(compare[\"cis_str_h2\"]), np.median(compare[\"cis_str_h2\"]), stderr(compare[\"cis_str_h2\"])))\n",
    "    print (\"   Gain over SNP only model: %s (%s), se %s\"%(np.mean(compare[\"gain\"]), np.median(compare[\"gain\"]), stderr(compare[\"gain\"])))\n",
    "    print (\"eSTR genes (n=%s)\"%compare_estrs.shape[0])\n",
    "    print (\"   Explained by joint SNP+STR model: %s (%s), se %s\"%(np.mean(compare_estrs[\"total_h2\"]), np.median(compare_estrs[\"total_h2\"]), stderr(compare_estrs[\"total_h2\"])))\n",
    "    print (\"   SNPs: %s (%s), se %s\"%(np.mean(compare_estrs[\"cis_snp_h2_y\"]), np.median(compare_estrs[\"cis_snp_h2_y\"]), stderr(compare_estrs[\"cis_snp_h2_y\"])))\n",
    "    print (\"   STRs: %s (%s), se %s\"%(np.mean(compare_estrs[\"cis_str_h2\"]), np.median(compare_estrs[\"cis_str_h2\"]), stderr(compare_estrs[\"cis_str_h2\"])))\n",
    "    print (\"   Gain over SNP only model: %s (%s), se %s\"%(np.mean(compare_estrs[\"gain\"]), np.median(compare_estrs[\"gain\"]), stderr(compare_estrs[\"gain\"])))\n",
    "    print (\"SNP only model (n=%s)\"%compare.shape[0])\n",
    "    print (\"   Explained by SNP-only model: %s (%s), se %s\"%(np.mean(compare[\"cis_snp_h2_x\"]), np.median(compare[\"cis_snp_h2_x\"]), stderr(compare[\"cis_snp_h2_x\"])))\n",
    "    print (\"SNP only model eSTR genes (n=%s)\"%compare_estrs.shape[0])\n",
    "    print (\"   Explained by SNP-only model: %s (%s), se %s\"%(np.mean(compare_estrs[\"cis_snp_h2_x\"]), np.median(compare_estrs[\"cis_snp_h2_x\"]), stderr(compare_estrs[\"cis_snp_h2_x\"])))\n",
    "    "
   ]
  },
  {
   "cell_type": "code",
   "execution_count": 16,
   "metadata": {
    "collapsed": false
   },
   "outputs": [
    {
     "data": {
      "text/plain": [
       "18.921713093008"
      ]
     },
     "execution_count": 16,
     "metadata": {},
     "output_type": "execute_result"
    }
   ],
   "source": [
    "0.0843294034227*100/0.445675309673"
   ]
  },
  {
   "cell_type": "code",
   "execution_count": null,
   "metadata": {
    "collapsed": true
   },
   "outputs": [],
   "source": []
  }
 ],
 "metadata": {
  "kernelspec": {
   "display_name": "Python 3",
   "language": "python",
   "name": "python3"
  },
  "language_info": {
   "codemirror_mode": {
    "name": "ipython",
    "version": 3
   },
   "file_extension": ".py",
   "mimetype": "text/x-python",
   "name": "python",
   "nbconvert_exporter": "python",
   "pygments_lexer": "ipython3",
   "version": "3.4.5"
  }
 },
 "nbformat": 4,
 "nbformat_minor": 2
}
