{
 "cells": [
  {
   "cell_type": "code",
   "execution_count": 1,
   "metadata": {
    "collapsed": false
   },
   "outputs": [],
   "source": [
    "# Libraries\n",
    "import pandas as pd\n",
    "import numpy as np\n",
    "import vcf\n",
    "#\n",
    "COLORS = {\n",
    "    \"Artery-Aorta\":\"salmon\",\n",
    "    \"Artery-Tibial\": \"red\",\n",
    "    \"Adipose-Subcutaneous\": \"darkorange\",    \n",
    "    \"Adipose-Visceral(Omentum)\":\"orange\",\n",
    "    \"Brain-Caudate(basalganglia)\":\"lemonchiffon\"   , \n",
    "    \"Brain-Cerebellum\":\"yellow\",\n",
    "    \"Cells-Transformedfibroblasts\": \"skyblue\",\n",
    "    \"Esophagus-Mucosa\": \"sienna\",\n",
    "    \"Esophagus-Muscularis\":\"burlywood\",\n",
    "    \"Heart-LeftVentricle\":\"darkviolet\",\n",
    "    \"Lung\": \"greenyellow\",\n",
    "    \"Muscle-Skeletal\": \"mediumslateblue\",\n",
    "    \"Nerve-Tibial\":\"gold\",\n",
    "    \"Skin-NotSunExposed(Suprapubic)\":\"blue\",\n",
    "    \"Skin-SunExposed(Lowerleg)\":\"cornflowerblue\",\n",
    "    \"Thyroid\":\"green\",\n",
    "    \"WholeBlood\": \"m\",\n",
    "    \"permuted\": \"gray\"\n",
    "}\n",
    "\n",
    "#    \"Thyroid\": \"green\",\n",
    "SHORTEN = {\n",
    "    \"Artery-Aorta\":\"Artery.A\"     ,\n",
    "    \"Artery-Tibial\": \"Artery.T\",\n",
    "    \"Adipose-Subcutaneous\": \"Adipose.S\",    \n",
    "    \"Adipose-Visceral(Omentum)\":\"Adipose.V\",\n",
    "    \"Brain-Caudate(basalganglia)\":\"Caudate\"   , \n",
    "    \"Brain-Cerebellum\":\"Cerebellum\",\n",
    "    \"Cells-Transformedfibroblasts\": \"Fibroblast\",\n",
    "    \"Esophagus-Mucosa\": \"Mucosa\",\n",
    "    \"Esophagus-Muscularis\":\"Muscularis\",\n",
    "    \"Heart-LeftVentricle\":\"Ventricule\",\n",
    "    \"Lung\": \"Lung\",\n",
    "    \"Muscle-Skeletal\": \"Muscle\",\n",
    "    \"Nerve-Tibial\":\"Nerve\",\n",
    "    \"Skin-NotSunExposed(Suprapubic)\": \"SkinUnexposed\",\n",
    "    \"Skin-SunExposed(Lowerleg)\":\"SkinLeg\",\n",
    "    \"Thyroid\":\"Thyroid\",\n",
    "    \"WholeBlood\": \"Blood\",\n",
    "    \"permuted\":\"Permuted\",\n",
    "    \"LCL\": \"LCL\"\n",
    "}\n",
    "\n",
    "GENE = '/storage/szfeupe/Runs/GTEx_estr/FEATURES/Genes_only_table'\n",
    "PATH= \"/storage/szfeupe/Runs/650GTEx_estr/Analysis_by_Tissue/\"\n",
    "TISSUES = sorted([item for item in list(COLORS.keys()) if item != \"permuted\"])\n",
    "motif='/storage/resources/dbase/human/hg19/hg19.hipstr_reference_withmotif.bed'"
   ]
  },
  {
   "cell_type": "code",
   "execution_count": 4,
   "metadata": {
    "collapsed": false,
    "scrolled": true
   },
   "outputs": [
    {
     "name": "stdout",
     "output_type": "stream",
     "text": [
      "87891 \t (89629, 4) \t 1789 \t Adipose-Subcutaneous\n",
      "87912 \t (90740, 4) \t 888 \t Adipose-Visceral(Omentum)\n",
      "86353 \t (91326, 4) \t 1139 \t Artery-Aorta\n",
      "85366 \t (91420, 4) \t 1689 \t Artery-Tibial\n",
      "87076 \t (93517, 4) \t 251 \t Brain-Caudate(basalganglia)\n",
      "87179 \t (94316, 4) \t 643 \t Brain-Cerebellum\n",
      "83075 \t (94509, 4) \t 1518 \t Cells-Transformedfibroblasts\n",
      "90840 \t (97786, 4) \t 1680 \t Esophagus-Mucosa\n",
      "87608 \t (97896, 4) \t 1374 \t Esophagus-Muscularis\n",
      "84416 \t (97969, 4) \t 809 \t Heart-LeftVentricle\n",
      "89448 \t (98157, 4) \t 1412 \t Lung\n",
      "84241 \t (98215, 4) \t 1665 \t Muscle-Skeletal\n",
      "88752 \t (98291, 4) \t 2191 \t Nerve-Tibial\n",
      "89011 \t (98497, 4) \t 1101 \t Skin-NotSunExposed(Suprapubic)\n",
      "89048 \t (98509, 4) \t 1955 \t Skin-SunExposed(Lowerleg)\n",
      "89139 \t (98671, 4) \t 2033 \t Thyroid\n",
      "81939 \t (98671, 4) \t 1243 \t WholeBlood\n",
      "Number of egenes...  (9446, 91)\n",
      "Number of egenes by locus...  (19566, 91)\n",
      "\n",
      "Nbr of eGenes in more than 1 tissues  (3663, 91)\n",
      "Nbr of eGenes by locus in more than 1 tissues  (8768, 91)\n",
      "\n",
      "egenes in at least 10 tissues  (319, 91)\n",
      "egenes in at least 10 tissues (locus) (1090, 91)\n",
      "(1620037, 5)\n",
      "(98671, 94) (3416, 94)\n"
     ]
    }
   ],
   "source": [
    "#Linear regression QVALUES\n",
    "#\n",
    "GENES = pd.read_csv(GENE, sep='\\t')\n",
    "col=['chrom','str.start','str.id','gene']\n",
    "SUMMARY = pd.read_csv(PATH +'WholeBlood/PQValues', sep = '\\t')[col]\n",
    "estrs = []\n",
    "SUM = {}\n",
    "#Merging by tissues \n",
    "for T in TISSUES:\n",
    "    table = pd.read_csv(PATH +T+'/PQValues', sep = '\\t')\n",
    "    table['eSTR.'+SHORTEN[T]+'.ll'] = np.where(table['llqvalue']<=0.1, 1, 0)  #10%fdr at locus level\n",
    "    table['eSTR.'+SHORTEN[T]] = np.where(table['qvalue']<=0.1, 1, 0)\n",
    "    table['qval.'+SHORTEN[T]] = table['qvalue'].astype(float)\n",
    "    table['llqval.'+SHORTEN[T]] = table['llqvalue'].astype(float)\n",
    "    table['beta.'+SHORTEN[T]] = table['beta'].astype(float)\n",
    "    table = table[col + ['eSTR.'+SHORTEN[T], 'eSTR.'+SHORTEN[T]+'.ll', 'qval.'+SHORTEN[T],'llqval.'+SHORTEN[T],'beta.'+SHORTEN[T]]]\n",
    "    table['str.start'].astype(int)\n",
    "    table['chrom'].astype(str)\n",
    "    #estrs.append('eSTR.'+SHORTEN[T])\n",
    "    SUM[T]=table\n",
    "    table['eSTR.'+SHORTEN[T]] = table['eSTR.'+SHORTEN[T]].astype(int)\n",
    "    SUMMARY = pd.merge(SUMMARY,table[col], on=col, how='outer').drop_duplicates().reset_index(drop=True)\n",
    "    print(table.shape[0],'\\t',SUMMARY.shape,'\\t',table.loc[table['eSTR.'+SHORTEN[T]]==1].shape[0],'\\t', T)\n",
    "\n",
    "SUMMARY = SUMMARY.sort_values(['chrom','gene', 'str.start']).reset_index(drop=True)\n",
    "SUMMARY['E.tissues']=[0]*SUMMARY.shape[0]\n",
    "SUMMARY['ll.E.tissues']=[0]*SUMMARY.shape[0]\n",
    "for T in TISSUES :\n",
    "    SUMMARY = pd.merge(SUMMARY.fillna(0), SUM[T], how='left',on=col)\n",
    "    SUMMARY['E.tissues'] = SUMMARY['E.tissues'].fillna(0) + SUMMARY['eSTR.'+SHORTEN[T]]\n",
    "    SUMMARY['ll.E.tissues'] = SUMMARY['ll.E.tissues'].fillna(0) + SUMMARY['eSTR.'+SHORTEN[T]+'.ll']\n",
    "\n",
    "\n",
    "print('Number of egenes... ',SUMMARY.loc[SUMMARY['E.tissues']>=1].shape)\n",
    "print('Number of egenes by locus... ',SUMMARY.loc[SUMMARY['ll.E.tissues']>=1].shape)\n",
    "print('\\nNbr of eGenes in more than 1 tissues ',SUMMARY.loc[SUMMARY['E.tissues']>=2].shape)\n",
    "print('Nbr of eGenes by locus in more than 1 tissues ',SUMMARY.loc[SUMMARY['ll.E.tissues']>=2].shape)\n",
    "print('\\negenes in at least 10 tissues ',SUMMARY.loc[SUMMARY['E.tissues']>=10].shape)\n",
    "print('egenes in at least 10 tissues (locus)',SUMMARY.loc[SUMMARY['ll.E.tissues']>=10].shape)\n",
    "\n",
    "add_info = pd.read_csv(motif, sep='\\t', header=None)\n",
    "add_info.columns=['chrom','str.start','str.end','period','motif']\n",
    "print(add_info.shape)\n",
    "\n",
    "SUMMARY = pd.merge(SUMMARY, add_info, on=['chrom','str.start'], how='inner')\n",
    "\n",
    "e_homopolymers = SUMMARY.loc[(SUMMARY['E.tissues']>=1) & (SUMMARY['period']==1)]\n",
    "\n",
    "print(SUMMARY.shape, e_homopolymers.shape)\n",
    "\n",
    "SUMMARY.to_csv('/storage/szfeupe/Runs/650GTEx_estr/Analysis_by_Tissue/LR_SummaryTest_Table.tsv', sep='\\t', index=False)\n"
   ]
  },
  {
   "cell_type": "code",
   "execution_count": 8,
   "metadata": {
    "collapsed": false,
    "scrolled": true
   },
   "outputs": [
    {
     "name": "stdout",
     "output_type": "stream",
     "text": [
      "1 \t (3416, 94)\n",
      "2 \t (2907, 94)\n",
      "3 \t (594, 94)\n",
      "4 \t (1767, 94)\n",
      "5 \t (508, 94)\n",
      "6 \t (254, 94)\n"
     ]
    }
   ],
   "source": [
    "#Number of eSTRs by STR unit size\n",
    "for i in range(1,7,1):\n",
    "    h = SUMMARY.loc[(SUMMARY['E.tissues']>=1) & (SUMMARY['period']==i)].shape[0]\n",
    "    for T in TISSUES:\n",
    "        SUMMARY.loc[(SUMMARY['E.tissues']>=1) & (SUMMARY['period']==i)]\n",
    "    "
   ]
  },
  {
   "cell_type": "code",
   "execution_count": null,
   "metadata": {
    "collapsed": false
   },
   "outputs": [],
   "source": []
  },
  {
   "cell_type": "code",
   "execution_count": null,
   "metadata": {
    "collapsed": false
   },
   "outputs": [],
   "source": [
    "SUMMARY.loc[SUMMARY['gene']=='ENSG00000000460.12']"
   ]
  },
  {
   "cell_type": "code",
   "execution_count": null,
   "metadata": {
    "collapsed": false
   },
   "outputs": [],
   "source": [
    "see=0 #Add the Alleles \n",
    "see=pd.read_csv('/storage/szfeupe/Runs/GTEx_estr/STR_Locus_Alleles.tsv', sep='\\t')#q, header=None)\n",
    "#see.columns=['chrom','str.start', \"allele.REF\",'allele.ALT','motif_len','ref_counts']\n",
    "see['str.id']='str_'+see['str.start'].astype(str)\n",
    "C=['chrom','str.start','str.id',\"allele.REF\",'allele.ALT','motif_len','ref_counts']\n",
    "See=see[C]\n",
    "del See['str.id']\n",
    "cols = ['chrom','str.start']\n",
    "OUTs = pd.merge(OUT, See, how='left',on=cols)\n",
    "del OUTs['ID']\n",
    "OUTs.shape"
   ]
  },
  {
   "cell_type": "code",
   "execution_count": null,
   "metadata": {
    "collapsed": false
   },
   "outputs": [],
   "source": [
    "cols=['chrom','str.start','str.id','gene','ID']\n",
    "#Merge to add beta and pvalues by tissue\n",
    "OUT1 = pd.merge(OUTs, wb, how='left',on=cols[:4])\n",
    "OUT2 = pd.merge(OUT1, ads, how='left',on=cols) ; OUT1=0\n",
    "OUT1 = pd.merge(OUT2, ctf, how='left',on=cols) ; OUT2=0\n",
    "OUT2 = pd.merge(OUT1, esm, how='left',on=cols) ; OUT1=0\n",
    "OUT1 = pd.merge(OUT2, ms, how='left',on=cols)  ; OUT2=0\n",
    "OUT2 = pd.merge(OUT1, lng, how='left',on=cols) ; OUT1=0\n",
    "OUT1 = pd.merge(OUT2, art, how='left',on=cols)\n",
    "OUT1.shape"
   ]
  },
  {
   "cell_type": "code",
   "execution_count": null,
   "metadata": {
    "collapsed": false
   },
   "outputs": [],
   "source": [
    "#Merge to add qvalues and eSTRs by tissue\n",
    "OUT3 = pd.merge(OUT1, wbp, how='left',on=cols)\n",
    "OUT2 = pd.merge(OUT3, adsp, how='left',on=cols) ; OUT3=0\n",
    "OUT3 = pd.merge(OUT2, ctfp, how='left',on=cols) ; OUT2=0\n",
    "OUT2 = pd.merge(OUT3, esmp, how='left',on=cols) ; OUT3=0\n",
    "OUT3 = pd.merge(OUT2, msp, how='left',on=cols)  ; OUT2=0\n",
    "OUT2 = pd.merge(OUT3, lngp, how='left',on=cols) ; OUT3=0\n",
    "OUT3 = pd.merge(OUT2, artp, how='left',on=cols)\n",
    "OUT3.shape"
   ]
  },
  {
   "cell_type": "code",
   "execution_count": null,
   "metadata": {
    "collapsed": false
   },
   "outputs": [],
   "source": [
    "#Label estrs and non estrs by tissue\n",
    "OUT3['Blood_eSTR?'][OUT3['Blood_eSTR?']!=1] = 0\n",
    "OUT3['AdipSub_eSTR?'][OUT3['AdipSub_eSTR?']!=1] = 0\n",
    "OUT3['ArteryT_eSTR?'][OUT3['ArteryT_eSTR?']!=1] = 0\n",
    "OUT3['Esophagus_eSTR?'][OUT3['Esophagus_eSTR?']!=1] = 0\n",
    "OUT3['Fibroblast_eSTR?'][OUT3['Fibroblast_eSTR?']!=1] = 0\n",
    "OUT3['Lung_eSTR?'][OUT3['Lung_eSTR?']!=1] = 0\n",
    "OUT3['MuscleS_eSTR?'][OUT3['MuscleS_eSTR?']!=1] = 0\n",
    "OUT3['eSTR_In_tissues'] = OUT3['Blood_eSTR?']+OUT3['Fibroblast_eSTR?']+OUT3['Lung_eSTR?']+OUT3['MuscleS_eSTR?']+OUT3['AdipSub_eSTR?']+OUT3['ArteryT_eSTR?']+OUT3['Esophagus_eSTR?'] \n",
    "OUT3.to_csv('/storage/szfeupe/Runs/GTEx_estr/Analysis_by_Tissue/SUMMARY/LR_SummaryTest_Table.tsv', sep='\\t', index=False)\n",
    "#& (OUT3['Blood_eSTR?']==1)& (OUT3['MuscleS_eSTR?']==1)]"
   ]
  },
  {
   "cell_type": "code",
   "execution_count": null,
   "metadata": {
    "collapsed": false
   },
   "outputs": [],
   "source": [
    "#OUT3['Estrs']=OUT3['Fibroblast_eSTR?']+OUT3['Blood_eSTR?']+OUT3['MuscleS_eSTR?']+OUT3['Lung_eSTR?']+OUT3['Esophagus_eSTR?']+OUT3['ArteryT_eSTR?']+OUT3['AdipSub_eSTR?']\n",
    "Gene_table = pd.read_csv('/storage/szfeupe/Runs/GTEx_estr/FEATURES/Genes_only_table', sep='\\t')\n",
    "OUT = pd.merge(OUT3, Gene_table[[\"gene\",\"chrom\",\"gene.name\"]], on=[\"chrom\",\"gene\"])\n",
    "#OUT3=OUT\n",
    "OUT4=OUT.loc[OUT['eSTR_In_tissues']>=1]\n",
    "OUT4.to_csv('/storage/szfeupe/Runs/GTEx_estr/eSTRs_Tests_Table.tsv', index=False)\n",
    "\n",
    "OUT.to_csv('/storage/szfeupe/Runs/GTEx_estr/LR_SummaryTest_Table.tsv', sep='\\t', index=False)\n",
    "print('PP')\n",
    "print(OUT4.shape)\n",
    "OUT3.loc[(OUT3['eSTR_In_tissues']>=7)]"
   ]
  },
  {
   "cell_type": "code",
   "execution_count": null,
   "metadata": {
    "collapsed": false
   },
   "outputs": [],
   "source": [
    "OUT.loc[OUT[\"eSTR_In_tissues\"]>=1].shape"
   ]
  },
  {
   "cell_type": "code",
   "execution_count": null,
   "metadata": {
    "collapsed": false
   },
   "outputs": [],
   "source": [
    "#(2) in permuted\n",
    "idx=list(LR.index)\n",
    "#LRp1 = LRp.loc[LRp['gene'].isin(list(LR['gene'])) & LRp['str.id'].isin(list(LR['str.id']))]\n",
    "LRp1=LRp.loc[idx]\n",
    "\n",
    "#select qqplot axis\n",
    "X= LR['logpval']\n",
    "Y= LRp1['logpval']\n",
    "\n",
    "plt.figure(1)\n",
    "#plot qqplot\n",
    "sm.qqplot(X, line='45')\n",
    "sm.qqplot(Y, line='45')\n",
    "smg.gofplots.qqplot_2samples(X,Y, line='q', xlabel='Observed (log(pval))', ylabel='Permuted (log(pval))')\n",
    "pylab.show()\n",
    "#\n",
    "plt.scatter(X, Y)\n",
    "plt.ylabel('Observed')\n",
    "plt.xlabel('Permuted')\n",
    "plt.show()\n"
   ]
  },
  {
   "cell_type": "code",
   "execution_count": null,
   "metadata": {
    "collapsed": false
   },
   "outputs": [],
   "source": [
    "##This code summarises the Anova results and prepare file for anovapvalue qqplot \n",
    "##\n",
    "import matplotlib.pyplot as plt\n",
    "import pandas as pd\n",
    "import numpy as np\n",
    "import scipy.stats as ss\n",
    "\n",
    "Tissue=\"WholeBlood\"\n",
    "##delta_bic = snp_bic - snpstr_bic        ##delta_aic = snp_aic - snpstr_aic \n",
    "##              the lower tht aic or bic the closer the data is to the model\n",
    "print('Summary for '+Tissue+' ...\\n')\n",
    "\n",
    "#FDR \n",
    "pval = pd.read_csv(\"/storage/szfeupe/Runs/GTEx_estr/Analysis_by_Tissue/\"+Tissue+\"/PQValues.txt\", sep='\\t')\n",
    "pval = pval.loc[pval['qvalue']<=0.05]  ##eSTRs at 10% FDR\n",
    "print(pval.shape[0],' eSTRs at 10% FDR')\n",
    "\n",
    "#Anova output \n",
    "hh = pd.read_csv(\"/storage/szfeupe/Runs/GTEx_estr/Analysis_by_Tissue/\"+Tissue+\"/HH/Anova_wg_old.csv\", sep=',')\n",
    "hh1 = hh.loc[hh['gene'].isin(pval['gene'])] \n",
    "print(hh1.shape[0], ' eSTRs and their anova p-values')\n",
    "\n",
    "hh1['st1']=[0]*len(hh1)\n",
    "hh1['st2']=[0]*len(hh1)\n",
    "hh1['st1'][hh1['delta_aic']>0] = 1\n",
    "hh1['st2'][hh1['delta_bic']>0] = 2\n",
    "hh1['strprefer']=hh1['st1']+hh1['st2']\n",
    "\n",
    "\n",
    "hh1.to_csv(\"/storage/szfeupe/Runs/GTEx_estr/Analysis_by_Tissue/\"+Tissue+\"/HH/ESTRs_Anova\", sep='\\t', index=False)\n",
    "\n",
    "hh1"
   ]
  },
  {
   "cell_type": "code",
   "execution_count": null,
   "metadata": {
    "collapsed": false
   },
   "outputs": [],
   "source": [
    "print(OUT3.loc[(OUT3['Blood_eSTR?']==1) & (OUT3['eSTR_In_tissues']==7)].shape)\n",
    "print(OUT3.loc[(OUT3['AdipSub_eSTR?']==1) & (OUT3['eSTR_In_tissues']==7)].shape)\n",
    "print(OUT3.loc[(OUT3['ArteryT_eSTR?']==1) & (OUT3['eSTR_In_tissues']>=5)].shape)\n",
    "print(OUT3.loc[(OUT3['Esophagus_eSTR?']==1) & (OUT3['eSTR_In_tissues']>=5)].shape)\n",
    "print(OUT3.loc[(OUT3['Fibroblast_eSTR?']==1) & (OUT3['eSTR_In_tissues']>=5)].shape)\n",
    "print(OUT3.loc[(OUT3['Lung_eSTR?']==1) & (OUT3['eSTR_In_tissues']>=5)].shape)\n",
    "print(OUT3.loc[(OUT3['MuscleS_eSTR?']==1) & (OUT3['eSTR_In_tissues']>=5)].shape)"
   ]
  },
  {
   "cell_type": "code",
   "execution_count": null,
   "metadata": {
    "collapsed": true
   },
   "outputs": [],
   "source": [
    "\n",
    "#wholeblood\n",
    "wb = pd.read_csv('/storage/szfeupe/Runs/GTEx_estr/Analysis_by_Tissue/WholeBlood/Lin_Reg_OutFin.txt', sep='\\t')\n",
    "wb['ID']=wb['gene']+wb['str.id']\n",
    "wb = wb[col]; wb.columns=['chrom','str.start','str.id','gene','ID','beta_blood','blood_pval']\n",
    "#adipose subcutaneous\n",
    "ads= pd.read_csv('/storage/szfeupe/Runs/GTEx_estr/Analysis_by_Tissue/Adipose-Subcutaneous/Lin_Reg_OutFin.txt', sep='\\t')\n",
    "ads['ID']=ads['gene']+ads['str.id']\n",
    "ads = ads[col]; ads.columns=['chrom','str.start','str.id','gene','ID','beta_AdipSub','AdipSub_pval']\n",
    "#cell T Fibroblast\n",
    "ctf= pd.read_csv('/storage/szfeupe/Runs/GTEx_estr/Analysis_by_Tissue/Cells-Transformedfibroblasts/Lin_Reg_OutFin.txt', sep='\\t')\n",
    "ctf['ID']=ctf['gene']+ctf['str.id']\n",
    "ctf = ctf[col]; ctf.columns=['chrom','str.start','str.id','gene','ID','beta_Fibroblast','Fibroblast_pval']\n",
    "#Esophagus mucosa\n",
    "esm= pd.read_csv('/storage/szfeupe/Runs/GTEx_estr/Analysis_by_Tissue/Esophagus-Mucosa/Lin_Reg_OutFin.txt', sep='\\t')\n",
    "esm['ID']=esm['gene']+esm['str.id']\n",
    "esm = esm[col]; esm.columns=['chrom','str.start','str.id','gene','ID','beta_Esophag','Esophag_pval']\n",
    "#Muscle Skeletal\n",
    "ms = pd.read_csv('/storage/szfeupe/Runs/GTEx_estr/Analysis_by_Tissue/Muscle-Skeletal/Lin_Reg_OutFin.txt', sep='\\t')\n",
    "ms['ID']=ms['gene']+ms['str.id']\n",
    "ms = ms[col] ; ms.columns=['chrom','str.start','str.id','gene','ID','beta_MuscleS','MuscleS_pval']\n",
    "#Lung\n",
    "lng= pd.read_csv('/storage/szfeupe/Runs/GTEx_estr/Analysis_by_Tissue/Lung/Lin_Reg_OutFin.txt', sep='\\t')\n",
    "lng['ID']=lng['gene']+lng['str.id']\n",
    "lng = lng[col]; lng.columns=['chrom','str.start','str.id','gene','ID','beta_Lung','Lung_pval']\n",
    "#Arterial Tibial\n",
    "art= pd.read_csv('/storage/szfeupe/Runs/GTEx_estr/Analysis_by_Tissue/Artery-Tibial/Lin_Reg_OutFin.txt', sep='\\t')\n",
    "art['ID']=art['gene']+art['str.id']\n",
    "art = art[col]; art.columns=['chrom','str.start','str.id','gene','ID','beta_ArteryT','ArteryT_pval']\n",
    "rows=['chrom','str.start','str.id','gene','ID']\n",
    "OUT=pd.concat([wb[rows],ads[rows],ctf[rows],esm[rows],ms[rows],lng[rows],art[rows]]).drop_duplicates().reset_index(drop=True)\n",
    "print(wb.shape[0], ads.shape[0],ctf.shape[0], esm.shape[0],ms.shape[0],lng.shape[0],art.shape[0])\n",
    "#\n",
    "#FDR_correction\n",
    "#wbp['Blood_eSTR?'] = np.where(wbp['qvalue']<=0.1, 1, 0)\n",
    "\n",
    "wbp = pd.read_csv('/storage/szfeupe/Runs/GTEx_estr/Analysis_by_Tissue/WholeBlood/PQValues.txt', sep='\\t')\n",
    "wbp['Blood_eSTR?']= np.where(wbp['qvalue']<=0.1, 1, 0); wbp['ID']=wbp['gene']+wbp['str.id'] ;wbp['blood_qval']=wbp['qvalue']\n",
    "Col=['chrom','str.start','str.id','gene','ID', 'blood_qval', 'Blood_eSTR?']; wbp=wbp[Col]\n",
    "print('Whole blood',wbp.shape[0])\n",
    "adsp= pd.read_csv('/storage/szfeupe/Runs/GTEx_estr/Analysis_by_Tissue/Adipose-Subcutaneous/PQValues.txt', sep='\\t')\n",
    "adsp['AdipSub_eSTR?']= np.where(adsp['qvalue']<=0.1, 1, 0);  adsp['ID']= adsp['gene']+ adsp['str.id']; adsp['AdipSub_qval']=  adsp['qvalue']\n",
    "Col=['chrom','str.start','str.id','gene','ID', 'AdipSub_qval', 'AdipSub_eSTR?']; adsp=adsp[Col]\n",
    "print('Adipose Subcutanous',adsp.shape[0])\n",
    "ctfp= pd.read_csv('/storage/szfeupe/Runs/GTEx_estr/Analysis_by_Tissue/Cells-Transformedfibroblasts/PQValues.txt', sep='\\t')\n",
    "ctfp['Fibroblast_eSTR?']= np.where(ctfp['qvalue']<=0.1, 1, 0);  ctfp['ID']= ctfp['gene']+ ctfp['str.id']; ctfp['Fibroblast_qval']=  ctfp['qvalue']\n",
    "Col=['chrom','str.start','str.id','gene','ID', 'Fibroblast_qval', 'Fibroblast_eSTR?']; ctfp= ctfp[Col]\n",
    "print('Cell Fibroblast',ctfp.shape[0])\n",
    "esmp= pd.read_csv('/storage/szfeupe/Runs/GTEx_estr/Analysis_by_Tissue/Esophagus-Mucosa/PQValues.txt', sep='\\t')\n",
    "esmp['Esophagus_eSTR?']= np.where(esmp['qvalue']<=0.1, 1, 0); esmp['ID']= esmp['gene']+ esmp['str.id']; esmp['Esophagus_qval']=  esmp['qvalue']\n",
    "Col=['chrom','str.start','str.id','gene','ID', 'Esophagus_qval', 'Esophagus_eSTR?']; esmp = esmp[Col]\n",
    "print('Esophagous Mucosa',esmp.shape[0])\n",
    "msp = pd.read_csv('/storage/szfeupe/Runs/GTEx_estr/Analysis_by_Tissue/Muscle-Skeletal/PQValues.txt', sep='\\t')\n",
    "msp['MuscleS_eSTR?']= np.where(msp['qvalue']<=0.1, 1, 0);  msp['ID']=  msp['gene']+  msp['str.id'];  msp['MuscleS_qval']= msp['qvalue']\n",
    "Col=['chrom','str.start','str.id','gene','ID', 'MuscleS_qval', 'MuscleS_eSTR?']; msp = msp[Col]\n",
    "print('Muscle skeletal',msp.shape[0])\n",
    "lngp= pd.read_csv('/storage/szfeupe/Runs/GTEx_estr/Analysis_by_Tissue/Lung/PQValue.tsv', sep='\\t')\n",
    "lngp['Lung_eSTR?']= np.where(lngp['qvalue']<=0.1, 1, 0);   lngp['ID']=  lngp['gene']+  lngp['str.id'];  lngp['Lung_qval']= lngp['qvalue']\n",
    "Col=['chrom','str.start','str.id','gene','ID', 'Lung_qval', 'Lung_eSTR?']; lngp = lngp[Col]\n",
    "print('Lungs', lngp.shape[0])\n",
    "artp= pd.read_csv('/storage/szfeupe/Runs/GTEx_estr/Analysis_by_Tissue/Artery-Tibial/PQValues.txt', sep='\\t')\n",
    "artp['ArteryT_eSTR?']=  np.where(artp['qvalue']<=0.1, 1, 0); artp['ID']= artp['gene']+ artp['str.id']; artp['ArteryT_qval']= artp['qvalue']\n",
    "Col=['chrom','str.start','str.id','gene','ID', 'ArteryT_qval', 'ArteryT_eSTR?'];  artp= artp[Col]\n",
    "print('Artery tibial', artp.shape[0])\n",
    "OUT['str.start'] = OUT['str.start'].astype(int)\n",
    "OUT.shape"
   ]
  }
 ],
 "metadata": {
  "kernelspec": {
   "display_name": "Python 3",
   "language": "python",
   "name": "python3"
  },
  "language_info": {
   "codemirror_mode": {
    "name": "ipython",
    "version": 3
   },
   "file_extension": ".py",
   "mimetype": "text/x-python",
   "name": "python",
   "nbconvert_exporter": "python",
   "pygments_lexer": "ipython3",
   "version": "3.4.5"
  }
 },
 "nbformat": 4,
 "nbformat_minor": 2
}
