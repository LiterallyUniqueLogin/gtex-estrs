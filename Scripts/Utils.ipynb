{
 "cells": [
  {
   "cell_type": "markdown",
   "metadata": {},
   "source": [
    "This code will create a file with all the linear regression output\n",
    "The output files can then be use to create a qqplot based on genomewide data vs by chr\n",
    "Just change the Tissue path to obtain the results"
   ]
  },
  {
   "cell_type": "code",
   "execution_count": 2,
   "metadata": {
    "collapsed": false
   },
   "outputs": [
    {
     "name": "stdout",
     "output_type": "stream",
     "text": [
      "\n",
      " All Chrms      (19659, 12)\n",
      "Continuing...\n",
      "\n",
      " All Chrms      (19659, 12)\n",
      "THE END\n"
     ]
    }
   ],
   "source": [
    "import matplotlib.pyplot as plt\n",
    "import pandas as pd\n",
    "\n",
    "Frames=[pd.read_csv('/storage/szfeupe/Runs/GTEx_estr/Analysis_by_Tissue/Skin-SunExposed/chr1/Lin_Reg_Out',sep='\\t')]\n",
    "for x in range(2,23):\n",
    "    LN='/storage/szfeupe/Runs/GTEx_estr/Analysis_by_Tissue/Skin-SunExposed/chr'+str(x)+'/Lin_Reg_Out'\n",
    "    frame1=pd.read_csv(LN, sep='\\t')\n",
    "    Frames.append(frame1)\n",
    "#    print('Chr',x,'    ',frame1.shape)\n",
    "Results=pd.concat(Frames)\n",
    "print('\\n All Chrms ','   ', Results.shape)\n",
    "Results.to_csv('/storage/szfeupe/Runs/GTEx_estr/Analysis_by_Tissue/Skin-SunExposed/Lin_Reg_Out', sep='\\t', header=True)\n",
    "print('Continuing...')\n",
    "\n",
    "Frames=[pd.read_csv('/storage/szfeupe/Runs/GTEx_estr/Analysis_by_Tissue/Skin-SunExposed/chr1/Lin_Reg_Out_perm',sep='\\t')]\n",
    "for x in range(2,23):\n",
    "    LN='/storage/szfeupe/Runs/GTEx_estr/Analysis_by_Tissue/Skin-SunExposed/chr'+str(x)+'/Lin_Reg_Out_perm'\n",
    "    frame1=pd.read_csv(LN, sep='\\t')\n",
    "    Frames.append(frame1)\n",
    "#    print('Chr',x,'    ',frame1.shape)\n",
    "Results=pd.concat(Frames)\n",
    "print('\\n All Chrms ','   ', Results.shape)\n",
    "Results.to_csv('/storage/szfeupe/Runs/GTEx_estr/Analysis_by_Tissue/Skin-SunExposed/Lin_Reg_Out_perm', sep='\\t', header=True)\n",
    "\n",
    "print('THE END')\n"
   ]
  },
  {
   "cell_type": "markdown",
   "metadata": {},
   "source": [
    "This code is targeted at comparing the intercept from previous and current analysis\n",
    "I will start with only chr1"
   ]
  },
  {
   "cell_type": "code",
   "execution_count": 11,
   "metadata": {
    "collapsed": false,
    "scrolled": true
   },
   "outputs": [
    {
     "name": "stdout",
     "output_type": "stream",
     "text": [
      "19353  old\t 20045  new\n"
     ]
    }
   ],
   "source": [
    "import matplotlib.pyplot as plt\n",
    "import pandas as pd\n",
    "\n",
    "##Get IDs\n",
    "##Get old estr data #V1 V2 V3 V4 ... V17\n",
    "#oldestr = pd.read_csv('/storage/szfeupe/Runs/GTEx_estr/2016_estrs_table.csv',sep=',')\n",
    "#chr1str = oldestr #.loc[oldestr['chrom'].isin(['chr6'])]\n",
    "chr1str = pd.read_csv('/storage/szfeupe/Runs/GTEx_estr/Analysis_by_Tissue/Adipose-Subcutaneous/Lin_Reg_Out', sep='\\t')\n",
    "##G1 = chr1str.loc[chr1str['gene'].isin(['ENSG00000188976'])]       ##Testing old\n",
    "\n",
    "##Get current estr data\n",
    "newestr = pd.read_csv('/storage/szfeupe/Runs/GTEx_estr/Analysis_by_Tissue/WholeBlood/Lin_Reg_Out',sep='\\t')\n",
    "##newestr = newestr.sort(columns='str.start', ascending=True)\n",
    "##print(newestr)\n",
    "#G2 = [x.split('.')[0] for x in list(newestr['gene'])]           ##Reformat gene name without version\n",
    "#newestr['gene']=G2\n",
    "\n",
    "##only select gene present in both dataset\n",
    "chr1str1 = newestr.loc[newestr['gene'].isin(chr1str['gene'])]     #New data in old\n",
    "chr1str0 = chr1str.loc[chr1str['gene'].isin(chr1str1['gene'])]    #Old data in new\n",
    "##G2 = chr1str1.loc[chr1str1['gene'].isin(['ENSG00000188976'])]     ##Testing new\n",
    "print(len(chr1str0), ' old\\t',len(chr1str1),' new' )\n",
    "##adjusting tart position in old data\n",
    "#chr1str0['str.start'] = chr1str0['str.start']-1  #Adjusting hipstr n lobstr POS\n",
    "\n",
    "#Comparing\n",
    "#X_o = chr1str0.loc[chr1str0['str.start'].isin(chr1str1['str.start'])]\n",
    "#X_o = X_o.sort(columns='gene', ascending=True)\n",
    "\n",
    "#print(len(X_o))\n",
    "#X_o = X_o[X_o['signif.estr'] & X_o['best_str']]\n",
    "#X_o = X_o[X_o['p.wald']<0.001]\n",
    "\n",
    "\n",
    "#X_n = chr1str1.loc[chr1str1['str.start'].isin(X_o['str.start'])] #& chr1str1.loc[chr1str1['gene'].isin(X_o['gene'])] ]\n",
    "#X_n = X_n.sort(columns='gene', ascending=True)\n",
    "#print(len(X_o), '--------',len(X_n))\n",
    "\n",
    "\n",
    "\n",
    "\n",
    "\n",
    "\n",
    "\n",
    "#Select 3 col of interest \n",
    "Int=['gene', 'str.start', 'beta','p.wald']\n",
    "G0= chr1str0.loc[:,Int]      #X_o.loc[:,Int]\n",
    "GN= chr1str1.loc[:,Int]      #X_n.loc[:,Int]\n",
    "#print(len(X_o))\n",
    "#print(G0)"
   ]
  },
  {
   "cell_type": "code",
   "execution_count": 12,
   "metadata": {
    "collapsed": false
   },
   "outputs": [
    {
     "name": "stdout",
     "output_type": "stream",
     "text": [
      "104 \t 19353\n",
      "101\n"
     ]
    }
   ],
   "source": [
    "#G0=  G0[G0['p.wald']<0.001]\n",
    "GN=  GN[GN['p.wald']<0.001]\n",
    "newrows={x['gene']+'-'+str(int(x['str.start'])) : x['beta'] for y,x in GN.iterrows()}\n",
    "oldrows={x['gene']+'-'+str(int(x['str.start'])): x['beta'] for y,x in G0.iterrows()}\n",
    "print(len(newrows.keys()), '\\t',len(oldrows.keys()))\n",
    "Key = [x for x in newrows.keys() if x in oldrows.keys()]\n",
    "print (len(Key))\n",
    "Xn = [newrows[x] for x in Key]\n",
    "Yo = [oldrows[x] for x in Key]\n",
    "#print(GN)"
   ]
  },
  {
   "cell_type": "code",
   "execution_count": 14,
   "metadata": {
    "collapsed": false
   },
   "outputs": [
    {
     "data": {
      "image/png": "[encoded data removed]",
      "text/plain": [
       "<matplotlib.figure.Figure at 0x7fb356f174a8>"
      ]
     },
     "metadata": {},
     "output_type": "display_data"
    }
   ],
   "source": [
    "#WB vs nature paper on chr6\n",
    "plt.scatter(Xn,Yo,color='magenta',marker='o',)\n",
    "plt.xlim(-0.7, 0.7)\n",
    "plt.ylim(-0.7, 0.7)\n",
    "plt.ylabel('GTEx intercepts from Whole Blood')\n",
    "plt.xlabel('GTEx effect sizes from Adipose Subcutaneous')\n",
    "plt.title('Effect sizes agree for 79.21% accross these 2 tissues, restricted to significant STR in Blood')\n",
    "plt.axis('equal')\n",
    "plt.axhline(y=0)\n",
    "plt.axvline(x=0)\n",
    "plt.grid()\n",
    "plt.show()"
   ]
  },
  {
   "cell_type": "code",
   "execution_count": 13,
   "metadata": {
    "collapsed": false
   },
   "outputs": [
    {
     "name": "stdout",
     "output_type": "stream",
     "text": [
      "37  &  43 \t vs \t 12  &  9  -->   79.20792079207921\n"
     ]
    }
   ],
   "source": [
    "N=0; M=0; O=0; P=0\n",
    "for i in range(len(Xn)):\n",
    "    if (Xn[i]<0 and Yo[i]<0):\n",
    "        N=N+1\n",
    "    elif (Xn[i]>0 and Yo[i]>0):\n",
    "        M=M+1\n",
    "    elif (Xn[i]>0 and Yo[i]<0):\n",
    "        O=O+1\n",
    "    else:\n",
    "        P=P+1\n",
    "        \n",
    "print(N,' & ', M, '\\t vs \\t', O,' & ', P, ' -->  ',(N+M)*100/(M+N+P+O)) "
   ]
  },
  {
   "cell_type": "code",
   "execution_count": null,
   "metadata": {
    "collapsed": false
   },
   "outputs": [],
   "source": [
    "ENSG00000071655.13\n",
    "ENSG00000127540.7"
   ]
  },
  {
   "cell_type": "code",
   "execution_count": null,
   "metadata": {
    "collapsed": true
   },
   "outputs": [],
   "source": []
  }
 ],
 "metadata": {
  "kernelspec": {
   "display_name": "Python 3",
   "language": "python",
   "name": "python3"
  },
  "language_info": {
   "codemirror_mode": {
    "name": "ipython",
    "version": 3
   },
   "file_extension": ".py",
   "mimetype": "text/x-python",
   "name": "python",
   "nbconvert_exporter": "python",
   "pygments_lexer": "ipython3",
   "version": "3.4.5"
  }
 },
 "nbformat": 4,
 "nbformat_minor": 2
}
