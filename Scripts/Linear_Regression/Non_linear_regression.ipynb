{
 "cells": [
  {
   "cell_type": "code",
   "execution_count": 1,
   "metadata": {
    "collapsed": false
   },
   "outputs": [],
   "source": [
    "import math\n",
    "import numpy as np\n",
    "import os\n",
    "from collections import Counter\n",
    "import pandas as pd\n",
    "import random\n",
    "import shutil\n",
    "import statsmodels.formula.api as sm\n",
    "import sys\n",
    "\n",
    "\n",
    "def nonlinearRegression(data, norm=True, minsamples=120):\n",
    "    \"\"\"\n",
    "    Perform non linear regression, return beta, p_beta, alpha, p_alpha, se_alpha, se_beta\n",
    "    data.columns has to have [allele1='x1', allele2='x2', gene_expression='expr'] not normalized\n",
    "    \"\"\"\n",
    "    if data.shape[0] <= minsamples: \n",
    "        return None, None, None, None, None, None\n",
    "    if norm:\n",
    "        data['x1'] = ZNorm(data['x1'].astype(int))\n",
    "        data['x2'] = ZNorm(data['x2'].astype(int))\n",
    "        data['expr'] = ZNorm(data['expr'].astype(int))\n",
    "        if data['x1'].isnull().all()  or data['x2'].isnull().all() or data['expr'].isnull().all(): \n",
    "            return None, None, None, None, None, None  \n",
    "    data['X']=data['x1']+data['x2']\n",
    "    data['X2']=data['x1']**2 + data['x2']**2\n",
    "    model = sm.ols(formula = 'expr ~ X + X2', data = data).fit()\n",
    "    #model = sm.OLS(Locus_detail[['expr']],Locus_detail[['X','X2']] , missing='drop').fit()\n",
    "    mod_ols = sm.ols(formula = 'expr ~ X + X2', data = Locus_detail).fit()\n",
    "    alpha = list(mod_ols.params)[1]\n",
    "    beta = list(mod_ols.params)[2]\n",
    "    alpha_p = list(mod_ols.pvalues)[1]\n",
    "    beta_p  = list(mod_ols.pvalues)[2]\n",
    "    alpha_se=list(mod_ols.bse)[1]\n",
    "    beta_se=list(mod_ols.bse)[2]\n",
    "    return alpha, alpha_se, alpha_p, beta, beta_se, beta_p\n",
    "\n",
    "\n",
    "def ZNorm(vals):\n",
    "    m = np.mean(vals)\n",
    "    sd = math.sqrt(np.var(vals))\n",
    "#    print m, '  ', sd\n",
    "    if sd == 0: return None\n",
    "    return [(item-m)/sd for item in vals]\n",
    "\n",
    "STRGTFILE= '/storage/szfeupe/Runs/650GTEx_estr/Genotypes/Allele_Gentypes.table'\n",
    "EXPRESSION='/storage/szfeupe/Runs/650GTEx_estr/Analysis_by_Tissue/Adipose-Subcutaneous/Corr_Expr.csv'\n",
    "EXPRANNOT='/storage/resources/dbase/human/hg19/gencode_gene_annotations_hg19.csv'\n",
    "distfromgene = 100000\n",
    "CHROM='chr22'\n",
    "NORM=True"
   ]
  },
  {
   "cell_type": "code",
   "execution_count": 2,
   "metadata": {
    "collapsed": false
   },
   "outputs": [
    {
     "name": "stdout",
     "output_type": "stream",
     "text": [
      "Load STRs\n",
      "Load expression\n",
      "Load annotation\n",
      "There are (2249, 272) samples\n"
     ]
    }
   ],
   "source": [
    "# Load STR genotypes\n",
    "print(\"Load STRs\")\n",
    "strgt = pd.read_csv(STRGTFILE, sep=\"\\t\", low_memory=False)\n",
    "strgt = strgt[strgt[\"chrom\"] == CHROM]\n",
    "print(\"Load expression\")\n",
    "expr = pd.read_csv(EXPRESSION)\n",
    "print(\"Load annotation\")\n",
    "expr_annot = pd.read_csv(EXPRANNOT)\n",
    "expr_annot.index = expr_annot[\"probe.id\"].values\n",
    "expr_annot = expr_annot.loc[[item for item in expr.columns if item in expr_annot.index],:]\n",
    "expr_annot = expr_annot[expr_annot[\"gene.chr\"] == CHROM]\n",
    "# Restrict to STR samples\n",
    "str_samples = list(set(strgt.columns[2:].values))\n",
    "samples_to_remove = []\n",
    "for item in str_samples:\n",
    "    if item not in expr.index: samples_to_remove.append(item) #str_samples.remove(item)\n",
    "for item in samples_to_remove: str_samples.remove(item)\n",
    "expr = expr.loc[str_samples,:]\n",
    "strgt = strgt[['chrom','start']+str_samples]\n",
    "print(\"There are %s samples\"%str(strgt.shape))\n"
   ]
  },
  {
   "cell_type": "code",
   "execution_count": 61,
   "metadata": {
    "collapsed": false,
    "scrolled": false
   },
   "outputs": [
    {
     "name": "stdout",
     "output_type": "stream",
     "text": [
      " Getting data for ENSG00000177663.9\n",
      "ENSG00000177663.9 \t 17565844 \t 17596583 \t 18 STRs tested \n",
      "\n",
      "chr22 ENSG00000177663.9 STR_17520209 -0.08777685638099877 0.052439470380822265 0.09551549171104882 0.004348578266959254 0.008137920492345154 0.5936087033955663\n",
      "chr22 ENSG00000177663.9 STR_17548440 0.2555310837450853 0.2940432406431531 0.38561954963639533 0.10168459399217601 0.11997933526055324 0.3974714919591664\n",
      "chr22 ENSG00000177663.9 STR_17563147 0.017119300110312412 0.042549075420629044 0.6877563458206708 0.0003800788160701652 0.012910697374990893 0.9765365780885986\n",
      "2\n",
      "chr22 ENSG00000177663.9 STR_17563928 None None None None None None\n",
      "chr22 ENSG00000177663.9 STR_17567263 -0.03651590175096972 0.049154985069990664 0.45832676950953466 0.004229593477949099 0.010299317211768022 0.6817038329848328\n",
      "chr22 ENSG00000177663.9 STR_17572568 0.009673598994085732 0.055275653955245876 0.8612369549110197 0.0003577837856613477 0.005183411527002665 0.9450331746588895\n",
      "chr22 ENSG00000177663.9 STR_17596478 0.029989321960892976 0.05729841851225937 0.6011930848798178 -0.004232913400424786 0.016879486624757273 0.8022071680161902\n",
      "chr22 ENSG00000177663.9 STR_17637967 -0.02798405447312166 0.04393402470387148 0.5248246837086612 0.015538144688791325 0.03268899026144095 0.6350279862386008\n",
      "chr22 ENSG00000177663.9 STR_17648335 -0.07284574600764224 0.0938911092575942 0.4386575262091379 0.018780296524583528 0.1280448595283286 0.8835252713335645\n",
      "chr22 ENSG00000177663.9 STR_17650702 -0.04999010961987467 0.036555395706872836 0.17262213294166 0.014000861585314259 0.03438538901447329 0.6842083574822592\n",
      "chr22 ENSG00000177663.9 STR_17651293 -0.10307495199291003 0.06949340620136446 0.1392051772194383 -0.02138179458210995 0.023183255643458793 0.3572169631902804\n",
      "chr22 ENSG00000177663.9 STR_17652081 -0.07365970708305306 0.0809636310197257 0.36377072642027586 -0.019239419663905726 0.03246359519891919 0.5539292467291428\n",
      "chr22 ENSG00000177663.9 STR_17654342 -0.0754678347331727 0.08212845482350292 0.35898987059838394 -0.02875472956048905 0.08122796286070358 0.7236222360283425\n",
      "chr22 ENSG00000177663.9 STR_17655257 -0.14322437314108732 0.05003544058567664 0.004552810790388539 0.028601325220645842 0.025713587479724166 0.26705499962716633\n",
      "chr22 ENSG00000177663.9 STR_17657077 -0.08135412118240488 0.06830150734238134 0.2346749548624861 -0.03137527142466063 0.0428658563092516 0.4648490417656035\n",
      "2\n",
      "chr22 ENSG00000177663.9 STR_17665017 None None None None None None\n",
      "chr22 ENSG00000177663.9 STR_17673720 0.08481541225365415 0.039604420461875955 0.033203279033844985 -0.028830446698060258 0.03674839880328966 0.43347432786974227\n",
      "chr22 ENSG00000177663.9 STR_17681081 0.03909961554942211 0.0733426917047806 0.5944052395257973 -0.0023080897637998026 0.006531233871837336 0.7240750940045697\n"
     ]
    }
   ],
   "source": [
    "NORM=True\n",
    "MINSAMPLES=150\n",
    "for i in range(expr_annot.shape[0]):\n",
    "    gene = expr_annot.index.values[i]\n",
    "    print(\" Getting data for %s\"%gene)\n",
    "    start = expr_annot[\"gene.start\"].values[i]\n",
    "    end = expr_annot[\"gene.stop\"].values[i]\n",
    "    cis_strs = strgt[(strgt[\"start\"] >= (start-distfromgene)) & (strgt[\"start\"] <= (end+distfromgene))]\n",
    "    print(gene, '\\t',start,'\\t',end,'\\t',\"%s STRs tested \\n\"%str(cis_strs.shape[0]))\n",
    "    y = pd.DataFrame({\"expr\":list(expr.loc[:, gene])})\n",
    "    y.index = str_samples\n",
    "    \n",
    "    for j in range(cis_strs.shape[0]):\n",
    "        locus_str = cis_strs.iloc[[j],:][str_samples].transpose()\n",
    "        locus_str.index = str_samples\n",
    "        locus_str.columns = [\"STR_%s\"%(cis_strs[\"start\"].values[j])]\n",
    "        test_str=locus_str.columns[0]\n",
    "        locus_str['x1'] = locus_str[test_str].apply(lambda x: x.split(',')[0] )\n",
    "        locus_str['x2'] = locus_str[test_str].apply(lambda x: x.split(',')[1] )\n",
    "        samples_to_keep = [str_samples[k] for k in range(len(str_samples)) if (str(locus_str['x1'].values[k]) != \"NA\")and(str(locus_str['x2'].values[k]) != \"NA\")]   \n",
    "        locus_str = locus_str.loc[samples_to_keep,:]\n",
    "        \n",
    "        locus_y = y.loc[samples_to_keep,:]\n",
    "        Locus_detail = locus_str.join(locus_y)[['expr','x1','x2']]\n",
    "        # Run regression\n",
    "        alpha, alpha_se, alpha_pval, beta, beta_se, beta_pval = nonlinearRegression(Locus_detail, norm=NORM, minsamples=MINSAMPLES)\n",
    "        print(' '.join([CHROM, gene, test_str, str(alpha), str(alpha_se), str(alpha_pval), str(beta), str(beta_se), str(beta_pval)]) ) \n",
    "    break\n",
    "#Locus_detail "
   ]
  },
  {
   "cell_type": "code",
   "execution_count": null,
   "metadata": {
    "collapsed": true
   },
   "outputs": [],
   "source": []
  }
 ],
 "metadata": {
  "kernelspec": {
   "display_name": "Python 3",
   "language": "python",
   "name": "python3"
  },
  "language_info": {
   "codemirror_mode": {
    "name": "ipython",
    "version": 3
   },
   "file_extension": ".py",
   "mimetype": "text/x-python",
   "name": "python",
   "nbconvert_exporter": "python",
   "pygments_lexer": "ipython3",
   "version": "3.4.5"
  }
 },
 "nbformat": 4,
 "nbformat_minor": 2
}
