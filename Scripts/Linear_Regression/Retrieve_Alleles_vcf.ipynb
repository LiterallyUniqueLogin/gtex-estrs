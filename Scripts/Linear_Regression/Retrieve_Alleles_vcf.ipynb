{
 "cells": [
  {
   "cell_type": "code",
   "execution_count": null,
   "metadata": {
    "collapsed": false
   },
   "outputs": [
    {
     "name": "stdout",
     "output_type": "stream",
     "text": [
      "Chr 1  ...\n",
      "Chr 2  ...\n",
      "Chr 3  ...\n",
      "Chr 4  ...\n",
      "Chr 5  ...\n",
      "Chr 6  ...\n",
      "Chr 7  ...\n",
      "Chr 8  ...\n",
      "Chr 9  ...\n",
      "Chr 10  ...\n",
      "Chr 11  ...\n",
      "Chr 12  ...\n",
      "Chr 13  ...\n",
      "Chr 14  ...\n",
      "Chr 15  ...\n",
      "Chr 16  ...\n",
      "Chr 17  ...\n",
      "Chr 18  ...\n",
      "Chr 19  ...\n",
      "Chr 20  ...\n",
      "Chr 21  ...\n",
      "Chr 22  ...\n",
      "Chr X  ...\n"
     ]
    }
   ],
   "source": [
    "import vcf\n",
    "import pandas as Pd\n",
    "\n",
    "chrs = [i for i in range(1,23,1)]\n",
    "chrs.append('X') ; chrs.append('Y')\n",
    "\n",
    "\n",
    "Out=open('/storage/szfeupe/Runs/GTEx_estr/STR_Locus_Alleles.tsv', 'w')\n",
    "Out.write('\\t'.join(['chrom','str.start', 'str.end','motif_len','ref_counts', \"allele.REF\",'allele.ALT'])+'\\n')\n",
    "\n",
    "#VCF filtering \n",
    "for i in chrs:\n",
    "#   Collecting least polymorphic sites\n",
    "    strfile= \"/storage/szfeupe/Runs/GTEx_estr/STRs_No_Missing_genotypes/STR_filter.chr\"+str(i)+\".vcf.gz\"\n",
    "    STRs = vcf.Reader(filename=strfile)\n",
    "    print (\"Chr\",i,' ...')\n",
    "    for record in STRs:\n",
    "        if record.INFO['PERIOD'] ==1:\n",
    "            WW=[str(record.CHROM), str(record.POS), str(record.INFO['END']), str(record.INFO['PERIOD']), str(record.INFO['REFAC']),record.REF, ','.join([str(o) for o in record.ALT]) ]\n",
    "            WW = \"\\t\".join(WW)\n",
    "            Out.write(WW+'\\n')\n",
    "    #print \"Done with chr\",i,' ...'\n",
    "Out.close()\n",
    "\n",
    "print (\"done...\")\n",
    "\n",
    "Pd.read_csv('/storage/szfeupe/Runs/GTEx_estr/STR_Locus_Alleles.tsv', sep='\\t')"
   ]
  },
  {
   "cell_type": "code",
   "execution_count": null,
   "metadata": {
    "collapsed": true
   },
   "outputs": [],
   "source": []
  }
 ],
 "metadata": {
  "kernelspec": {
   "display_name": "Python 3",
   "language": "python",
   "name": "python3"
  },
  "language_info": {
   "codemirror_mode": {
    "name": "ipython",
    "version": 3
   },
   "file_extension": ".py",
   "mimetype": "text/x-python",
   "name": "python",
   "nbconvert_exporter": "python",
   "pygments_lexer": "ipython3",
   "version": "3.4.5"
  }
 },
 "nbformat": 4,
 "nbformat_minor": 2
}
