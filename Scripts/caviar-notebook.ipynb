{
 "cells": [
  {
   "cell_type": "code",
   "execution_count": 1,
   "metadata": {
    "collapsed": true
   },
   "outputs": [],
   "source": [
    "import math\n",
    "import numpy as np\n",
    "import os\n",
    "import pandas as pd\n",
    "import random\n",
    "import sys\n",
    "from scipy.stats.stats import pearsonr\n",
    "\n",
    "\"\"\"\n",
    "Quantify the probability of a variant to be causal while allowing with arbitrary number of causal variants\n",
    "\"\"\"\n",
    "\n",
    "def PROGRESS(msg, printit=True):\n",
    "    if printit: # false for some messages when not in debug mode\n",
    "        sys.stderr.write(\"%s\\n\"%msg.strip())\n",
    "        \n",
    "def z(vals):\n",
    "    vals['z.score']=vals['beta']/vals['beta.se']\n",
    "    return vals['z.score']\n",
    "\n",
    "def WriteCorrTable(indexed_genotypes):\n",
    "    \"\"\" generate correlation table using normalized genotype\n",
    "      _1_ ... _n_\n",
    "    1| 1  ... C1n\n",
    "    .|    ...\n",
    "    n|Cn1 ... Cnn=1\n",
    "    \"\"\"\n",
    "    G=indexed_genotypes.transpose()\n",
    "    variants = list(G.columns)\n",
    "    frames=[]\n",
    "    len(set(variants))\n",
    "    for V1 in variants:\n",
    "        COV=[]\n",
    "        for V2 in variants:\n",
    "            X=G[V1].replace('None', np.nan).astype(float)\n",
    "            Y=G[V2].replace('None', np.nan).astype(float)\n",
    "            COV.append(X.corr(Y))\n",
    "        frames.append(COV)\n",
    "    return pd.DataFrame(frames,columns=variants, index=variants) \n",
    "        \n"
   ]
  },
  {
   "cell_type": "code",
   "execution_count": 2,
   "metadata": {
    "collapsed": true
   },
   "outputs": [],
   "source": [
    "EXPRFILE = '/storage/szfeupe/Runs/GTEx_estr/Analysis_by_Tissue/WholeBlood/Corr_Expr.csv'\n",
    "EXPRANNOTFILE = '~/projects/GTEX_eSTRs/data/Lin_Reg/Gene_Exp_Annotation.txt'\n",
    "CHROM = 1\n",
    "if \"chr\" not in str(CHROM): CHROM=\"chr%s\"%CHROM\n",
    "DISTFROMGENE = 10000\n",
    "STRGTFILE = '/storage/szfeupe/Runs/GTEx_estr/Normalized_Genotypes/STR_Norm_Gen.chr1'\n",
    "SNPGTFILE = '/storage/szfeupe/Runs/GTEx_estr/SNP_Analysis/SNP_raw_gt_chr1'\n",
    "OUTFILE = '/storage/szfeupe/Runs/GTEx_estr/Analysis_by_Tissue/WholeBlood/HH/Testingcenter/OUT_caviar'\n",
    "ESTRGENESFILE = '/storage/szfeupe/Runs/GTEx_estr/Analysis_by_Tissue/WholeBlood/PQValue.tsv'\n",
    "REG_STRs = '/storage/szfeupe/Runs/GTEx_estr/Analysis_by_Tissue/WholeBlood/Lin_Reg_OutFin.txt'\n",
    "REG_SNPs = '/storage/szfeupe/Runs/GTEx_estr/Analysis_by_Tissue/WholeBlood/SNP_Analysis/Lin_Reg_OutFin.txt'\n",
    "TMPDIR = '/storage/szfeupe/Runs/GTEx_estr/Analysis_by_Tissue/WholeBlood/HH/Testingcenter/tmp'\n",
    "DEBUG = True"
   ]
  },
  {
   "cell_type": "code",
   "execution_count": 3,
   "metadata": {
    "collapsed": false
   },
   "outputs": [
    {
     "name": "stderr",
     "output_type": "stream",
     "text": [
      "Load expression\n",
      "Load annotation\n",
      "Load strs regression\n",
      "Load snps regression\n",
      "Load SNPs\n",
      "/usr/lib/python3.4/site-packages/IPython/core/interactiveshell.py:2717: DtypeWarning: Columns (3,5,6,7,8,9,10,11,12,13,14,15,17,18,20,23,24,25,26,28,29,30,31,32,33,35,36,37,38,39,40,41,42,43,44,45,46,47,48,49,50,51,52,53,57,59,61,63,65,66,69,70,71,72,74,75,76,77,78,79,80,81,82,83,85,86,88,89,92,94,95,96,97,98,99,100,102,105,106,110,112,113,116,117,118,119,124,125,126,128,129,130,131,134,136,138,141,142,143,144,145,146,147,148) have mixed types. Specify dtype option on import or set low_memory=False.\n",
      "  interactivity=interactivity, compiler=compiler, result=result)\n",
      "Load STRs\n",
      "Restrict to STRs samples\n"
     ]
    },
    {
     "name": "stdout",
     "output_type": "stream",
     "text": [
      "(70, 10) 148 (148, 22454) (900916, 12) (22468, 13) (63612, 150) (513574, 150)\n"
     ]
    },
    {
     "name": "stderr",
     "output_type": "stream",
     "text": [
      "Restrict to eSTR genes only\n"
     ]
    }
   ],
   "source": [
    "# Load expression\n",
    "PROGRESS(\"\\nLoad expression\", printit=DEBUG)\n",
    "expr = pd.read_csv(EXPRFILE)\n",
    "    \n",
    "# Load annotation\n",
    "PROGRESS(\"Load annotation\", printit=DEBUG)\n",
    "expr_annot = pd.read_csv(EXPRANNOTFILE)\n",
    "expr_annot.index = expr_annot[\"probe.id\"].values\n",
    "expr_annot = expr_annot.loc[list(expr.columns)].dropna() #expr_annot.loc[expr.columns[map(lambda x: x in expr_annot.index, expr.columns)],:]\n",
    "expr_annot = expr_annot[expr_annot[\"gene.chr\"] == CHROM]\n",
    "\n",
    "# Load strs Regression\n",
    "PROGRESS(\"\\nLoad strs regression\", printit=DEBUG)\n",
    "strs = pd.read_csv(REG_STRs, sep=\"\\t\")\n",
    "strs = strs.loc[strs['chrom']==CHROM]\n",
    "\n",
    "# Load snps regression\n",
    "PROGRESS(\"\\nLoad snps regression\", printit=DEBUG)\n",
    "snps = pd.read_csv(REG_SNPs, sep=\"\\t\")\n",
    "snps = snps.loc[snps['chrom']==CHROM]\n",
    "\n",
    "#Load SNP genotypes\n",
    "PROGRESS(\"Load SNPs\", printit=DEBUG)\n",
    "snpgt = pd.read_csv(SNPGTFILE, sep=\"\\t\")\n",
    "snpgt = snpgt.loc[snpgt['chrom']==CHROM]\n",
    "\n",
    "# Load STR genotypes\n",
    "PROGRESS(\"Load STRs\", printit=DEBUG)\n",
    "strgt = pd.read_csv(STRGTFILE, sep=\"\\t\")\n",
    "strgt = strgt.loc[strgt['chrom']==CHROM]\n",
    "\n",
    "# Restrict to STR samples\n",
    "PROGRESS(\"Restrict to STRs samples\", printit=DEBUG)\n",
    "str_samples = list(set(strgt.columns[2:].values).intersection(set(snpgt.columns[2:].values)))\n",
    "expr = expr.loc[str_samples,:]\n",
    "snpgt = snpgt[[\"chrom\",\"start\"] + str_samples]\n",
    "snpgt.index = list(snpgt[\"start\"].apply(lambda x: \"SNP_%s\"%int(x)))\n",
    "strgt = strgt[[\"chrom\",\"start\"] + str_samples]\n",
    "strgt.index = list(strgt[\"start\"].apply(lambda x: \"STR_%s\"%int(x)))\n",
    "samples_to_keep = str_samples\n",
    "\n",
    "# Load eSTR results\n",
    "PROGRESS(\"Restrict to eSTR genes only\", printit=DEBUG)\n",
    "if ESTRGENESFILE is not None:\n",
    "    estr_genes = pd.read_csv(ESTRGENESFILE, sep=\"\\t\")\n",
    "    Genes = estr_genes.loc[estr_genes['qvalue']<=0.1]['gene']  # estrs at 10%FDR\n",
    "    expr_annot = expr_annot.loc[expr_annot['gene.id'].isin(list(Genes))]\n",
    "print(expr_annot.shape, len(samples_to_keep), expr.shape, snps.shape, strs.shape, strgt.shape, snpgt.shape)"
   ]
  },
  {
   "cell_type": "code",
   "execution_count": 4,
   "metadata": {
    "collapsed": false
   },
   "outputs": [
    {
     "name": "stderr",
     "output_type": "stream",
     "text": [
      "Getting data for ENSG00000116198.8\n",
      "Getting cis SNPs for ENSG00000116198.8\n",
      "Getting most significant cis STR for ENSG00000116198.8\n",
      "/usr/lib/python3.4/site-packages/ipykernel/__main__.py:21: FutureWarning: sort(columns=....) is deprecated, use sort_values(by=.....)\n",
      "/usr/lib/python3.4/site-packages/ipykernel/__main__.py:18: SettingWithCopyWarning: \n",
      "A value is trying to be set on a copy of a slice from a DataFrame.\n",
      "Try using .loc[row_indexer,col_indexer] = value instead\n",
      "\n",
      "See the caveats in the documentation: http://pandas.pydata.org/pandas-docs/stable/indexing.html#indexing-view-versus-copy\n",
      "Matrix of corr was sent to file for ENSG00000116198.8\n"
     ]
    },
    {
     "name": "stdout",
     "output_type": "stream",
     "text": [
      "CAVIAR -l /storage/szfeupe/Runs/GTEx_estr/Analysis_by_Tissue/WholeBlood/HH/Testingcenter/tmp/ENSG00000116198.8/LDFILE -z /storage/szfeupe/Runs/GTEx_estr/Analysis_by_Tissue/WholeBlood/HH/Testingcenter/tmp/ENSG00000116198.8/ZFILE -o /storage/szfeupe/Runs/GTEx_estr/Analysis_by_Tissue/WholeBlood/HH/Testingcenter/tmp/ENSG00000116198.8/caviar -c 1 -f 1 > log\n",
      "......................CAVIAR did not run for  ENSG00000116198.8\n"
     ]
    },
    {
     "name": "stderr",
     "output_type": "stream",
     "text": [
      "Getting data for ENSG00000069424.10\n",
      "Getting cis SNPs for ENSG00000069424.10\n",
      "Getting most significant cis STR for ENSG00000069424.10\n",
      "Matrix of corr was sent to file for ENSG00000069424.10\n"
     ]
    },
    {
     "name": "stdout",
     "output_type": "stream",
     "text": [
      "CAVIAR -l /storage/szfeupe/Runs/GTEx_estr/Analysis_by_Tissue/WholeBlood/HH/Testingcenter/tmp/ENSG00000069424.10/LDFILE -z /storage/szfeupe/Runs/GTEx_estr/Analysis_by_Tissue/WholeBlood/HH/Testingcenter/tmp/ENSG00000069424.10/ZFILE -o /storage/szfeupe/Runs/GTEx_estr/Analysis_by_Tissue/WholeBlood/HH/Testingcenter/tmp/ENSG00000069424.10/caviar -c 1 -f 1 > log\n",
      "chr1\tENSG00000069424.10\t6090509\t323    0.05968\n",
      "Name: 2, dtype: float64\tSNP_6067261\t0.0754638\n"
     ]
    },
    {
     "name": "stderr",
     "output_type": "stream",
     "text": [
      "/usr/lib/python3.4/site-packages/ipykernel/__main__.py:52: FutureWarning: sort(columns=....) is deprecated, use sort_values(by=.....)\n",
      "/usr/lib/python3.4/site-packages/ipykernel/__main__.py:53: FutureWarning: sort(columns=....) is deprecated, use sort_values(by=.....)\n"
     ]
    }
   ],
   "source": [
    "# For each gene, get all cis-variants and the best STR\n",
    "for i in range(expr_annot.shape[0]):\n",
    "    gene=expr_annot.index.values[i]\n",
    "    ensgene = expr_annot[\"gene.id\"].values[i]\n",
    "    genedir=TMPDIR+\"/%s\"%gene\n",
    "    if not os.path.exists(genedir):\n",
    "        os.mkdir(genedir)\n",
    "    PROGRESS(\"Getting data for %s\"%gene, printit=DEBUG)\n",
    "    start = expr_annot[\"gene.start\"].values[i]\n",
    "    end = expr_annot[\"gene.stop\"].values[i]\n",
    "# Pull out cis SNPs\n",
    "    PROGRESS(\"Getting cis SNPs for %s\"%gene)\n",
    "    cis_snps = snps[(snps[\"str.start\"] >= (start-DISTFROMGENE)) & (snps[\"str.start\"] <= (end+DISTFROMGENE))]\n",
    "    #print('cis-snps1', cis_snps.shape)\n",
    "    cis_snps = cis_snps.loc[cis_snps['gene']==ensgene]\n",
    "    #print('cis-snps2', cis_snps.shape)\n",
    "    cis_snps.index = cis_snps[\"str.start\"].apply(lambda x: \"SNP_%s\"%int(x))\n",
    "    L=list(cis_snps.index)\n",
    "# Pull out most significant STR\n",
    "    PROGRESS(\"Getting most significant cis STR for %s\"%gene)\n",
    "    best_str_start = strs[strs[\"gene\"]==ensgene].sort(\"p.wald\")[\"str.start\"].values[0]\n",
    "    cis_strs = strs.loc[strs['gene']==ensgene]\n",
    "    cis_strs.index = list(cis_strs['str.id'])\n",
    "    try:\n",
    "        del cis_strs['ID']\n",
    "    except:\n",
    "        pass\n",
    "    cis_snps.loc['STR_'+str(best_str_start)] = list(cis_strs.loc['STR_'+str(best_str_start)])\n",
    "# Make z file data\n",
    "    Z = z(cis_snps[['beta','beta.se']])\n",
    "    Z.to_csv(genedir+'/ZFILE', sep='\\t',header=None)\n",
    "# Make LD file\n",
    "    genotypes = snpgt.loc[L]\n",
    "    genotypes.loc['STR_'+str(best_str_start)] = list(strgt.loc['STR_'+str(best_str_start)])\n",
    "    del genotypes['chrom']\n",
    "    del genotypes['start']\n",
    "    Matrix = WriteCorrTable(genotypes)\n",
    "    Matrix.to_csv(genedir+'/LDFILE', sep='\\t',header=None, index=None)\n",
    "    PROGRESS(\"Matrix of corr was sent to file for %s\"%gene)\n",
    "#Run caviar\n",
    "    caviar_cmd = \"CAVIAR -l %s -z %s -o %s/caviar -c 1 -f 1 > log\"%(genedir +\"/LDFILE\", genedir+\"/ZFILE\", genedir)\n",
    "    print(caviar_cmd)\n",
    "    os.system(caviar_cmd)\n",
    "#prep and record output\n",
    "    if not os.path.exists(genedir+'/caviar_post'):\n",
    "        print(\"......................CAVIAR did not run for \", gene)\n",
    "        continue\n",
    "        #Errorfile.write(\"CAVIAR did not run for \"+gene+' \\n\\tERROR: Segmentation fault (core dumped) in log file')\n",
    "    else:\n",
    "        post = pd.read_csv(genedir+'/caviar_post', sep=\"\\t\", header=None)\n",
    "        caviarstr  =  post.loc[post[0]=='STR_'+str(best_str_start)][2].tolist()[0]\n",
    "        topvariant =  post.sort(2, ascending=False).values[0][0]\n",
    "        topscore  =  post.sort(2, ascending=False).values[0][2]\n",
    "        print(\"\\t\".join([CHROM,gene,str(best_str_start),str(caviarstr),topvariant,str(topscore)]))  \n",
    "        break\n",
    "    "
   ]
  },
  {
   "cell_type": "code",
   "execution_count": 28,
   "metadata": {
    "collapsed": false
   },
   "outputs": [
    {
     "name": "stderr",
     "output_type": "stream",
     "text": [
      "/usr/lib/python3.4/site-packages/ipykernel/__main__.py:1: FutureWarning: sort(columns=....) is deprecated, use sort_values(by=.....)\n",
      "  if __name__ == '__main__':\n"
     ]
    },
    {
     "data": {
      "text/plain": [
       "0.0754638"
      ]
     },
     "execution_count": 28,
     "metadata": {},
     "output_type": "execute_result"
    }
   ],
   "source": [
    "post.sort(2, ascending=False).values[0][2]"
   ]
  },
  {
   "cell_type": "code",
   "execution_count": null,
   "metadata": {
    "collapsed": false
   },
   "outputs": [],
   "source": [
    "\n",
    "python ~/projects/GTEX_eSTRs/gtex-estrs/Scripts/GetCausalCAVIAR.py \n",
    "--expr /storage/szfeupe/Runs/GTEx_estr/Analysis_by_Tissue/WholeBlood/Corr_Expr.csv\n",
    "--exprannot ~/projects/GTEX_eSTRs/data/Lin_Reg/Gene_Exp_Annotation.txt\n",
    "--chrom 1\n",
    "--distfromgene 10000\n",
    "--strgt /storage/szfeupe/Runs/GTEx_estr/Normalized_Genotypes/STR_Norm_Gen.chr1\n",
    "--snpgt /storage/szfeupe/Runs/GTEx_estr/SNP_Analysis/SNP_raw_gt_chr1\n",
    "--out /storage/szfeupe/Runs/GTEx_estr/Analysis_by_Tissue/WholeBlood/HH/Testingcenter/OUT_caviar\n",
    "--restrict_to_estrs /storage/szfeupe/Runs/GTEx_estr/Analysis_by_Tissue/WholeBlood/PQValue.tsv\n",
    "--linreg_str /storage/szfeupe/Runs/GTEx_estr/Analysis_by_Tissue/WholeBlood/Lin_Reg_OutFin.txt\n",
    "--linreg_snp /storage/szfeupe/Runs/GTEx_estr/Analysis_by_Tissue/WholeBlood/SNP_Analysis/Lin_Reg_OutFin.txt'\n",
    "--tmpdir /storage/szfeupe/Runs/GTEx_estr/Analysis_by_Tissue/WholeBlood/HH/Testingcenter/tmp\n",
    "--debug"
   ]
  },
  {
   "cell_type": "code",
   "execution_count": null,
   "metadata": {
    "collapsed": true
   },
   "outputs": [],
   "source": []
  }
 ],
 "metadata": {
  "kernelspec": {
   "display_name": "Python 3",
   "language": "python",
   "name": "python3"
  },
  "language_info": {
   "codemirror_mode": {
    "name": "ipython",
    "version": 3
   },
   "file_extension": ".py",
   "mimetype": "text/x-python",
   "name": "python",
   "nbconvert_exporter": "python",
   "pygments_lexer": "ipython3",
   "version": "3.4.5"
  }
 },
 "nbformat": 4,
 "nbformat_minor": 2
}
