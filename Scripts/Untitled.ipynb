{
 "cells": [
  {
   "cell_type": "code",
   "execution_count": 1,
   "metadata": {
    "collapsed": false
   },
   "outputs": [],
   "source": [
    "#!/usr/bin/env python\n",
    "\"\"\"\n",
    "Annotate merged causality score table with distance to Features\n",
    "\"\"\"\n",
    "\n",
    "import numpy as np\n",
    "import pandas as pd\n",
    "import sys\n",
    "\n",
    "data = pd.read_csv(\"/storage/szfeupe/Runs/GTEx_estr/Analysis_by_Tissue/SUMMARY/GTEx_merged_causality_tsstes\", sep=\"\\t\")\n",
    "features = pd.read_csv(\"/storage/szfeupe/Runs/GTEx_estr/Analysis_by_Tissue/SUMMARY/Merged_Causality_Features.table\", sep='\\t')\n",
    "features['best.str.start'] = features['str.start']\n",
    "features = features[[\"gene\",\"chrom\",\"best.str.start\",\"best.score\",\"best.tissue\",\"best.q\",\"start\",\"stop\",\"motif_len\",\"motif\",\"UTR3\",\"UTR5\",\"EXON\",\"INTRON\"]]"
   ]
  },
  {
   "cell_type": "code",
   "execution_count": null,
   "metadata": {
    "collapsed": false
   },
   "outputs": [],
   "source": [
    "EXON = features.loc[(features[\"EXON\"]==1.0) ]\n",
    "INTRON = features.loc[(features[\"INTRON\"]==1.0) ]\n",
    "UTRs = features.loc[(features[\"UTR3\"]==1.0) | (features[\"UTR5\"]==1.0) ]\n",
    "\n",
    "EXON = pd.merge(EXON, data, on=[\"gene\",\"chrom\",\"best.str.start\",\"best.score\",\"best.tissue\",\"best.q\"])\n",
    "INTRON = pd.merge(INTRON, data, on=[\"gene\",\"chrom\",\"best.str.start\",\"best.score\",\"best.tissue\",\"best.q\"])\n",
    "UTRs = pd.merge(UTRs, data, on=[\"gene\",\"chrom\",\"best.str.start\",\"best.score\",\"best.tissue\",\"best.q\"])\n",
    "\n",
    "EXON.to_csv(\"/storage/szfeupe/Runs/GTEx_estr/Analysis_by_Tissue/SUMMARY/GTEx_merged_causality_EXON\", sep='\\t')\n",
    "UTRs.to_csv(\"/storage/szfeupe/Runs/GTEx_estr/Analysis_by_Tissue/SUMMARY/GTEx_merged_causality_UTRs\", sep='\\t')\n",
    "INTRON.to_csv(\"/storage/szfeupe/Runs/GTEx_estr/Analysis_by_Tissue/SUMMARY/GTEx_merged_causality_INTRON\", sep='\\t')\n",
    "\n",
    "INTRON"
   ]
  },
  {
   "cell_type": "code",
   "execution_count": 6,
   "metadata": {
    "collapsed": false
   },
   "outputs": [
    {
     "data": {
      "text/plain": [
       "['ENSG00000164346.5',\n",
       " 'ENSG00000186470.9',\n",
       " 'ENSG00000204520.8',\n",
       " 'ENSG00000188234.9',\n",
       " 'ENSG00000149084.7',\n",
       " 'ENSG00000166435.11',\n",
       " 'ENSG00000166896.3',\n",
       " 'ENSG00000090857.9',\n",
       " 'ENSG00000141698.12',\n",
       " 'ENSG00000006282.15',\n",
       " 'ENSG00000174652.13']"
      ]
     },
     "execution_count": 6,
     "metadata": {},
     "output_type": "execute_result"
    }
   ],
   "source": [
    "import pandas as pd\n",
    "import sys\n",
    "data = pd.read_csv(\"/storage/szfeupe/Runs/GTEx_estr/Analysis_by_Tissue/SUMMARY/LR_SummaryTest_Table.tsv\", sep=\"\\t\")\n",
    "list(data.loc[data[\"eSTR_In_tissues\"]==7][\"gene\"])\n"
   ]
  },
  {
   "cell_type": "code",
   "execution_count": null,
   "metadata": {
    "collapsed": true
   },
   "outputs": [],
   "source": [
    "Best STR causal overlapping gene EXON by TISSU (227)\n",
    "\n",
    "Muscle-Skeletal, 39\n",
    "Adipose-Subcutaneous, 19\n",
    "Cells-Transformedfibroblasts, 26\n",
    "Lung, 46\n",
    "Artery-Tibial, 44\n",
    "Esophagus-Mucosa, 23\n",
    "WholeBlood, 30\n"
   ]
  }
 ],
 "metadata": {
  "kernelspec": {
   "display_name": "Python 3",
   "language": "python",
   "name": "python3"
  },
  "language_info": {
   "codemirror_mode": {
    "name": "ipython",
    "version": 3
   },
   "file_extension": ".py",
   "mimetype": "text/x-python",
   "name": "python",
   "nbconvert_exporter": "python",
   "pygments_lexer": "ipython3",
   "version": "3.4.5"
  }
 },
 "nbformat": 4,
 "nbformat_minor": 2
}
