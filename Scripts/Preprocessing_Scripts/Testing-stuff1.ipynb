{
 "cells": [
  {
   "cell_type": "code",
   "execution_count": 1,
   "metadata": {
    "collapsed": false
   },
   "outputs": [
    {
     "name": "stdout",
     "output_type": "stream",
     "text": [
      "Data .. (287595, 654)\n",
      "High call rate filter .. (286762, 655)\n"
     ]
    },
    {
     "name": "stderr",
     "output_type": "stream",
     "text": [
      "/usr/lib/python3.4/site-packages/IPython/core/interactiveshell.py:2717: DtypeWarning: Columns (0) have mixed types. Specify dtype option on import or set low_memory=False.\n",
      "  interactivity=interactivity, compiler=compiler, result=result)\n"
     ]
    },
    {
     "name": "stdout",
     "output_type": "stream",
     "text": [
      "STRs .. (37412, 3)\n"
     ]
    },
    {
     "name": "stderr",
     "output_type": "stream",
     "text": [
      "/usr/lib/python3.4/site-packages/ipykernel/__main__.py:10: SettingWithCopyWarning: \n",
      "A value is trying to be set on a copy of a slice from a DataFrame.\n",
      "Try using .loc[row_indexer,col_indexer] = value instead\n",
      "\n",
      "See the caveats in the documentation: http://pandas.pydata.org/pandas-docs/stable/indexing.html#indexing-view-versus-copy\n"
     ]
    },
    {
     "name": "stdout",
     "output_type": "stream",
     "text": [
      "\t STRs snps .. (285864, 2)\n",
      "(286762, 655) 18:46:14\n",
      "\t STRs snps .. (285864, 2)\n",
      "(285864, 2) 18:55:11\n",
      "(285864, 655)\n",
      "\t STRs snps .. (273380, 2)\n",
      "Segmental Duplication filtered... (273380, 655)\n",
      "\t STRs snps .. (272664, 2)\n",
      "hrun filtered... (272664, 655)\n",
      "9\n",
      "Data .. (366389, 654)\n",
      "High call rate filter .. (365416, 655)\n",
      "STRs .. (73187, 3)\n",
      "\t STRs snps .. (363567, 2)\n",
      "(365416, 655) 19:40:54\n",
      "\t STRs snps .. (363567, 2)\n",
      "(363567, 2) 20:04:48\n",
      "(363567, 655)\n",
      "\t STRs snps .. (358232, 2)\n",
      "Segmental Duplication filtered... (358232, 655)\n",
      "\t STRs snps .. (358054, 2)\n",
      "hrun filtered... (358054, 655)\n",
      "8\n"
     ]
    }
   ],
   "source": [
    "import pandas as pd\n",
    "import scipy.stats\n",
    "import numpy as np\n",
    "import vcf\n",
    "import io\n",
    "from datetime import datetime\n",
    "\n",
    "def removeoverlap(X, Y ):\n",
    "    fragments=[]\n",
    "    X['start'] = X[\"start\"].astype(int)\n",
    "    for i in range(len(list(Y.index))):\n",
    "        start = list(Y['POS'])[i]\n",
    "        end = list(Y['END'])[i]\n",
    "        X2 = X.loc[(X[\"start\"]<=start) | (X[\"start\"]>=end)]\n",
    "        X = 0; X = X2\n",
    "    print('\\t STRs snps ..',X.shape)\n",
    "    result = X\n",
    "    return(result)\n",
    "\n",
    "SEGDUP=\"/storage/resources/dbase/human/hg19/hg19_segmentalduplications.bed\"\n",
    "HRUN = \"/storage/resources/dbase/human/hg19/hg19.hipstr_reference_hrun.bed\"\n",
    "HPOL = \"/storage/szfeupe/Runs/650GTEx_estr/temp_files/GTEX-111FC-0001\"\n",
    "SNP = \"/storage/szfeupe/Runs/650GTEx_estr/SNP_Analysis/chr\"\n",
    "column = open('/storage/szfeupe/Runs/650GTEx_estr/SNP_Analysis/tmp','r').readline().split('\\t')\n",
    "\n",
    "\n",
    "chrom = [i for i in range(9,7,-1)]\n",
    "##\n",
    "for ch in chrom:\n",
    "    data = pd.read_csv(SNP+str(ch)+\".snp\", sep='\\t', header=None, low_memory=False)\n",
    "    data.columns = column\n",
    "    data.replace('None', np.nan, inplace=True)\n",
    "    print('Data ..',data.shape)\n",
    "    data['callrate']=data.count(axis=1)\n",
    "    data1 = data.loc[data['callrate']>500]\n",
    "    data = data1\n",
    "    print ('High call rate filter ..', data.shape)\n",
    "    ##Homopoly\n",
    "    poly = pd.read_csv(HPOL, sep='\\t')[[\"#CHROM\",'POS','END']]\n",
    "    poly = poly.loc[poly['#CHROM']==ch]\n",
    "    print('STRs ..', poly.shape)\n",
    "    result = removeoverlap(data[[\"chrom\", \"start\"]],poly )\n",
    "    print (data.shape, datetime.now().strftime('%H:%M:%S'))\n",
    "    result = removeoverlap(data[[\"chrom\", \"start\"]],poly )\n",
    "    print(result.shape, datetime.now().strftime('%H:%M:%S'))\n",
    "    data = data.loc[data['start'].isin(list(result['start']))] \n",
    "    print(data.shape)\n",
    "    #Seg dup\n",
    "    Seg_dup = pd.read_csv(SEGDUP, sep='\\t', header=None)\n",
    "    Seg_dup.columns = [\"CHROM\",'POS','END','OTHERS','INFO','STRAND']\n",
    "    Seg_dup = Seg_dup.loc[Seg_dup['CHROM']=='chr'+str(ch)]\n",
    "    result = removeoverlap(data[['chrom','start']], Seg_dup)\n",
    "    data = data.loc[data['start'].isin(list(result['start']))]\n",
    "    print('Segmental Duplication filtered... '+str(data.shape))\n",
    "    #Hrun\n",
    "    hrun = pd.read_csv(HRUN, sep='\\t', header=None)\n",
    "    hrun.columns = [\"CHROM\",'POS','END','OTHERS','INFO']\n",
    "    hrun = hrun.loc[hrun['CHROM']=='chr'+str(ch)]\n",
    "    result = removeoverlap(data[['chrom','start']], hrun)\n",
    "    data = data.loc[data['start'].isin(list(result['start']))]\n",
    "    print('hrun filtered... '+str(data.shape))\n",
    "    #\n",
    "    data1 = data\n",
    "    del data['callrate']\n",
    "    data1.replace(np.nan,'None', inplace=True)\n",
    "    data1.to_csv(SNP+str(ch)+\".tab\", sep='\\t', index=None)\n",
    "    print(ch)\n",
    "\n"
   ]
  },
  {
   "cell_type": "code",
   "execution_count": null,
   "metadata": {
    "collapsed": true
   },
   "outputs": [],
   "source": [
    "12 to 10\n",
    "\n",
    "Data .. (321329, 654)\n",
    "High call rate filter .. (320272, 655)\n",
    "/usr/lib/python3.4/site-packages/IPython/core/interactiveshell.py:2717: DtypeWarning: Columns (0) have mixed types. Specify dtype option on import or set low_memory=False.\n",
    "  interactivity=interactivity, compiler=compiler, result=result)\n",
    "STRs .. (75583, 3)\n",
    "/usr/lib/python3.4/site-packages/ipykernel/__main__.py:10: SettingWithCopyWarning: \n",
    "A value is trying to be set on a copy of a slice from a DataFrame.\n",
    "Try using .loc[row_indexer,col_indexer] = value instead\n",
    "\n",
    "See the caveats in the documentation: http://pandas.pydata.org/pandas-docs/stable/indexing.html#indexing-view-versus-copy\n",
    "\t STRs snps .. (318460, 2)\n",
    "(320272, 655) 10:50:50\n",
    "\t STRs snps .. (318460, 2)\n",
    "(318460, 2) 11:15:47\n",
    "(318460, 655)\n",
    "\t STRs snps .. (307850, 2)\n",
    "Segmental Duplication filtered... (307850, 655)\n",
    "\t STRs snps .. (307656, 2)\n",
    "hrun filtered... (307656, 655)\n",
    "Data .. (335694, 654)\n",
    "High call rate filter .. (334797, 655)\n",
    "STRs .. (67899, 3)\n",
    "\t STRs snps .. (333066, 2)\n",
    "(334797, 655) 12:05:24\n",
    "\t STRs snps .. (333066, 2)\n",
    "(333066, 2) 12:27:24\n",
    "(333066, 655)\n",
    "\t STRs snps .. (316232, 2)\n",
    "Segmental Duplication filtered... (316232, 655)\n",
    "\t STRs snps .. (316061, 2)\n",
    "hrun filtered... (316061, 655)\n",
    "Data .. (342830, 654)\n",
    "High call rate filter .. (341651, 655)\n",
    "STRs .. (71231, 3)\n",
    "\t STRs snps .. (339883, 2)\n",
    "(341651, 655) 13:15:23\n",
    "\t STRs snps .. (339883, 2)\n",
    "(339883, 2) 13:39:10\n",
    "(339883, 655)\n",
    "\t STRs snps .. (322836, 2)\n",
    "Segmental Duplication filtered... (322836, 655)\n",
    "\t STRs snps .. (321501, 2)\n",
    "hrun filtered... (321501, 655)\n",
    "Data .. (213767, 654)\n",
    "High call rate filter .. (212681, 655)\n",
    "STRs .. (71657, 3)\n",
    "\t STRs snps .. (211516, 2)\n",
    "(212681, 655) 14:22:59\n",
    "\t STRs snps .. (211516, 2)\n",
    "(211516, 2) 14:41:20\n",
    "(211516, 655)\n",
    "\t STRs snps .. (187263, 2)\n",
    "Segmental Duplication filtered... (187263, 655)\n",
    "\t STRs snps .. (187099, 2)\n",
    "hrun filtered... (187099, 655)"
   ]
  },
  {
   "cell_type": "code",
   "execution_count": null,
   "metadata": {
    "collapsed": true
   },
   "outputs": [],
   "source": [
    "python ~/projects/GTEX_eSTRs/gtex-estrs/Scripts/Heritability/strsnp_h2_gcta.py \n",
    "--expr EXPR \n",
    "--exprannot EXPRANNOT \n",
    "--chrom CHROM\n",
    "--distfromgene DISTFROMGENE \n",
    "--strgt STRGT \n",
    "--snpgt SNPGT \n",
    "--out OUT \n",
    "--method METHOD \n",
    "--include-str INCLUDE_STR\n",
    "[--tmpdir TMPDIR] \n",
    "[--snp-maf SNP_MAF]\n",
    "[--estr-results ESTR_RESULTS] \n",
    "[--reml-no-constrain]\n",
    "[--switch-order] \n",
    "[--estr-genes-only ESTR_GENES_ONLY]\n",
    "[--permute-strs PERMUTE_STRS] \n",
    "[--ctrl] \n",
    "[--debug]"
   ]
  }
 ],
 "metadata": {
  "kernelspec": {
   "display_name": "Python 3",
   "language": "python",
   "name": "python3"
  },
  "language_info": {
   "codemirror_mode": {
    "name": "ipython",
    "version": 3
   },
   "file_extension": ".py",
   "mimetype": "text/x-python",
   "name": "python",
   "nbconvert_exporter": "python",
   "pygments_lexer": "ipython3",
   "version": "3.4.5"
  }
 },
 "nbformat": 4,
 "nbformat_minor": 2
}
