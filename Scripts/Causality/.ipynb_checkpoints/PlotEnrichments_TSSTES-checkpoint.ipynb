{
 "cells": [
  {
   "cell_type": "code",
   "execution_count": null,
   "metadata": {
    "collapsed": true
   },
   "outputs": [],
   "source": [
    "%pylab inline\n",
    "\n",
    "import matplotlib as pyplot\n",
    "import os\n",
    "import pandas as pd\n",
    "\n",
    "FEATUREDIR = \"/storage/mgymrek/gtex/causality/features/\"\n",
    "SCORETYPE = \"\"\n",
    "MINDIST = 2000\n",
    "MINQ = 1\n",
    "percentiles = [0, 50] + list(np.arange(60, 101, 10))\n",
    "\n",
    "\n",
    "def GetBootstrapCI(data, func):\n",
    "    numiter = 1000\n",
    "    vals = []\n",
    "    for i in range(numiter):\n",
    "        x = np.random.choice(data, size=data.shape[0], replace=True)\n",
    "        vals.append(func(x))\n",
    "    se = np.sqrt(np.var(vals))\n",
    "    return np.mean(vals)-1.96*se, np.mean(vals)+1.96*se\n"
   ]
  },
  {
   "cell_type": "code",
   "execution_count": null,
   "metadata": {
    "collapsed": true
   },
   "outputs": [],
   "source": [
    "# Plot TSS/TES\n",
    "data = pd.read_csv(os.path.join(FEATUREDIR, \"GTEx_merged_causality_tsstes%s.tab\"%SCORETYPE), sep=\"\\t\")\n",
    "data = data[data[\"best.score\"] >= 0]\n",
    "\n",
    "bins = np.percentile(data[data[\"best.q\"]<=MINQ][\"best.score\"], q = percentiles)\n",
    "binlabels = []\n",
    "tss = []\n",
    "tss_low = []\n",
    "tss_high = []\n",
    "tes = []\n",
    "tes_low = []\n",
    "tes_high = []\n",
    "\n",
    "for i in range(len(bins)-1):\n",
    "    lb = bins[i]\n",
    "    ub = bins[i+1]\n",
    "    x = data[(data[\"best.score\"]>lb) & (data[\"best.score\"]<= ub) & (data[\"best.q\"]<=MINQ)]\n",
    "    feature_tss = x[\"dist.to.tss\"].apply(lambda x: abs(x)<MINDIST)\n",
    "    feature_tes = x[\"dist.to.tes\"].apply(lambda x: abs(x)<MINDIST)\n",
    "    count_tss = np.mean(feature_tss)\n",
    "    count_tes = np.mean(feature_tes)\n",
    "    low_tss, high_tss = GetBootstrapCI(feature_tss, np.mean)\n",
    "    low_tes, high_tes = GetBootstrapCI(feature_tes, np.mean)\n",
    "    if i == 0:\n",
    "        base_tss = count_tss\n",
    "        base_tes = count_tes\n",
    "    binlabels.append(\"%s-%s\"%(percentiles[i], percentiles[i+1]))\n",
    "    tss.append(count_tss*1.0/base_tss)\n",
    "    tss_low.append(low_tss*1.0/base_tss)\n",
    "    tss_high.append(high_tss*1.0/base_tss)\n",
    "    tes.append(count_tes*1.0/base_tes)\n",
    "    tes_low.append(low_tes*1.0/base_tes)\n",
    "    tes_high.append(high_tes*1.0/base_tes)"
   ]
  },
  {
   "cell_type": "code",
   "execution_count": null,
   "metadata": {
    "collapsed": true
   },
   "outputs": [],
   "source": [
    "fig = plt.figure()\n",
    "fig.set_size_inches((10, 5))\n",
    "\n",
    "# TSS\n",
    "ax = fig.add_subplot(121)\n",
    "#ax.errorbar(range(len(binlabels)), tss, marker=\"o\", yerr = [tss_low, tss_high])\n",
    "ax.plot(range(len(binlabels)), tss, marker=\"o\")\n",
    "ax.set_xlabel(\"Score bin\", size=15)\n",
    "ax.set_ylabel(\"Enrichment vs. (0,0.5) bin\", size=15)\n",
    "ax.set_xticks(range(len(binlabels)))\n",
    "ax.set_xticklabels(binlabels, size=12)\n",
    "ax.set_yticklabels(ax.get_yticks(), size=12)\n",
    "ax.axhline(y = 1.0, linestyle=\"dashed\", color=\"gray\")\n",
    "ax.set_title(\"Within %s of TSS\"%MINDIST)\n",
    "ax.spines['right'].set_visible(False)\n",
    "ax.spines['top'].set_visible(False)\n",
    "ax.yaxis.set_ticks_position('left')\n",
    "ax.xaxis.set_ticks_position('bottom')\n",
    "\n",
    "# TES\n",
    "ax = fig.add_subplot(122)\n",
    "#ax.errorbar(range(len(binlabels)), tes, marker=\"o\", yerr = [tes_low, tes_high])\n",
    "ax.plot(range(len(binlabels)), tes, marker=\"o\")\n",
    "ax.set_xlabel(\"Score bin\", size=15)\n",
    "ax.set_ylabel(\"Enrichment vs. (0,0.5) bin\", size=15)\n",
    "ax.set_xticks(range(len(binlabels)))\n",
    "ax.set_xticklabels(binlabels, size=12)\n",
    "ax.set_yticklabels(ax.get_yticks(), size=12)\n",
    "ax.axhline(y = 1.0, linestyle=\"dashed\", color=\"gray\")\n",
    "ax.set_title(\"Within %s of TES\"%MINDIST)\n",
    "ax.spines['right'].set_visible(False)\n",
    "ax.spines['top'].set_visible(False)\n",
    "ax.yaxis.set_ticks_position('left')\n",
    "ax.xaxis.set_ticks_position('bottom')\n",
    "\n",
    "fig.tight_layout()\n"
   ]
  },
  {
   "cell_type": "code",
   "execution_count": null,
   "metadata": {
    "collapsed": true
   },
   "outputs": [],
   "source": [
    "data[\"abs.dist.tss\"] = abs(data[\"dist.to.tss\"])\n",
    "data.sort(\"best.score\", ascending=False)"
   ]
  }
 ],
 "metadata": {
  "kernelspec": {
   "display_name": "Python 3",
   "language": "python",
   "name": "python3"
  },
  "language_info": {
   "codemirror_mode": {
    "name": "ipython",
    "version": 3
   },
   "file_extension": ".py",
   "mimetype": "text/x-python",
   "name": "python",
   "nbconvert_exporter": "python",
   "pygments_lexer": "ipython3",
   "version": "3.4.5"
  }
 },
 "nbformat": 4,
 "nbformat_minor": 2
}
