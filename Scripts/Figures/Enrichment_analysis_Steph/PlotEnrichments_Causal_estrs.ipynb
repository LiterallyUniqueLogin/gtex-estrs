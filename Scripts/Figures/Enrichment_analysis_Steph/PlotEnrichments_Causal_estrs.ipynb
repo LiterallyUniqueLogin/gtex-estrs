{
 "cells": [
  {
   "cell_type": "code",
   "execution_count": 1,
   "metadata": {
    "collapsed": false
   },
   "outputs": [
    {
     "name": "stdout",
     "output_type": "stream",
     "text": [
      "Populating the interactive namespace from numpy and matplotlib\n"
     ]
    }
   ],
   "source": [
    "# Set up\n",
    "%pylab inline\n",
    "\n",
    "# Allow us to edit fonts in Illustrator\n",
    "import matplotlib\n",
    "matplotlib.rcParams['ps.useafm'] = True\n",
    "matplotlib.rcParams['pdf.use14corefonts'] = True\n",
    "matplotlib.rcParams['text.usetex'] = True\n",
    "\n",
    "# Libraries\n",
    "import matplotlib.pyplot as plt\n",
    "import numpy as np\n",
    "import os\n",
    "import pandas as pd\n",
    "import scipy.stats as ss\n",
    "import seaborn.apionly as sns\n",
    "from collections import defaultdict\n",
    "\n",
    "ANNOTDIR = \"/storage/mgymrek/gtex/annotations/\"\n",
    "FEATUREDIR = \"/storage/szfeupe/Runs/650GTEx_estr/Analysis_by_Tissue/\"\n",
    "HTDIR = \"/storage/mgymrek/gtex/tfbs/encodedata/\"\n",
    "BEDDIR = \"/storage/mgymrek/gtex/annotations/encode/\"\n",
    "mergefile = '/storage/szfeupe/Runs/650GTEx_estr/Analysis_by_Tissue/Merged_Best_causality.Table'\n",
    "REGRSSION = '/storage/szfeupe/Runs/650GTEx_estr/Analysis_by_Tissue/LR_SummaryTest_Table.tsv'\n",
    "SCORETYPE = \"\"\n",
    "MINDIST = 1500 # For TSS\n",
    "MINQ = 0.1 # FDR threshold. Ignored since overlap with Estrs later\n",
    "\n",
    "# LIst of features to intersect with\n",
    "FEATURES = {\n",
    "    \"3utr\": os.path.join(ANNOTDIR, \"3utr.bed\"),\n",
    "    \"5utr\": os.path.join(ANNOTDIR, \"5utr.bed\"),\n",
    "    \"coding\": os.path.join(ANNOTDIR, \"coding.bed\"),\n",
    "    \"introns\": os.path.join(ANNOTDIR, \"introns.bed\"),\n",
    "    \"H3K27ac\": os.path.join(HTDIR, \"H3K27ac_GM12878.bed.gz\"),\n",
    "    \"H3K4me1\": os.path.join(HTDIR, \"H3K4me1_GM12878.bed.gz\"),\n",
    "    \"H3K4me2\": os.path.join(HTDIR, \"H3K4me2_GM12878.bed.gz\"),\n",
    "    \"H3K4me3\": os.path.join(HTDIR, \"H3K4me3_GM12878.bed.gz\"),\n",
    "    \"H3K27me3\": os.path.join(HTDIR, \"H3K27me3_GM12878.bed.gz\"),\n",
    "    \"H3K36me3\": os.path.join(HTDIR, \"H3K36me3_GM12878.bed.gz\"),\n",
    "}\n",
    "\n",
    "percentiles = [0, 50] + list(np.arange(60, 101, 10))"
   ]
  },
  {
   "cell_type": "code",
   "execution_count": 2,
   "metadata": {
    "collapsed": false
   },
   "outputs": [],
   "source": [
    "data = pd.read_csv(os.path.join(FEATUREDIR, \"GTEx_merged_causality_tsstes%s.tab\"%SCORETYPE), sep=\"\\t\")\n",
    "Merge = pd.read_csv(mergefile, sep='\\t')\n",
    "data = pd.merge(data, Merge[['gene', 'chrom','best.str.start','top.variant']], on=['gene', 'chrom','best.str.start'])\n",
    "data['str.start']=data['best.str.start']\n",
    "GG   = pd.read_csv(REGRSSION, sep='\\t')\n",
    "data1 = pd.merge(data, GG[['chrom','str.start', 'gene','str.end','motif','E.tissues']], on=['chrom', 'str.start','gene' ] )"
   ]
  },
  {
   "cell_type": "code",
   "execution_count": 3,
   "metadata": {
    "collapsed": false
   },
   "outputs": [],
   "source": [
    "data1[['chrom','str.start','str.end','gene']].to_csv('reg.bed', sep='\\t',index=None, header=None)\n",
    "for key in FEATURES.keys():\n",
    "    bedfile = FEATURES[key]\n",
    "    annot = pd.read_csv(bedfile, sep=\"\\t\", header=None, skiprows=1)\n",
    "    annot[[0,1,2]].to_csv('facts.bed', sep='\\t',index=None, header=None)\n",
    "    cmd = \"bedtools intersect -a reg.bed -b facts.bed >Intersect.bed\"\n",
    "    returned_value = os.system(cmd)\n",
    "    Inter = pd.read_csv('Intersect.bed', sep='\\t', header=None)\n",
    "    Feature_strs = list(set(list(Inter[3])))\n",
    "    data1[key] = np.where(data1['gene'].isin(Feature_strs), 1, 0)\n",
    "\n",
    "data1[\"tss\"] = (data1[\"dist.to.tss\"].apply(abs)<=MINDIST).apply(int)\n",
    "keys = sorted(list(FEATURES.keys()) + [\"tss\"])"
   ]
  },
  {
   "cell_type": "code",
   "execution_count": 23,
   "metadata": {
    "collapsed": false,
    "scrolled": false
   },
   "outputs": [
    {
     "name": "stderr",
     "output_type": "stream",
     "text": [
      "/usr/lib/python3.4/site-packages/ipykernel/__main__.py:50: RuntimeWarning: divide by zero encountered in log2\n"
     ]
    },
    {
     "data": {
      "text/html": [
       "<div>\n",
       "<style scoped>\n",
       "    .dataframe tbody tr th:only-of-type {\n",
       "        vertical-align: middle;\n",
       "    }\n",
       "\n",
       "    .dataframe tbody tr th {\n",
       "        vertical-align: top;\n",
       "    }\n",
       "\n",
       "    .dataframe thead th {\n",
       "        text-align: right;\n",
       "    }\n",
       "</style>\n",
       "<table border=\"1\" class=\"dataframe\">\n",
       "  <thead>\n",
       "    <tr style=\"text-align: right;\">\n",
       "      <th></th>\n",
       "      <th>3utr</th>\n",
       "      <th>5utr</th>\n",
       "      <th>H3K27ac</th>\n",
       "      <th>H3K27me3</th>\n",
       "      <th>H3K36me3</th>\n",
       "      <th>H3K4me1</th>\n",
       "      <th>H3K4me2</th>\n",
       "      <th>H3K4me3</th>\n",
       "      <th>coding</th>\n",
       "      <th>introns</th>\n",
       "      <th>tss</th>\n",
       "    </tr>\n",
       "    <tr>\n",
       "      <th>Features</th>\n",
       "      <th></th>\n",
       "      <th></th>\n",
       "      <th></th>\n",
       "      <th></th>\n",
       "      <th></th>\n",
       "      <th></th>\n",
       "      <th></th>\n",
       "      <th></th>\n",
       "      <th></th>\n",
       "      <th></th>\n",
       "      <th></th>\n",
       "    </tr>\n",
       "  </thead>\n",
       "  <tbody>\n",
       "    <tr>\n",
       "      <th>pvalue _allestrs</th>\n",
       "      <td>1.000000</td>\n",
       "      <td>1.000000</td>\n",
       "      <td>1.000000</td>\n",
       "      <td>1.000000</td>\n",
       "      <td>0.335292</td>\n",
       "      <td>0.597343</td>\n",
       "      <td>1.000000</td>\n",
       "      <td>1.000000</td>\n",
       "      <td>1.000000</td>\n",
       "      <td>0.484693</td>\n",
       "      <td>0.267991</td>\n",
       "    </tr>\n",
       "    <tr>\n",
       "      <th>oddsratio_allestrs</th>\n",
       "      <td>inf</td>\n",
       "      <td>0.863309</td>\n",
       "      <td>1.015267</td>\n",
       "      <td>NaN</td>\n",
       "      <td>0.279720</td>\n",
       "      <td>inf</td>\n",
       "      <td>0.904762</td>\n",
       "      <td>0.960000</td>\n",
       "      <td>inf</td>\n",
       "      <td>1.509804</td>\n",
       "      <td>0.490385</td>\n",
       "    </tr>\n",
       "    <tr>\n",
       "      <th>pvalue_causalestrs</th>\n",
       "      <td>0.574146</td>\n",
       "      <td>0.033690</td>\n",
       "      <td>0.015416</td>\n",
       "      <td>1.000000</td>\n",
       "      <td>1.000000</td>\n",
       "      <td>0.271737</td>\n",
       "      <td>0.033898</td>\n",
       "      <td>0.001110</td>\n",
       "      <td>1.000000</td>\n",
       "      <td>0.693927</td>\n",
       "      <td>0.003183</td>\n",
       "    </tr>\n",
       "    <tr>\n",
       "      <th>oddsratio_causalestrs</th>\n",
       "      <td>0.580173</td>\n",
       "      <td>3.949640</td>\n",
       "      <td>2.717557</td>\n",
       "      <td>0.000000</td>\n",
       "      <td>0.725275</td>\n",
       "      <td>1.826087</td>\n",
       "      <td>2.080952</td>\n",
       "      <td>3.128889</td>\n",
       "      <td>1.277778</td>\n",
       "      <td>0.911406</td>\n",
       "      <td>3.442308</td>\n",
       "    </tr>\n",
       "    <tr>\n",
       "      <th>pvalue.causal.strs (vs All)</th>\n",
       "      <td>0.240403</td>\n",
       "      <td>0.649095</td>\n",
       "      <td>0.017085</td>\n",
       "      <td>1.000000</td>\n",
       "      <td>0.019930</td>\n",
       "      <td>0.725364</td>\n",
       "      <td>0.273092</td>\n",
       "      <td>0.248253</td>\n",
       "      <td>0.408366</td>\n",
       "      <td>0.452048</td>\n",
       "      <td>0.170649</td>\n",
       "    </tr>\n",
       "    <tr>\n",
       "      <th>oddsratio.causal.strs (vs all)</th>\n",
       "      <td>inf</td>\n",
       "      <td>0.693069</td>\n",
       "      <td>0.356468</td>\n",
       "      <td>inf</td>\n",
       "      <td>0.238340</td>\n",
       "      <td>0.785141</td>\n",
       "      <td>0.653928</td>\n",
       "      <td>0.637317</td>\n",
       "      <td>0.416016</td>\n",
       "      <td>1.210300</td>\n",
       "      <td>0.513759</td>\n",
       "    </tr>\n",
       "    <tr>\n",
       "      <th>pvalue.causal.estrs (vs All)</th>\n",
       "      <td>0.771735</td>\n",
       "      <td>0.081764</td>\n",
       "      <td>0.081107</td>\n",
       "      <td>1.000000</td>\n",
       "      <td>0.534514</td>\n",
       "      <td>0.293692</td>\n",
       "      <td>0.064797</td>\n",
       "      <td>0.003858</td>\n",
       "      <td>1.000000</td>\n",
       "      <td>0.774069</td>\n",
       "      <td>0.012351</td>\n",
       "    </tr>\n",
       "    <tr>\n",
       "      <th>oddsratio.causal.estrs (vs all)</th>\n",
       "      <td>0.697183</td>\n",
       "      <td>3.136691</td>\n",
       "      <td>1.861323</td>\n",
       "      <td>0.000000</td>\n",
       "      <td>0.501166</td>\n",
       "      <td>1.673913</td>\n",
       "      <td>1.809524</td>\n",
       "      <td>2.560000</td>\n",
       "      <td>1.016204</td>\n",
       "      <td>0.944411</td>\n",
       "      <td>2.568826</td>\n",
       "    </tr>\n",
       "  </tbody>\n",
       "</table>\n",
       "</div>"
      ],
      "text/plain": [
       "                                     3utr      5utr   H3K27ac  H3K27me3  \\\n",
       "Features                                                                  \n",
       "pvalue _allestrs                 1.000000  1.000000  1.000000  1.000000   \n",
       "oddsratio_allestrs                    inf  0.863309  1.015267       NaN   \n",
       "pvalue_causalestrs               0.574146  0.033690  0.015416  1.000000   \n",
       "oddsratio_causalestrs            0.580173  3.949640  2.717557  0.000000   \n",
       "pvalue.causal.strs (vs All)      0.240403  0.649095  0.017085  1.000000   \n",
       "oddsratio.causal.strs (vs all)        inf  0.693069  0.356468       inf   \n",
       "pvalue.causal.estrs (vs All)     0.771735  0.081764  0.081107  1.000000   \n",
       "oddsratio.causal.estrs (vs all)  0.697183  3.136691  1.861323  0.000000   \n",
       "\n",
       "                                 H3K36me3   H3K4me1   H3K4me2   H3K4me3  \\\n",
       "Features                                                                  \n",
       "pvalue _allestrs                 0.335292  0.597343  1.000000  1.000000   \n",
       "oddsratio_allestrs               0.279720       inf  0.904762  0.960000   \n",
       "pvalue_causalestrs               1.000000  0.271737  0.033898  0.001110   \n",
       "oddsratio_causalestrs            0.725275  1.826087  2.080952  3.128889   \n",
       "pvalue.causal.strs (vs All)      0.019930  0.725364  0.273092  0.248253   \n",
       "oddsratio.causal.strs (vs all)   0.238340  0.785141  0.653928  0.637317   \n",
       "pvalue.causal.estrs (vs All)     0.534514  0.293692  0.064797  0.003858   \n",
       "oddsratio.causal.estrs (vs all)  0.501166  1.673913  1.809524  2.560000   \n",
       "\n",
       "                                   coding   introns       tss  \n",
       "Features                                                       \n",
       "pvalue _allestrs                 1.000000  0.484693  0.267991  \n",
       "oddsratio_allestrs                    inf  1.509804  0.490385  \n",
       "pvalue_causalestrs               1.000000  0.693927  0.003183  \n",
       "oddsratio_causalestrs            1.277778  0.911406  3.442308  \n",
       "pvalue.causal.strs (vs All)      0.408366  0.452048  0.170649  \n",
       "oddsratio.causal.strs (vs all)   0.416016  1.210300  0.513759  \n",
       "pvalue.causal.estrs (vs All)     1.000000  0.774069  0.012351  \n",
       "oddsratio.causal.estrs (vs all)  1.016204  0.944411  2.568826  "
      ]
     },
     "execution_count": 23,
     "metadata": {},
     "output_type": "execute_result"
    }
   ],
   "source": [
    "bins = np.percentile(data[data[\"best.q\"]<=MINQ][\"best.score\"], q = percentiles)\n",
    "data = data1[data1[\"best.score\"] >= 0]\n",
    "Xe = []\n",
    "Xc = []\n",
    "Xce = []\n",
    "Pe = []\n",
    "Pc = []\n",
    "Pec = []\n",
    "\n",
    "Table={}\n",
    "Table['Features']=[\"pvalue _allestrs\",\"oddsratio_allestrs\",\"pvalue_causalestrs\",\"oddsratio_causalestrs\",\"pvalue.causal.strs (vs All)\",\"oddsratio.causal.strs (vs all)\",\"pvalue.causal.estrs (vs All)\",\"oddsratio.causal.estrs (vs all)\"]\n",
    "\n",
    "\n",
    "lb = bins[len(bins)-3] #change this for the top bin\n",
    "ub = bins[len(bins)-1] \n",
    "D = data[(data[\"best.score\"]>lb) & (data[\"best.score\"]<= ub) & (data[\"best.q\"]<=MINQ)]\n",
    "EE = D.loc[D['E.tissues']>=1]\n",
    "causal = [i for i in list(D['top.variant']) if 'STR_' in i]\n",
    "CAUS  = D.loc[D['top.variant'].isin(causal)]\n",
    "CAUSe = CAUS.loc[CAUS['E.tissues']>=1]\n",
    "C  = CAUS.shape[0]\n",
    "Ce = CAUSe.shape[0]\n",
    "E  = EE.loc[EE[key]>0].shape[0]\n",
    "\n",
    "\n",
    "for key in keys:\n",
    "    allfeature = D.loc[D[key]>0]\n",
    "    CEF = allfeature.loc[allfeature['gene'].isin(list(CAUSe['gene']))].shape[0]\n",
    "    CF  = allfeature.loc[allfeature['top.variant'].isin(causal)].shape[0]\n",
    "    EF  = allfeature.loc[allfeature['E.tissues']>=1].shape[0]\n",
    "    \n",
    "    #cont. tables CTT\n",
    "    CTTc = [[CEF , Ce-CEF],[CF - CEF, (CAUS.shape[0]-CF)- (Ce-CEF)]]\n",
    "    CTTe = [[CEF , Ce-CEF],[EF - CEF, (EE.shape[0] - Ce ) - (EF-CEF)]]\n",
    "    non_feat = D.shape[0] - allfeature.shape[0]\n",
    "    CTTc1= [[CF , C-CF],[allfeature.shape[0]-CF , non_feat - (C-CF)]]\n",
    "    CTTc2= [[CEF , Ce-CEF],[allfeature.shape[0]-CEF , non_feat - (Ce-CEF)]]\n",
    "\n",
    "    #\n",
    "    orc, pvc = ss.fisher_exact(CTTc)\n",
    "    ore, pve = ss.fisher_exact(CTTe)\n",
    "    or1c, pvec1 = ss.fisher_exact(CTTc1)\n",
    "    or2c, pvec2 = ss.fisher_exact(CTTc2)\n",
    "    \n",
    "    #\n",
    "    Table[key] = [pve, ore,pvc,orc,pvec1,or1c, pvec2, or2c]\n",
    "    Pe.append(pve)\n",
    "    Xe.append(np.log2(ore)) #estrs\n",
    "    Pc.append(pvc)\n",
    "    Xc.append(np.log2(orc)) #causal-estrs in estrs\n",
    "    Pec.append(pvec)\n",
    "    Xce.append(np.log2(or1c))#Causal estrs in all\n",
    "\n",
    "T = pd.DataFrame(Table)   \n",
    "T.index=T['Features']\n",
    "del T['Features']\n",
    "Marks = ['**' if v < 0.05 else ' ' if v <= 0.1 else '' for v in Pc]\n",
    "T"
   ]
  },
  {
   "cell_type": "code",
   "execution_count": 24,
   "metadata": {
    "collapsed": false
   },
   "outputs": [
    {
     "data": {
      "text/plain": [
       "array([2.864670e-31, 3.636100e-02, 4.770020e-02, 6.618222e-02,\n",
       "       9.671876e-02, 1.656880e-01, 9.999970e-01])"
      ]
     },
     "execution_count": 24,
     "metadata": {},
     "output_type": "execute_result"
    }
   ],
   "source": [
    "bins"
   ]
  },
  {
   "cell_type": "code",
   "execution_count": 25,
   "metadata": {
    "collapsed": false
   },
   "outputs": [
    {
     "data": {
      "text/plain": [
       "0.09671875999999999"
      ]
     },
     "execution_count": 25,
     "metadata": {},
     "output_type": "execute_result"
    }
   ],
   "source": [
    "lb"
   ]
  },
  {
   "cell_type": "code",
   "execution_count": 26,
   "metadata": {
    "collapsed": false
   },
   "outputs": [
    {
     "data": {
      "image/png": "[encoded data removed]",
      "text/plain": [
       "<matplotlib.figure.Figure at 0x7fc514180898>"
      ]
     },
     "metadata": {},
     "output_type": "display_data"
    }
   ],
   "source": [
    "fig = plt.figure()\n",
    "fig.set_size_inches((12, 5))\n",
    "#COL = [\"green\",\"red\",\"black\",'m','maroon', 'navy','lightblue', 'pink', 'mediumpurple', 'orange','yellow',\"blue\",\"gray\"]\n",
    "Marks = ['**' if v < 0.05 else ' ' if v <= 0.1 else '' for v in Pc]\n",
    "ax = fig.add_subplot(121)\n",
    "i = 1\n",
    "w=0.25\n",
    "xvals = np.array(range(len(keys)))\n",
    "Xc =[0.00 if (i==-inf or i==inf )else i for i in Xc]\n",
    "Xc1 =[0.00 if (i==-inf or i==inf )else i for i in Xce]\n",
    "Xe =[0.00 if (i==-inf or i==inf )else i for i in Xe]\n",
    "bars1 = ax.bar(xvals, Xe, color=\"blue\", edgecolor=\"white\", width=w, label=\"eSTRs with feature\")\n",
    "bars2 = ax.bar(xvals+w, Xc, color=\"gray\", edgecolor=\"white\", width=w, label=\"Causal eSTRs with feature\")\n",
    "bars3 = ax.bar(xvals+2*w, Xc1, color=\"green\", edgecolor=\"white\", width=w, label=\"Causal STRs with feature in all STRs\")\n",
    "ax.set_xticks(xvals)\n",
    "ax.set_xlabel(\"Features\", size=15)\n",
    "ax.set_ylabel(\"-log2(Odd ratios)\", size=15)\n",
    "ax.set_xticklabels(keys, size=12, rotation=90)\n",
    "ax.set_yticklabels(ax.get_yticks(), size=12)\n",
    "ax.axhline(y = 0.0, linestyle=\"dashed\", color=\"red\")\n",
    "ax.spines['right'].set_visible(False)\n",
    "ax.spines['top'].set_visible(False)\n",
    "ax.yaxis.set_ticks_position('left')\n",
    "ax.xaxis.set_ticks_position('bottom')\n",
    "plt.legend(bbox_to_anchor=(1.05, 1), loc=2, borderaxespad=0.)\n",
    "plt.title('    ')\n",
    "for i in range(len(keys)):\n",
    "    height = max([bars1[i].get_height(), bars2[i].get_height(), bars3[i].get_height()])\n",
    "    label = Marks[i]\n",
    "    ax.text(bars2[i].get_x() + bars2[i].get_width()/2.+w/2, 1.05*height, label, ha=\"center\", va=\"bottom\")\n",
    "    i+=1\n",
    "plt.title('STRs with top causal scores and \\noverlap with different feature \\nOr within 1500bps of target gene')\n",
    "plt.show()\n"
   ]
  },
  {
   "cell_type": "code",
   "execution_count": 27,
   "metadata": {
    "collapsed": false
   },
   "outputs": [
    {
     "data": {
      "text/plain": [
       "515"
      ]
     },
     "execution_count": 27,
     "metadata": {},
     "output_type": "execute_result"
    }
   ],
   "source": [
    "len(causal)"
   ]
  },
  {
   "cell_type": "code",
   "execution_count": null,
   "metadata": {
    "collapsed": true
   },
   "outputs": [],
   "source": []
  }
 ],
 "metadata": {
  "kernelspec": {
   "display_name": "Python 3",
   "language": "python",
   "name": "python3"
  },
  "language_info": {
   "codemirror_mode": {
    "name": "ipython",
    "version": 3
   },
   "file_extension": ".py",
   "mimetype": "text/x-python",
   "name": "python",
   "nbconvert_exporter": "python",
   "pygments_lexer": "ipython3",
   "version": "3.4.5"
  }
 },
 "nbformat": 4,
 "nbformat_minor": 2
}
