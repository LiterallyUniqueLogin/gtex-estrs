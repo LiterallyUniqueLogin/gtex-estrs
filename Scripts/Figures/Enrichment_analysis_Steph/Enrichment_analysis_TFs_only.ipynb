{
 "cells": [
  {
   "cell_type": "code",
   "execution_count": 1,
   "metadata": {
    "collapsed": true
   },
   "outputs": [],
   "source": [
    "def getfisher(R, TISSUES):\n",
    "    O=defaultdict(list)\n",
    "    Mapdata = {}\n",
    "    Motifs = list(set(list(R.loc[R['E.tissues']>=1]['motif'])))\n",
    "    for tis in TISSUES:\n",
    "        #Review motif policies here\n",
    "        field= 'eSTR.'+SHORTEN[tis]\n",
    "        # Focus on estrs and motifs\n",
    "        data = R[[\"gene\",\"chrom\", \"str.start\",\"motif\",field]]#,\"best.score\",\"best.tissue\",\"INTRON\"]]\n",
    "        data_e = data.loc[data[field]>0]\n",
    "        #\n",
    "        #frequent_motifs estrs\n",
    "        Mo_counts=[list(data['motif']).count(x) for x in Motifs]\n",
    "        Estr = data_e.shape[0]\n",
    "        Str = data.shape[0]\n",
    "        All = []\n",
    "        # Fisher test for each motif\n",
    "        for M in Motifs:\n",
    "            data_eM = data_e.loc[data_e['motif']==M]\n",
    "            data_M = data.loc[data['motif']==M]\n",
    "            Mestrs = data_eM.shape[0]\n",
    "            Mstrs = data_M.shape[0]\n",
    "            CTT = [[Mestrs, Estr - Mestrs] , [Mstrs-Mestrs , Str-Estr -(Mstrs - Mestrs)]] #contengency\n",
    "            oddsratio, pv = ss.fisher_exact([CTT[0], CTT[1]])                             #Fisher\n",
    "            #print (\"P (\", M, \")    ~~   \",pv*100,\"%     with    OR=\", oddsratio)\n",
    "            All.append([M,list(data_e['motif']).count(M),-np.log10(pv),oddsratio])\n",
    "            O[M].append(oddsratio)\n",
    "            #\n",
    "        Mapdata[tis]=All\n",
    "    #Selecting motifs present in all tissues\n",
    "    Mset = []\n",
    "    for o in O.keys():      # O has all the motifs and occurence in tissues\n",
    "        if len(O[o])>=len(TISSUES):\n",
    "            Mset.append(o)\n",
    "    print(len(Mset))\n",
    "    #heatmap matix\n",
    "    pdata = np.zeros((len(TISSUES), len(Mset)))\n",
    "    for i in range(len(TISSUES)):\n",
    "        T = TISSUES[i]\n",
    "        for j in range(len(Mset)):\n",
    "            m=Mset[j]\n",
    "            val = [s[2] for s in  Mapdata[T] if s[0]==m ]\n",
    "            if val==[]:\n",
    "                pdata[i][j] =0\n",
    "            else:\n",
    "                pdata[i][j] =val[0]\n",
    "    return Mset, O,Mapdata, pdata\n",
    "\n"
   ]
  },
  {
   "cell_type": "code",
   "execution_count": 2,
   "metadata": {
    "collapsed": false
   },
   "outputs": [
    {
     "name": "stdout",
     "output_type": "stream",
     "text": [
      "Populating the interactive namespace from numpy and matplotlib\n"
     ]
    }
   ],
   "source": [
    "# Set up\n",
    "%store -r\n",
    "%pylab inline\n",
    "\"\"\"\n",
    "Here i want to look at TF of interest individually\n",
    "\n",
    "\"\"\"\n",
    "# Libraries\n",
    "from collections import defaultdict\n",
    "from matplotlib import gridspec\n",
    "import matplotlib.pyplot as plt\n",
    "import numpy as np\n",
    "import os\n",
    "import pandas as pd\n",
    "import scipy.stats as ss\n",
    "import seaborn.apionly as sns\n",
    "\n",
    "#variables\n",
    "SHORTEN\n",
    "COLORS\n",
    "TISSUES\n",
    "#\n",
    "#TISSUES = sorted([item for item in list(SHORTEN.keys()) if item not in['LCL','permuted']])\n",
    "MERGEFILE = '/storage/szfeupe/Runs/650GTEx_estr/Analysis_by_Tissue/Merged_Best_causality.Table'\n",
    "REGRSSION = '/storage/szfeupe/Runs/650GTEx_estr/Analysis_by_Tissue/LR_SummaryTest_Table.tsv'\n",
    "OUTDIR = \"/storage/szfeupe/Runs/650GTEx_estr/Analysis_by_Tissue/\""
   ]
  },
  {
   "cell_type": "code",
   "execution_count": 25,
   "metadata": {
    "collapsed": false
   },
   "outputs": [],
   "source": [
    "%%bash\n",
    "# Get all STRs analyzed\n",
    "BASEDIR=/storage/szfeupe/Runs/650GTEx_estr/Analysis_by_Tissue\n",
    "cat ${BASEDIR}/Merged_Best_causality.Table | grep -v gene | awk '{print $2 \"\\t\" $3+0 \"\\t\" $3+1}'|sort | uniq >all_analyzed_strs.bed"
   ]
  },
  {
   "cell_type": "code",
   "execution_count": 26,
   "metadata": {
    "collapsed": false
   },
   "outputs": [],
   "source": [
    "mytf = 'MLLT1'                                         #Transcription factor of interest\n",
    "TFs = '/storage/mgymrek/gtex/tfbs/encodedata/'\n",
    "transfacts = os.listdir(TFs)\n",
    "transfacts = [x for x in transfacts if mytf in x][0] \n",
    "mytf = TFs+transfacts"
   ]
  },
  {
   "cell_type": "code",
   "execution_count": 27,
   "metadata": {
    "collapsed": false
   },
   "outputs": [],
   "source": [
    "#get all overlaps\n",
    "cmd = \"bedtools intersect -a all_analyzed_strs.bed -b %s > Intersect.bed\"%MERGEFILE\n",
    "returned_value = os.system(cmd)\n",
    "Inter = pd.read_csv('Intersect.bed', sep='\\t', header=None, names=[\"chrom\",\"start\",\"end\"])\n",
    "Feature_strs = list(set(Inter.apply(lambda x: x[\"chrom\"]+\":\"+str(x[\"start\"]), 1)))"
   ]
  },
  {
   "cell_type": "code",
   "execution_count": 6,
   "metadata": {
    "collapsed": false,
    "scrolled": false
   },
   "outputs": [],
   "source": [
    "#Look at overlaps and eSTRs\n",
    "all_strs = pd.read_csv(REGRSSION, sep='\\t')\n",
    "all_strs = all_strs[np.isfinite(all_strs['str.start'])] #Just in case we have NA here. shouldn't\n",
    "all_strs['str.start']=all_strs['str.start'].astype(int)\n",
    "all_strs['loci'] = all_strs.apply(lambda x: x[\"chrom\"]+\":\"+str(x[\"str.start\"]), 1)\n",
    "data = all_strs.loc[all_strs['loci'].isin(Feature_strs)].copy()\n",
    "#Causal\n",
    "merged = pd.read_csv(MERGEFILE, sep=\"\\t\")\n",
    "merged['str.start'] = merged['best.str.start']\n",
    "merged = merged[np.isfinite(merged['str.start'])]; merged['str.start'] = merged['str.start'].astype(int) \n",
    "merged['loci'] = merged[\"chrom\"]+\":\"+merged[\"str.start\"].astype(str)\n",
    "mergedFeat = merged.loc[merged['loci'].isin(Feature_strs)].copy()\n",
    "#check\n",
    "mergedFeat['causal'] = mergedFeat['top.variant'].apply(lambda x: 1 if \"STR\" in x else 0)\n",
    "Causal_strs = list(mergedFeat.loc[mergedFeat['causal']==1]['loci'])                            "
   ]
  },
  {
   "cell_type": "code",
   "execution_count": 7,
   "metadata": {
    "collapsed": false
   },
   "outputs": [
    {
     "name": "stdout",
     "output_type": "stream",
     "text": [
      "0\n"
     ]
    }
   ],
   "source": [
    "#Motif enrichment \n",
    "#background = all STR at TF           forground motif enriched at eSTR \n",
    "Mset,O,Mapdata,pdata = getfisher(data,TISSUES)\n",
    "df1 = pd.DataFrame(pdata)\n",
    "df1.index = [SHORTEN[t] for t in TISSUES]\n",
    "df1.columns = Mset"
   ]
  },
  {
   "cell_type": "code",
   "execution_count": null,
   "metadata": {
    "collapsed": false
   },
   "outputs": [],
   "source": [
    "#plot enricment (-log10(pvalue) Fisher test)\n",
    "fig, ax = plt.subplots(figsize=(20, 10))\n",
    "cmap = sns.diverging_palette(15, 265, s=80, l=55, n=9, as_cmap=True)    \n",
    "sns.heatmap(df1, cmap=cmap, annot_kws={\"size\": 8},\n",
    "            vmin=0.5, vmax=2, square=True, ax=ax, linewidths=0.5, cbar_kws={\"shrink\": 0.5});\n",
    "ax.invert_xaxis();\n",
    "plt.show()"
   ]
  },
  {
   "cell_type": "code",
   "execution_count": null,
   "metadata": {
    "collapsed": false
   },
   "outputs": [],
   "source": [
    "#plot enricment  log2(odd ratio) of fisher test\n",
    "odds = np.zeros((len(TISSUES), len(Mset)))\n",
    "for i in range(len(TISSUES)):\n",
    "    T = TISSUES[i]\n",
    "    for j in range(len(Mset)):\n",
    "        m=Mset[j]\n",
    "        val = [np.log2(s[3]) for s in  Mapdata[T] if s[0]==m ]\n",
    "        if val==[]:\n",
    "            odds[i][j] =0\n",
    "        else:\n",
    "            odds[i][j] =val[0]\n",
    "#\n",
    "df = pd.DataFrame(odds)\n",
    "df.index = [SHORTEN[t] for t in TISSUES]\n",
    "df.columns = Mset\n",
    "fig, ax = plt.subplots(figsize=(20, 10))\n",
    "cmap = sns.diverging_palette(15, 265, s=80, l=55, n=9, as_cmap=True)    \n",
    "sns.heatmap(df, cmap=cmap, annot_kws={\"size\": 8},\n",
    "            vmin=0.5, vmax=2, square=True, ax=ax, linewidths=0.5, cbar_kws={\"shrink\": 0.5});\n",
    "ax.invert_xaxis();\n",
    "plt.show()"
   ]
  },
  {
   "cell_type": "code",
   "execution_count": null,
   "metadata": {
    "collapsed": true
   },
   "outputs": [],
   "source": []
  }
 ],
 "metadata": {
  "kernelspec": {
   "display_name": "Python 3",
   "language": "python",
   "name": "python3"
  },
  "language_info": {
   "codemirror_mode": {
    "name": "ipython",
    "version": 3
   },
   "file_extension": ".py",
   "mimetype": "text/x-python",
   "name": "python",
   "nbconvert_exporter": "python",
   "pygments_lexer": "ipython3",
   "version": "3.4.5"
  }
 },
 "nbformat": 4,
 "nbformat_minor": 2
}
