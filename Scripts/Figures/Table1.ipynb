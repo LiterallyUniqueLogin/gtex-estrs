{
 "cells": [
  {
   "cell_type": "markdown",
   "metadata": {},
   "source": [
    "# Table 1. For each tissue, report:\n",
    "* Number of samples included\n",
    "* Num genes tested\n",
    "* Number of eSTRs\n",
    "* GCTA: % cis h2 explained by STRs\n",
    "* GCTA: total cis h2 explained by STRs\n",
    "* Number passing ANOVA p<0.05 (after FDR adjustment)\n",
    "* CAVIAR: number of eSTRs that have the top CAVIAR score compared to nearby SNPs\n",
    "\n",
    "# TODO\n",
    "* Why is anova p-value significant for all eSTRs? That can't be right\n",
    "* Why are h2 values so high?\n",
    "* Number of samples for each tissue"
   ]
  },
  {
   "cell_type": "code",
   "execution_count": 16,
   "metadata": {
    "collapsed": false
   },
   "outputs": [
    {
     "name": "stdout",
     "output_type": "stream",
     "text": [
      "Populating the interactive namespace from numpy and matplotlib\n"
     ]
    }
   ],
   "source": [
    "# Set up\n",
    "%pylab inline\n",
    "\n",
    "# Allow us to edit fonts in Illustrator\n",
    "import matplotlib\n",
    "matplotlib.rcParams['ps.useafm'] = True\n",
    "matplotlib.rcParams['pdf.use14corefonts'] = True\n",
    "matplotlib.rcParams['text.usetex'] = True\n",
    "\n",
    "# Libraries\n",
    "import matplotlib.pyplot as plt\n",
    "import numpy as np\n",
    "import os\n",
    "import pandas as pd\n",
    "import scipy.stats\n",
    "\n",
    "# Params\n",
    "QVAL = 0.1\n",
    "ANOVATHRESH = 0.05\n",
    "SHORTEN = {\n",
    "    \"WholeBlood\": \"Blood\",\n",
    "    \"Cells-Transformedfibroblasts\": \"Fibr.\",\n",
    "    \"Muscle-Skeletal\": \"Muscle\",\n",
    "    \"Artery-Tibial\": \"Artery\",\n",
    "    \"Adipose-Subcutaneous\": \"Adipose\",\n",
    "    \"Lung\": \"Lung\",\n",
    "    \"Esophagus-Mucosa\": \"Esophagus\",\n",
    "}\n",
    "\n",
    "# Path to data\n",
    "RESDIR = \"/storage/szfeupe/Runs/GTEx_estr/Analysis_by_Tissue/\"\n",
    "TISSUES = [item for item in list(SHORTEN.keys())]\n",
    "\n",
    "data = {}\n",
    "for t in TISSUES:\n",
    "    data[t] = data[t] = pd.read_csv(os.path.join(RESDIR, t, \"Master.table\"), sep=\"\\t\")"
   ]
  },
  {
   "cell_type": "code",
   "execution_count": null,
   "metadata": {
    "collapsed": false
   },
   "outputs": [],
   "source": [
    "num_genes = []\n",
    "num_estrs = []\n",
    "anova_pass = []\n",
    "num_caviar_best = []\n",
    "gcta_perc_estr = []\n",
    "gcta_perc_all = []\n",
    "gcta_r2_estr = []\n",
    "gcta_r2_all = []\n",
    "num_samples = []\n",
    "\n",
    "for t in TISSUES:\n",
    "    xall = data[t]\n",
    "    xsig = xall[xall[\"qvalue\"]<=QVAL]\n",
    "    num_genes.append(xall.shape[0])\n",
    "    num_estrs.append(xsig.shape[0])\n",
    "    anova_pass.append(xsig[(xsig[\"AD.pval\"]<ANOVATHRESH)].shape[0])\n",
    "    num_caviar_best.append(xsig[(xsig[\"best.str.score\"]>=xsig[\"top.variant.score\"])].shape[0])\n",
    "    gcta_perc_estr.append(np.mean(xsig[~np.isnan(xsig[\"cis_str_h2\"])].apply(lambda x: x[\"cis_str_h2\"]/(x[\"cis_str_h2\"]+x[\"cis_snp_h2\"]), 1)))\n",
    "    gcta_perc_all.append(np.mean(xall[~np.isnan(xall[\"cis_str_h2\"])].apply(lambda x: x[\"cis_str_h2\"]/(x[\"cis_str_h2\"]+x[\"cis_snp_h2\"]), 1)))\n",
    "    gcta_r2_estr.append(np.mean(xsig[~np.isnan(xsig[\"cis_str_h2\"])].apply(lambda x: x[\"cis_str_h2\"], 1)))\n",
    "    gcta_r2_all.append(np.mean(xall[~np.isnan(xall[\"cis_str_h2\"])].apply(lambda x: x[\"cis_str_h2\"], 1)))\n",
    "    num_samples.append(\"?\") # TODO\n",
    "    \n",
    "mtable = pd.DataFrame({\n",
    "    \"00_samples\": num_samples,\n",
    "    \"0_tissue\": [SHORTEN[t] for t in TISSUES],\n",
    "    \"1_numgenes\": num_genes,\n",
    "    \"2_num.estrs\": num_estrs,\n",
    "    \"3_gcta.estr.perch2\": gcta_perc_estr,\n",
    "    \"4_gcta.all.perch2\": gcta_perc_all,\n",
    "    \"5_gcta.estr.r2\": gcta_r2_estr,\n",
    "    \"6_gcta.all.r2\": gcta_r2_all,\n",
    "    \"7_anova.pass\": anova_pass,\n",
    "    \"8_num_caviar_best\": num_caviar_best,\n",
    "})\n",
    "\n",
    "mtable"
   ]
  }
 ],
 "metadata": {
  "kernelspec": {
   "display_name": "Python 3",
   "language": "python",
   "name": "python3"
  },
  "language_info": {
   "codemirror_mode": {
    "name": "ipython",
    "version": 3
   },
   "file_extension": ".py",
   "mimetype": "text/x-python",
   "name": "python",
   "nbconvert_exporter": "python",
   "pygments_lexer": "ipython3",
   "version": "3.4.5"
  }
 },
 "nbformat": 4,
 "nbformat_minor": 2
}
