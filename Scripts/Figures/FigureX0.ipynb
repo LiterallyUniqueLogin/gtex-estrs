{
 "cells": [
  {
   "cell_type": "code",
   "execution_count": null,
   "metadata": {
    "collapsed": true
   },
   "outputs": [],
   "source": [
    "'''\n",
    "Figure X: convincing examples where we get insights into the biology\n",
    "\n",
    "LitteratureExamples=[\"ENSG00000115129.9\",\"ENSG00000018280.12\",\"ENSG00000146648.11\",\"ENSG00000164692.13\",\"ENSG00000149948.9\",\"ENSG00000111537.4\",\"ENSG00000007171.12\",\"ENSG00000100985.7\"]\n",
    "BiologicalInsightExamples=[]\n",
    "\n",
    "'''\n",
    "#RNA binding proteins\n",
    "RBPs have crucial roles in various cellular processes such as: cellular function, transport \n",
    "    and localization. They especially play a major role in post-transcriptional control of RNAs, \n",
    "    such as: splicing, polyadenylation, mRNA stabilization, mRNA localization and translation.\n",
    "#transcription factors\n",
    "\n",
    "                                            \n",
    "\n"
   ]
  }
 ],
 "metadata": {
  "kernelspec": {
   "display_name": "Python 3",
   "language": "python",
   "name": "python3"
  },
  "language_info": {
   "codemirror_mode": {
    "name": "ipython",
    "version": 3
   },
   "file_extension": ".py",
   "mimetype": "text/x-python",
   "name": "python",
   "nbconvert_exporter": "python",
   "pygments_lexer": "ipython3",
   "version": "3.4.5"
  }
 },
 "nbformat": 4,
 "nbformat_minor": 2
}
