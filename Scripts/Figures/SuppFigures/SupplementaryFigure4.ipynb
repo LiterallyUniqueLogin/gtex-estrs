{
 "cells": [
  {
   "cell_type": "code",
   "execution_count": 45,
   "metadata": {
    "collapsed": false
   },
   "outputs": [],
   "source": [
    "## Unique vs. shared estrs per tissue\n",
    "import pandas as pd\n",
    "import numpy as np\n",
    "import matplotlib.pyplot as plt\n",
    "\n",
    "COLORS = {\n",
    "    \"WholeBlood\": \"m\",\"Cells-Transformedfibroblasts\": \"skyblue\",\n",
    "    \"Muscle-Skeletal\": \"mediumslateblue\",\n",
    "    \"Artery-Tibial\": \"red\", \"Adipose-Subcutaneous\": \"orange\",\n",
    "    \"Lung\": \"greenyellow\",\"Esophagus-Mucosa\": \"burlywood\"\n",
    "}\n",
    "\n",
    "SHORTEN = {\n",
    "    \"WholeBlood\": \"Blood\",\"Cells-Transformedfibroblasts\": \"Fibroblast\",\n",
    "    \"Muscle-Skeletal\": \"Muscle\",\"Artery-Tibial\": \"Artery\",\n",
    "    \"Adipose-Subcutaneous\": \"Adipose\",\"Lung\": \"Lung\",\n",
    "    \"Esophagus-Mucosa\": \"Esophagus\"\n",
    "}\n",
    "\n",
    "ESTRCOLS = {\n",
    "    \"WholeBlood\":\"Blood_eSTR?\",\"Cells-Transformedfibroblasts\":\"Fibroblast_eSTR?\", \n",
    "    \"Muscle-Skeletal\":\"MuscleS_eSTR?\",\"Artery-Tibial\":\"ArteryT_eSTR?\",\"Lung\":\"Lung_eSTR?\",\n",
    "    \"Adipose-Subcutaneous\":\"AdipSub_eSTR?\",\"Esophagus-Mucosa\":\"Esophagus_eSTR?\"}\n",
    "\n",
    "TABLE = \"/storage/szfeupe/Runs/GTEx_estr/LR_SummaryTest_Table.tsv\"\n"
   ]
  },
  {
   "cell_type": "code",
   "execution_count": 46,
   "metadata": {
    "collapsed": false
   },
   "outputs": [
    {
     "name": "stderr",
     "output_type": "stream",
     "text": [
      "/usr/lib/python3.4/site-packages/IPython/core/interactiveshell.py:2717: DtypeWarning: Columns (8) have mixed types. Specify dtype option on import or set low_memory=False.\n",
      "  interactivity=interactivity, compiler=compiler, result=result)\n"
     ]
    },
    {
     "data": {
      "text/html": [
       "<div>\n",
       "<table border=\"1\" class=\"dataframe\">\n",
       "  <thead>\n",
       "    <tr style=\"text-align: right;\">\n",
       "      <th>Counts.Tissues</th>\n",
       "      <th>Total.eSTRs</th>\n",
       "      <th>Uniq.eSTRs</th>\n",
       "      <th>Shared.eSTRs</th>\n",
       "      <th>Shared.by.5+</th>\n",
       "    </tr>\n",
       "  </thead>\n",
       "  <tbody>\n",
       "    <tr>\n",
       "      <th>Adipose</th>\n",
       "      <td>356</td>\n",
       "      <td>161</td>\n",
       "      <td>195</td>\n",
       "      <td>59</td>\n",
       "    </tr>\n",
       "    <tr>\n",
       "      <th>Artery</th>\n",
       "      <td>503</td>\n",
       "      <td>272</td>\n",
       "      <td>231</td>\n",
       "      <td>62</td>\n",
       "    </tr>\n",
       "    <tr>\n",
       "      <th>Blood</th>\n",
       "      <td>630</td>\n",
       "      <td>428</td>\n",
       "      <td>202</td>\n",
       "      <td>54</td>\n",
       "    </tr>\n",
       "    <tr>\n",
       "      <th>Esophagus</th>\n",
       "      <td>446</td>\n",
       "      <td>248</td>\n",
       "      <td>198</td>\n",
       "      <td>56</td>\n",
       "    </tr>\n",
       "    <tr>\n",
       "      <th>Fibroblast</th>\n",
       "      <td>912</td>\n",
       "      <td>647</td>\n",
       "      <td>265</td>\n",
       "      <td>62</td>\n",
       "    </tr>\n",
       "    <tr>\n",
       "      <th>Lung</th>\n",
       "      <td>336</td>\n",
       "      <td>147</td>\n",
       "      <td>189</td>\n",
       "      <td>56</td>\n",
       "    </tr>\n",
       "    <tr>\n",
       "      <th>Muscle</th>\n",
       "      <td>290</td>\n",
       "      <td>158</td>\n",
       "      <td>132</td>\n",
       "      <td>43</td>\n",
       "    </tr>\n",
       "  </tbody>\n",
       "</table>\n",
       "</div>"
      ],
      "text/plain": [
       "Counts.Tissues  Total.eSTRs  Uniq.eSTRs  Shared.eSTRs  Shared.by.5+\n",
       "Adipose                 356         161           195            59\n",
       "Artery                  503         272           231            62\n",
       "Blood                   630         428           202            54\n",
       "Esophagus               446         248           198            56\n",
       "Fibroblast              912         647           265            62\n",
       "Lung                    336         147           189            56\n",
       "Muscle                  290         158           132            43"
      ]
     },
     "execution_count": 46,
     "metadata": {},
     "output_type": "execute_result"
    }
   ],
   "source": [
    "summary = pd.read_csv(TABLE, sep='\\t')\n",
    "Unique = summary.loc[summary['eSTR_In_tissues']==1]\n",
    "Shared = summary.loc[summary['eSTR_In_tissues']>1]\n",
    "\n",
    "Counts={}\n",
    "Counts['Counts.Tissues']=['Total.eSTRs', 'Uniq.eSTRs','Shared.eSTRs','Shared.by.5+']\n",
    "for T in list(ESTRCOLS.keys()):\n",
    "    K = ESTRCOLS[T]\n",
    "    tot=summary.loc[summary[K]==1].shape[0]\n",
    "    U = Unique.loc[Unique[K]==1].shape[0]\n",
    "    S = Shared.loc[Shared[K]==1].shape[0]\n",
    "    S5 = Shared.loc[(Shared[K]==1) & (Shared['eSTR_In_tissues']>=5)].shape[0]\n",
    "    Counts[SHORTEN[T]]=[tot, U, S, S5]\n",
    "    #\n",
    "df = pd.DataFrame.from_dict(Counts)    \n",
    "df = df[['Counts.Tissues']+sorted(list(SHORTEN.values()))]\n",
    "df.index = df['Counts.Tissues']\n",
    "del df['Counts.Tissues']\n",
    "df = df.transpose()\n",
    "df"
   ]
  },
  {
   "cell_type": "code",
   "execution_count": 50,
   "metadata": {
    "collapsed": false
   },
   "outputs": [
    {
     "data": {
      "image/png": "[encoded data removed]",
      "text/plain": [
       "<matplotlib.figure.Figure at 0x7f4bdd1fd278>"
      ]
     },
     "metadata": {},
     "output_type": "display_data"
    }
   ],
   "source": [
    "xvals = np.array(range(df.shape[0]))\n",
    "w = 0.2\n",
    "fig = plt.figure()\n",
    "ax = fig.add_subplot(111)\n",
    "ax.spines['right'].set_visible(False)\n",
    "ax.spines['top'].set_visible(False)\n",
    "ax.yaxis.set_ticks_position('left')\n",
    "ax.xaxis.set_ticks_position('bottom')\n",
    "bars1 = ax.bar(xvals, df[\"Total.eSTRs\"], color=\"lightgrey\", edgecolor=\"white\", width=w, label=\"Total number eSTRs\")\n",
    "bars2 = ax.bar(xvals+w, df[\"Uniq.eSTRs\"], color=\"lightslategray\", edgecolor=\"white\", width=w, label=\"Unique to tissue\")\n",
    "bars3 = ax.bar(xvals+2*w, df[\"Shared.eSTRs\"], color=\"dimgrey\", edgecolor=\"white\", width=w, label=\"Shared eSTRs\")\n",
    "bars4 = ax.bar(xvals+3*w, df[\"Shared.by.5+\"], color=\"k\", edgecolor=\"white\", width=w, label=\"Shared by 5 or more\")\n",
    "\n",
    "ax.set_xticks(xvals)\n",
    "ax.set_xticklabels(list(df.index), size=10, rotation=45);\n",
    "ax.set_ylabel(\"Number of eSTRs\", size=12)\n",
    "ax.set_yticklabels([int(x) for x in ax.get_yticks()], size=10);\n",
    "ax.legend(loc=\"upper left\", frameon=False);\n",
    "ax.set_xlabel(\"Tissues\", size=12)\n",
    "plt.show()\n",
    "\n",
    "def autolabel(bars):\n",
    "    for ax in bars:\n",
    "        height = ax.get_height()\n",
    "        ax.text(ax.get_x() + ax.get_width()/2., 1.05*height,'%d'% int(height), ha='center', va='bottom')\n",
    "\n",
    "#autolabel(bars3)\n",
    "#autolabel(bars2)\n"
   ]
  },
  {
   "cell_type": "code",
   "execution_count": null,
   "metadata": {
    "collapsed": true
   },
   "outputs": [],
   "source": []
  }
 ],
 "metadata": {
  "kernelspec": {
   "display_name": "Python 3",
   "language": "python",
   "name": "python3"
  },
  "language_info": {
   "codemirror_mode": {
    "name": "ipython",
    "version": 3
   },
   "file_extension": ".py",
   "mimetype": "text/x-python",
   "name": "python",
   "nbconvert_exporter": "python",
   "pygments_lexer": "ipython3",
   "version": "3.4.5"
  }
 },
 "nbformat": 4,
 "nbformat_minor": 2
}
