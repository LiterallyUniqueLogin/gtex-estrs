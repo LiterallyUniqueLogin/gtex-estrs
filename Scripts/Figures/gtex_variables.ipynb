{
 "cells": [
  {
   "cell_type": "code",
   "execution_count": 1,
   "metadata": {
    "collapsed": false
   },
   "outputs": [
    {
     "name": "stdout",
     "output_type": "stream",
     "text": [
      "Stored 'COLORS' (dict)\n",
      "Stored 'SHORTEN' (dict)\n",
      "Stored 'TISSUES' (list)\n"
     ]
    }
   ],
   "source": [
    "# Colors (use colors from GTeX e.g. http://science.sciencemag.org/content/348/6235/648.full)\n",
    "COLORS = {\n",
    "    \"Artery-Aorta\":\"salmon\",\n",
    "    \"Artery-Tibial\": \"red\",\n",
    "    \"Adipose-Subcutaneous\": \"darkorange\",    \n",
    "    \"Adipose-Visceral\":\"orange\",\n",
    "    \"Brain-Caudate\":\"lemonchiffon\"   , \n",
    "    \"Brain-Cerebellum\":\"yellow\",\n",
    "    \"Cells-Transformedfibroblasts\": \"skyblue\",\n",
    "    \"Esophagus-Mucosa\": \"sienna\",\n",
    "    \"Esophagus-Muscularis\":\"burlywood\",\n",
    "    \"Heart-LeftVentricle\":\"darkviolet\",\n",
    "    \"Lung\": \"greenyellow\",\n",
    "    \"Muscle-Skeletal\": \"mediumslateblue\",\n",
    "    \"Nerve-Tibial\":\"gold\",\n",
    "    \"Skin-NotSunExposed\":\"blue\",\n",
    "    \"Skin-SunExposed\":\"cornflowerblue\",\n",
    "    \"Thyroid\":\"green\",\n",
    "    \"WholeBlood\": \"m\",\n",
    "    \"permuted\": \"gray\"\n",
    "}\n",
    "\n",
    "#    \"Thyroid\": \"green\",\n",
    "SHORTEN = {\n",
    "    \"Artery-Aorta\":\"Artery.A\"     ,\n",
    "    \"Artery-Tibial\": \"Artery.T\",\n",
    "    \"Adipose-Subcutaneous\": \"Adipose.S\",    \n",
    "    \"Adipose-Visceral\":\"Adipose.V\",\n",
    "    \"Brain-Caudate\":\"Caudate\"   , \n",
    "    \"Brain-Cerebellum\":\"Cerebellum\",\n",
    "    \"Cells-Transformedfibroblasts\": \"Fibroblast\",\n",
    "    \"Esophagus-Mucosa\": \"Mucosa\",\n",
    "    \"Esophagus-Muscularis\":\"Muscularis\",\n",
    "    \"Heart-LeftVentricle\":\"Heart\",\n",
    "    \"Lung\": \"Lung\",\n",
    "    \"Muscle-Skeletal\": \"Muscle\",\n",
    "    \"Nerve-Tibial\":\"Nerve\",\n",
    "    \"Skin-NotSunExposed\": \"SkinUnexposed\",\n",
    "    \"Skin-SunExposed\":\"SkinLeg\",\n",
    "    \"Thyroid\":\"Thyroid\",\n",
    "    \"WholeBlood\": \"Blood\",\n",
    "    \"permuted\":\"Permuted\",\n",
    "    \"LCL\": \"LCL\"\n",
    "}\n",
    "TISSUES = [item for item in list(COLORS.keys()) if item != \"permuted\"]\n",
    "\n",
    "%store COLORS\n",
    "%store SHORTEN\n",
    "%store TISSUES"
   ]
  }
 ],
 "metadata": {
  "kernelspec": {
   "display_name": "Python 3",
   "language": "python",
   "name": "python3"
  },
  "language_info": {
   "codemirror_mode": {
    "name": "ipython",
    "version": 3
   },
   "file_extension": ".py",
   "mimetype": "text/x-python",
   "name": "python",
   "nbconvert_exporter": "python",
   "pygments_lexer": "ipython3",
   "version": "3.4.5"
  }
 },
 "nbformat": 4,
 "nbformat_minor": 2
}
