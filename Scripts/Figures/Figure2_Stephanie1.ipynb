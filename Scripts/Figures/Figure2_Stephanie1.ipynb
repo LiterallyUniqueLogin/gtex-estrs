{
 "cells": [
  {
   "cell_type": "code",
   "execution_count": null,
   "metadata": {
    "collapsed": true
   },
   "outputs": [],
   "source": [
    "        2.\tCSTB example ",
    "\n",
    "        3.\tOne “negative” example of eSTR with good p-value but poor CAVIAR score ",
    "\n",
    "        3.\tEnrichment as a function of distance to TSS, TES, nearest splice site  ",
    "\n",
    "        4.\tEnrichment by motif "
   ]
  }
 ],
 "metadata": {
  "kernelspec": {
   "display_name": "Python 3",
   "language": "python",
   "name": "python3"
  },
  "language_info": {
   "codemirror_mode": {
    "name": "ipython",
    "version": 3
   },
   "file_extension": ".py",
   "mimetype": "text/x-python",
   "name": "python",
   "nbconvert_exporter": "python",
   "pygments_lexer": "ipython3",
   "version": "3.4.5"
  }
 },
 "nbformat": 4,
 "nbformat_minor": 2
}
