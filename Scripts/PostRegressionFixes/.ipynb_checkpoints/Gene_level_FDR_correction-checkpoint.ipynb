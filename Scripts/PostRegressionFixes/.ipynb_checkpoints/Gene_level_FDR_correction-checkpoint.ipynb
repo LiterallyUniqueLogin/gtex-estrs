{
 "cells": [
  {
   "cell_type": "code",
   "execution_count": 8,
   "metadata": {
    "collapsed": true
   },
   "outputs": [
    {
     "name": "stdout",
     "output_type": "stream",
     "text": [
      "Esophagus-Mucosa/SNP_Analysis\n",
      "(981166, 13) (981133, 13) (981069, 13) End\n",
      "(705710, 13) (705662, 13) (705632, 13) End\n",
      "(616210, 13) (616188, 13) (616154, 13) End\n",
      "(479277, 13) (479257, 13) (479218, 13) End\n",
      "(498914, 13) (498867, 13) (498843, 13) End\n",
      "(690326, 13) (690311, 13) (690268, 13) End\n",
      "(532614, 13) (532592, 13) (532577, 13) End\n",
      "(404828, 13) (404816, 13) (404795, 13) End\n",
      "(412039, 13) (412021, 13) (412000, 13) End\n",
      "(463843, 13) (463830, 13) (463789, 13) End\n",
      "(566467, 13) (566451, 13) (566419, 13) End\n",
      "(549974, 13) (549962, 13) (549944, 13) End\n",
      "(211421, 13) (211420, 13) (211412, 13) End\n",
      "(326535, 13) (326505, 13) (326485, 13) End\n",
      "(315760, 13) (315748, 13) (315728, 13) End\n",
      "(447966, 13) (447961, 13) (447942, 13) End\n",
      "(523334, 13) (523294, 13) (523277, 13) End\n",
      "(192115, 13) (192111, 13) (192105, 13) End\n",
      "(730810, 13) (730795, 13) (730772, 13) End\n",
      "(275148, 13) (275122, 13) (275100, 13) End\n",
      "(130628, 13) (130624, 13) (130623, 13) End\n",
      "(246169, 13) (246148, 13) (246142, 13) End\n",
      "(0, 13) (0, 13) (0, 13) End\n",
      "(0, 13) (0, 13) (0, 13) End\n"
     ]
    }
   ],
   "source": [
    "tissu = ['WholeBlood','Cells-Transformedfibroblasts','Muscle-Skeletal','Lung','Adipose-Subcutaneous','Artery-Tibial','Esophagus-Mucosa']\n",
    "\n",
    "##This code will remove STRs that fall in homopolymer or\n",
    "##least polymorphic sites from linear regression analysis output\n",
    "\n",
    "\n",
    "import pandas as pd\n",
    "import numpy as np\n",
    "\n",
    "def filterregression(Tissu):\n",
    "    #\n",
    "    print(Tissu)\n",
    "    chrs = [i for i in range(1,23)]\n",
    "    chrs.append('X') ; chrs.append('Y')\n",
    "\n",
    "    #regression\n",
    "    Input='/storage/szfeupe/Runs/GTEx_estr/Analysis_by_Tissue/'+Tissu\n",
    "    linreg = pd.read_csv(Input+'/Lin_Reg_Out', sep='\\t')\n",
    "    #linreg = pd.read_csv(Input+'/Lin_Reg_Out_perm', sep='\\t')\n",
    "\n",
    "    #Homopolymers\n",
    "    strfile= \"/storage/szfeupe/Runs/GTEx_estr/Homopolymer_sites.tsv\"\n",
    "    L_pol = pd.read_csv(strfile, sep='\\t')\n",
    "\n",
    "    index=['0']\n",
    "    Out = pd.DataFrame(index=index, columns=linreg.columns)\n",
    "\n",
    "    #LR Cleanup\n",
    "    for i in chrs:\n",
    "    #Open sites to be removed\n",
    "        Lpolym = '/storage/szfeupe/Runs/GTEx_estr/Heterozygosity/Heterozygosity_VCF.chr'+str(i)\n",
    "        Reg_to_remove=pd.read_csv(Lpolym, sep='\\t', header=None)\n",
    "        Reg_to_remove.columns=['CHROM','START','END','NumAlleleLenghts','NumAlleles','Het.length','Het.genotype']\n",
    "        Homopoly = L_pol.loc[L_pol['chrom']=='chr'+str(i)]\n",
    "\n",
    "    #   Remove Homoploymers\n",
    "        LIN = linreg.loc[linreg['chrom']=='chr'+str(i)]\n",
    "        LIN0 = LIN.loc[LIN['str.start'].isin(list(Homopoly['str.start']))==False]\n",
    "\n",
    "    #   Remove least polymorphic\n",
    "        Reg=Reg_to_remove.loc[Reg_to_remove['Het.length']<=0.3]\n",
    "        FIN = LIN0.loc[LIN0['str.start'].isin(list(Reg['START']))==False]\n",
    "\n",
    "    #   Sum it up and outout   \n",
    "        frames = [Out, FIN]\n",
    "        Out = pd.concat(frames)\n",
    "\n",
    "        print(LIN.shape, LIN0.shape, FIN.shape, 'End')\n",
    "\n",
    "    Out1=Out.drop('0')\n",
    "    Out1=Out1.drop('Unnamed: 0', 1)\n",
    "    Out1.to_csv(Input+'/Lin_Reg_OutFin.txt', sep='\\t', index=False)\n",
    "\n",
    "#for T in tissu:\n",
    "#    filterregression(T) #(T+'SNP_Analysis')\n",
    "\n",
    "filterregression('Esophagus-Mucosa/SNP_Analysis')\n",
    "\n",
    "    \n",
    "####After this Script, plot the qqplot and then FDR correction below"
   ]
  },
  {
   "cell_type": "code",
   "execution_count": 10,
   "metadata": {
    "collapsed": true
   },
   "outputs": [
    {
     "name": "stdout",
     "output_type": "stream",
     "text": [
      "WholeBlood/SNP_Analysis  variants ...\n"
     ]
    },
    {
     "name": "stderr",
     "output_type": "stream",
     "text": [
      "/usr/lib/python3.4/site-packages/ipykernel/__main__.py:12: FutureWarning: sort(columns=....) is deprecated, use sort_values(by=.....)\n"
     ]
    },
    {
     "name": "stdout",
     "output_type": "stream",
     "text": [
      "(9649708, 12)   to   (15503, 12)\n",
      "15503\n"
     ]
    },
    {
     "name": "stderr",
     "output_type": "stream",
     "text": [
      "/usr/lib/python3.4/site-packages/ipykernel/__main__.py:25: SettingWithCopyWarning: \n",
      "A value is trying to be set on a copy of a slice from a DataFrame\n",
      "\n",
      "See the caveats in the documentation: http://pandas.pydata.org/pandas-docs/stable/indexing.html#indexing-view-versus-copy\n"
     ]
    },
    {
     "name": "stdout",
     "output_type": "stream",
     "text": [
      "15503  total tests...  10274  pvalues were reduced to 1\n",
      "\n",
      "1016 \t qval<=0.1\n",
      "837 \t qval<=0.05\n",
      "572 \t qval<0.01\n",
      "\n",
      "Cells-Transformedfibroblasts/SNP_Analysis  variants ...\n",
      "(9955581, 12)   to   (16012, 12)\n",
      "16012\n",
      "16012  total tests...  10247  pvalues were reduced to 1\n",
      "\n",
      "1370 \t qval<=0.1\n",
      "1178 \t qval<=0.05\n",
      "830 \t qval<0.01\n",
      "\n",
      "Muscle-Skeletal/SNP_Analysis  variants ...\n",
      "(9948280, 12)   to   (15924, 12)\n",
      "15924\n",
      "15924  total tests...  11538  pvalues were reduced to 1\n",
      "\n",
      "477 \t qval<=0.1\n",
      "395 \t qval<=0.05\n",
      "247 \t qval<0.01\n",
      "\n",
      "Lung/SNP_Analysis  variants ...\n",
      "(10459912, 12)   to   (16415, 12)\n",
      "16415\n",
      "16415  total tests...  11829  pvalues were reduced to 1\n",
      "\n",
      "543 \t qval<=0.1\n",
      "444 \t qval<=0.05\n",
      "309 \t qval<0.01\n",
      "\n"
     ]
    }
   ],
   "source": [
    "tissu = ['WholeBlood','Cells-Transformedfibroblasts','Muscle-Skeletal','Lung','Adipose-Subcutaneous','Artery-Tibial','Esophagus-Mucosa']\n",
    "\n",
    "##Simpler version of FDR correction \n",
    "import pandas as pd\n",
    "import numpy as np\n",
    "import subprocess\n",
    "import collections\n",
    "def fdrcorrection(tissue):\n",
    "    print(tissue, ' variants ...')\n",
    "#Get most signif. variant by gene from linear reg STRs\n",
    "    LR1=pd.read_csv(\"/storage/szfeupe/Runs/GTEx_estr/Analysis_by_Tissue/\"+ tissue+\"/Lin_Reg_OutFin.txt\" , '\\t')\n",
    "    LR0 = LR1.sort(\"p.wald\").groupby(\"gene\", as_index=False).first()     \n",
    "    print(LR1.shape, '  to  ', LR0.shape)\n",
    "\n",
    "#Add counts tests by gene\n",
    "    counts=pd.DataFrame({'cts' : LR1.groupby([\"gene\"]).size()})    ## This is the count by genes\n",
    "    genes = list(LR0['gene'])\n",
    "    LR0['NTEST']= list(counts.loc[genes]['cts'])\n",
    "    print (len(counts.loc[genes]['cts']))\n",
    "    \n",
    "#Minor adjustment\n",
    "    #(1) min_pval* #test\n",
    "    LR0['AD.pval']=LR0['p.wald']*LR0['NTEST']\n",
    "    #(2) if AD_pval>1 => AD_pval=1\n",
    "    LR0['AD.pval'][LR0['AD.pval']>1] = 1\n",
    "    \n",
    "#Save pval in file and FDR correct\n",
    "    LR0['AD.pval'].to_csv('pvalues.txt', sep='\\n', index=False)\n",
    "    Tell = subprocess.call(\"/home/szfeupe/projects/GTEX_eSTRs/gtex-estrs/Scripts/PostRegressionFixes/fdr-correct.r\")\n",
    "    \n",
    "#FDR corrected... add to dataframe\n",
    "    Qval=pd.read_csv('/home/szfeupe/projects/GTEX_eSTRs/gtex-estrs/Scripts/PostRegressionFixes/qvalues.txt', sep=' ')\n",
    "    #print (Qval.shape, '\\t', LR0.shape)\n",
    "    LR0['qvalue']=list(Qval['qvalue'])\n",
    "    LR0['significant']=list(Qval['significant'])\n",
    "    \n",
    "#Header arrangement\n",
    "    Head=['gene','chrom','str.id','str.start','NTEST','p.wald','AD.pval','qvalue','significant','beta','beta.se']\n",
    "    Out=LR0[Head]\n",
    "    Out.to_csv(\"/storage/szfeupe/Runs/GTEx_estr/Analysis_by_Tissue/\"+tissue+'/PQValues.txt', sep='\\t', index=False)\n",
    "\n",
    "    S=LR0['AD.pval']\n",
    "    print(len(S),' total tests... ', len(S[S>=1]) , ' pvalues were reduced to 1\\n')\n",
    "    print(len(Qval[Qval['qvalue'] <=0.1]),'\\t qval<=0.1')\n",
    "    print(len(Qval[Qval['qvalue'] <=0.05]),'\\t qval<=0.05')\n",
    "    print(len(Qval[Qval['qvalue'] <=0.01]),'\\t qval<0.01\\n')\n",
    "#   print('Original linear reg. tests counts\\n',LR1.groupby('chrom').size())\n",
    "#   print('After FDR correction test counts\\n',LR0.groupby('chrom').size())    \n",
    "    return()\n",
    "\n",
    "#fdrcorrection('Lung/SNP_Analysis')\n",
    "for T in tissu[:4]:\n",
    "    fdrcorrection(T+'/SNP_Analysis')\n",
    "    \n",
    "##########   Next: We run the code to prepare for heritability analysis (STR+SNP)"
   ]
  },
  {
   "cell_type": "code",
   "execution_count": null,
   "metadata": {
    "collapsed": true
   },
   "outputs": [],
   "source": []
  }
 ],
 "metadata": {
  "kernelspec": {
   "display_name": "Python 3",
   "language": "python",
   "name": "python3"
  },
  "language_info": {
   "codemirror_mode": {
    "name": "ipython",
    "version": 3
   },
   "file_extension": ".py",
   "mimetype": "text/x-python",
   "name": "python",
   "nbconvert_exporter": "python",
   "pygments_lexer": "ipython3",
   "version": "3.4.5"
  }
 },
 "nbformat": 4,
 "nbformat_minor": 2
}
