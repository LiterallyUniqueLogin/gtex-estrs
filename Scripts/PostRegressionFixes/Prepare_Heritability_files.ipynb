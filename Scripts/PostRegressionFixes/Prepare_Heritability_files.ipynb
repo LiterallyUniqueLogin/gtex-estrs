{
 "cells": [
  {
   "cell_type": "code",
   "execution_count": 5,
   "metadata": {
    "collapsed": false
   },
   "outputs": [
    {
     "name": "stdout",
     "output_type": "stream",
     "text": [
      "14845 14845\n",
      "Best variant  15503 15503\n",
      "(14845, 11) (15503, 11)\n",
      "15362 15362\n",
      "Best variant  16012 16012\n",
      "(15362, 11) (16012, 11)\n",
      "15275 15275\n",
      "Best variant  15924 15924\n",
      "(15275, 11) (15924, 11)\n",
      "15711 15711\n",
      "Best variant  16415 16415\n",
      "(15711, 11) (16415, 11)\n",
      "15918 15918\n",
      "Best variant  16005 16005\n",
      "(15918, 11) (16005, 11)\n",
      "15584 15584\n",
      "Best variant  15645 15645\n",
      "(15584, 11) (15645, 11)\n",
      "16111 16111\n",
      "Best variant  16211 16211\n",
      "(16111, 11) (16211, 11)\n"
     ]
    }
   ],
   "source": [
    "tissu = ['WholeBlood','Cells-Transformedfibroblasts','Muscle-Skeletal','Lung','Adipose-Subcutaneous','Artery-Tibial','Esophagus-Mucosa']\n",
    "\n",
    "###This code prepares inputs for heritability test\n",
    "\n",
    "import pandas as pd\n",
    "\n",
    "def PrepareHeritFile(Tissu):\n",
    "    In = '/storage/szfeupe/Runs/GTEx_estr/Analysis_by_Tissue/'+Tissu\n",
    "    #estrs\n",
    "    estr = pd.read_csv(In+'/PQValues.txt', sep=\"\\t\")\n",
    "    #esnps\n",
    "    esnp = pd.read_csv(In+'/SNP_Analysis/PQValues.txt', sep='\\t')\n",
    "    #renaming columns\n",
    "    estr['qval.gene']=estr['qvalue']\n",
    "    esnp['qval.gene']=esnp['qvalue']\n",
    "    estr['pvalue']=estr['AD.pval']\n",
    "    esnp['pvalue']=esnp['AD.pval']\n",
    "\n",
    "\n",
    "    be=[1]*len(estr); print(len(be), sum(be))\n",
    "    estr['best_str'] = be\n",
    "    be=[1]*len(esnp); print('Best variant ',len(be), sum(be))\n",
    "    esnp['best_str'] = [1]*len(esnp)\n",
    "    Head=['gene', 'chrom', 'str.id', 'str.start', 'NTEST', 'beta','p.wald', 'best_str', 'qval.gene','significant','pvalue']\n",
    "    wbsnp=esnp.loc[:,Head]\n",
    "    wbstr=estr.loc[:,Head]\n",
    "    wbstr.to_csv(In+'/HH/estr_result', sep='\\t')\n",
    "    wbsnp.to_csv(In+'/HH/esnp_result', sep='\\t')\n",
    "    print(wbstr.shape, wbsnp.shape)\n",
    "    \n",
    "        \n",
    "for T in tissu:\n",
    "    PrepareHeritFile(T)\n",
    "    \n",
    "    \n",
    "############################run gcta"
   ]
  },
  {
   "cell_type": "code",
   "execution_count": null,
   "metadata": {
    "collapsed": true
   },
   "outputs": [],
   "source": [
    "In = '/storage/szfeupe/Runs/GTEx_estr/Analysis_by_Tissue/WholeBlood/HH/ESTRs_Anova"
   ]
  }
 ],
 "metadata": {
  "kernelspec": {
   "display_name": "Python 3",
   "language": "python",
   "name": "python3"
  },
  "language_info": {
   "codemirror_mode": {
    "name": "ipython",
    "version": 3
   },
   "file_extension": ".py",
   "mimetype": "text/x-python",
   "name": "python",
   "nbconvert_exporter": "python",
   "pygments_lexer": "ipython3",
   "version": "3.4.5"
  }
 },
 "nbformat": 4,
 "nbformat_minor": 2
}
