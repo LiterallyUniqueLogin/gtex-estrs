{
 "cells": [
  {
   "cell_type": "code",
   "execution_count": 1,
   "metadata": {
    "collapsed": false
   },
   "outputs": [],
   "source": [
    "##This code \n",
    "\n",
    "import matplotlib as pyplot\n",
    "import os\n",
    "import pandas as pd\n",
    "import math\n",
    "import numpy as np\n",
    "import matplotlib.pyplot as plt\n",
    "#import seaborn\n",
    "\n",
    "FEATUREDIR = \"/storage/szfeupe/Runs/GTEx_estr/Analysis_by_Tissue/SUMMARY/\"\n",
    "SCORETYPE = \"\"\n",
    "MINDIST = 1500\n",
    "MINQ = 1\n",
    "percentiles = [0, 50] + list(np.arange(60, 101, 10))\n",
    "\n",
    "\n",
    "def GetBootstrapCI(data, func):\n",
    "    numiter = 1000\n",
    "    vals = []\n",
    "    for i in range(numiter):\n",
    "        x = np.random.choice(data, size=data.shape[0], replace=True)\n",
    "        vals.append(func(x))\n",
    "    se = np.sqrt(np.var(vals))\n",
    "    return np.mean(vals)-1.96*se, np.mean(vals)+1.96*se\n",
    "\n",
    "data=0"
   ]
  },
  {
   "cell_type": "code",
   "execution_count": 6,
   "metadata": {
    "collapsed": false
   },
   "outputs": [],
   "source": [
    "# Plot Features\n",
    "\n",
    "FEAT  = ['UTR3', 'UTR5', 'EXON', 'INTRON','motif_len', 'motif']\n",
    "data = pd.read_csv(os.path.join(\"/storage/szfeupe/Runs/GTEx_estr/Analysis_by_Tissue/SUMMARY/Merged_Causality_Features.tableII\"), sep=\"\\t\")\n",
    "FX= FEAT[5]\n",
    "#FX=\"\"\n",
    "\n",
    "#Choose feature\n",
    "data  = data.loc [data[FX]=='AC']\n",
    "#HEAD = \"dist.to.\"+FX\n",
    "HEAD = \"dist.to.tes\"\n",
    "\n",
    "#Plot it\n",
    "bins = np.percentile(data[data[\"best.q\"]<=MINQ][\"best.score\"], q = percentiles)\n",
    "binlabels = []\n",
    "tss = []\n",
    "tss_low = []\n",
    "tss_high = []\n",
    "tes = []\n",
    "tes_low = []\n",
    "tes_high = []\n",
    "\n",
    "for i in range(len(bins)-1):\n",
    "    lb = bins[i]\n",
    "    ub = bins[i+1]\n",
    "    x = data[(data[\"best.score\"]>lb) & (data[\"best.score\"]<= ub) & (data[\"best.q\"]<=MINQ)]\n",
    "    feature_tss = x[\"dist.to.tss\"].apply(lambda x: abs(x)<MINDIST)\n",
    "    feature_tes = x[HEAD].apply(lambda x: abs(x)<MINDIST) ##\n",
    "    count_tss = np.mean(feature_tss)\n",
    "    count_tes = np.mean(feature_tes)\n",
    "    low_tss, high_tss = GetBootstrapCI(feature_tss, np.mean)\n",
    "    low_tes, high_tes = GetBootstrapCI(feature_tes, np.mean)\n",
    "    if i == 0:\n",
    "        base_tss = count_tss\n",
    "        base_tes = count_tes\n",
    "    binlabels.append(\"%s-%s\"%(percentiles[i], percentiles[i+1]))\n",
    "    tss.append(count_tss*1.0/base_tss)\n",
    "    tss_low.append(low_tss*1.0/base_tss)\n",
    "    tss_high.append(high_tss*1.0/base_tss)\n",
    "    tes.append(count_tes*1.0/base_tes)\n",
    "    tes_low.append(low_tes*1.0/base_tes)\n",
    "    tes_high.append(high_tes*1.0/base_tes)"
   ]
  },
  {
   "cell_type": "code",
   "execution_count": 7,
   "metadata": {
    "collapsed": false
   },
   "outputs": [
    {
     "data": {
      "image/png": "[encoded data removed]",
      "text/plain": [
       "<matplotlib.figure.Figure at 0x7fdd90f47588>"
      ]
     },
     "metadata": {},
     "output_type": "display_data"
    }
   ],
   "source": [
    "fig = plt.figure()\n",
    "fig.set_size_inches((10, 5))\n",
    "\n",
    "# TSS\n",
    "ax = fig.add_subplot(121)\n",
    "ax.errorbar(range(len(binlabels)), tss, marker=\"o\", yerr = [tss_low, tss_high])\n",
    "ax.set_xlabel(\"Score bin\", size=15)\n",
    "ax.set_ylabel(\"Enrichment vs. (0,0.5) bin\", size=15)\n",
    "ax.set_xticks(range(len(binlabels)))\n",
    "ax.set_xticklabels(binlabels, size=12)\n",
    "ax.set_yticklabels(ax.get_yticks(), size=12)\n",
    "ax.axhline(y = 1.0, linestyle=\"dashed\", color=\"gray\")\n",
    "ax.set_title(\"'AT' Motif - STRs within %s of TSS of affected gene\"%MINDIST)\n",
    "ax.spines['right'].set_visible(False)\n",
    "ax.spines['top'].set_visible(False)\n",
    "ax.yaxis.set_ticks_position('left')\n",
    "ax.xaxis.set_ticks_position('bottom')\n",
    "plt.show()\n",
    "# features\n",
    "ax = fig.add_subplot(122)\n",
    "ax.errorbar(range(len(binlabels)), tes, marker=\"o\", yerr = [tes_low, tes_high])\n",
    "ax.set_xlabel(\"Score bin\", size=15)\n",
    "ax.set_ylabel(\"Enrichment vs. (0,0.5) bin\", size=15)\n",
    "ax.set_xticks(range(len(binlabels)))\n",
    "ax.set_xticklabels(binlabels, size=12)\n",
    "ax.set_yticklabels(ax.get_yticks(), size=12)\n",
    "ax.axhline(y = 1.0, linestyle=\"dashed\", color=\"gray\")\n",
    "ax.set_title(FX+\" STRs within %s of %s start\"%(MINDIST,FX))\n",
    "ax.spines['right'].set_visible(False)\n",
    "ax.spines['top'].set_visible(False)\n",
    "ax.yaxis.set_ticks_position('left')\n",
    "ax.xaxis.set_ticks_position('bottom')\n",
    "\n",
    "fig.tight_layout()\n",
    "plt.show()"
   ]
  },
  {
   "cell_type": "code",
   "execution_count": 60,
   "metadata": {
    "collapsed": false
   },
   "outputs": [
    {
     "ename": "NameError",
     "evalue": "name 'df' is not defined",
     "output_type": "error",
     "traceback": [
      "\u001b[0;31m---------------------------------------------------------------------------\u001b[0m",
      "\u001b[0;31mNameError\u001b[0m                                 Traceback (most recent call last)",
      "\u001b[0;32m<ipython-input-60-87498acb452f>\u001b[0m in \u001b[0;36m<module>\u001b[0;34m()\u001b[0m\n\u001b[1;32m     17\u001b[0m \u001b[0mcolors\u001b[0m \u001b[0;34m=\u001b[0m \u001b[0;34m{\u001b[0m\u001b[0;34m'D'\u001b[0m\u001b[0;34m:\u001b[0m\u001b[0;34m'red'\u001b[0m\u001b[0;34m,\u001b[0m \u001b[0;34m'E'\u001b[0m\u001b[0;34m:\u001b[0m\u001b[0;34m'blue'\u001b[0m\u001b[0;34m,\u001b[0m \u001b[0;34m'F'\u001b[0m\u001b[0;34m:\u001b[0m\u001b[0;34m'green'\u001b[0m\u001b[0;34m,\u001b[0m \u001b[0;34m'G'\u001b[0m\u001b[0;34m:\u001b[0m\u001b[0;34m'black'\u001b[0m\u001b[0;34m}\u001b[0m\u001b[0;34m\u001b[0m\u001b[0m\n\u001b[1;32m     18\u001b[0m \u001b[0;34m\u001b[0m\u001b[0m\n\u001b[0;32m---> 19\u001b[0;31m \u001b[0mgrouped\u001b[0m \u001b[0;34m=\u001b[0m \u001b[0mdf\u001b[0m\u001b[0;34m.\u001b[0m\u001b[0mgroupby\u001b[0m\u001b[0;34m(\u001b[0m\u001b[0;34m'color'\u001b[0m\u001b[0;34m)\u001b[0m\u001b[0;34m\u001b[0m\u001b[0m\n\u001b[0m\u001b[1;32m     20\u001b[0m \u001b[0;32mfor\u001b[0m \u001b[0mkey\u001b[0m\u001b[0;34m,\u001b[0m \u001b[0mgroup\u001b[0m \u001b[0;32min\u001b[0m \u001b[0mgrouped\u001b[0m\u001b[0;34m:\u001b[0m\u001b[0;34m\u001b[0m\u001b[0m\n\u001b[1;32m     21\u001b[0m     \u001b[0mgroup\u001b[0m\u001b[0;34m.\u001b[0m\u001b[0mplot\u001b[0m\u001b[0;34m(\u001b[0m\u001b[0max\u001b[0m\u001b[0;34m=\u001b[0m\u001b[0max\u001b[0m\u001b[0;34m,\u001b[0m \u001b[0mkind\u001b[0m\u001b[0;34m=\u001b[0m\u001b[0;34m'scatter'\u001b[0m\u001b[0;34m,\u001b[0m \u001b[0mx\u001b[0m\u001b[0;34m=\u001b[0m\u001b[0;34m'carat'\u001b[0m\u001b[0;34m,\u001b[0m \u001b[0my\u001b[0m\u001b[0;34m=\u001b[0m\u001b[0;34m'price'\u001b[0m\u001b[0;34m,\u001b[0m \u001b[0mlabel\u001b[0m\u001b[0;34m=\u001b[0m\u001b[0mkey\u001b[0m\u001b[0;34m,\u001b[0m \u001b[0mcolor\u001b[0m\u001b[0;34m=\u001b[0m\u001b[0mcolors\u001b[0m\u001b[0;34m[\u001b[0m\u001b[0mkey\u001b[0m\u001b[0;34m]\u001b[0m\u001b[0;34m)\u001b[0m\u001b[0;34m\u001b[0m\u001b[0m\n",
      "\u001b[0;31mNameError\u001b[0m: name 'df' is not defined"
     ]
    }
   ],
   "source": [
    "def label_it (row):\n",
    "    if row['INTRON'] == 1 :\n",
    "        return 'Intron'\n",
    "    if row['EXON'] == 1 :\n",
    "        return 'Exon'\n",
    "    if row['UTR3'] == 1 :\n",
    "        return '3-UTR'\n",
    "    if row['UTR5'] == 1:\n",
    "        return '5-UTR'\n",
    "    else:\n",
    "        return 'Other'\n",
    "data['Features'] = data.apply (lambda data: label_it (data),axis=1)\n",
    "\n",
    "\n",
    "fig, ax = plt.subplots()\n",
    "\n",
    "colors = {'D':'red', 'E':'blue', 'F':'green', 'G':'black'}\n",
    "\n",
    "grouped = df.groupby('color')\n",
    "for key, group in grouped:\n",
    "    group.plot(ax=ax, kind='scatter', x='carat', y='price', label=key, color=colors[key])\n",
    "\n",
    "plt.show()\n",
    "\n",
    "\n",
    "\n",
    "\n",
    "\n",
    "data\n",
    "data[\"feature\"]=[]\n",
    "INT =  data.loc[data[\"INTRON\"]==1]\n",
    "EXO = data.loc[data[\"EXON\"]==1]\n",
    "UTR = data.loc[(data[\"UTR3\"]==1) | (data[\"UTR5\"]==1)]\n",
    "print(INT.shape)\n",
    "plt.figure()\n",
    "plt.plot(list(data[\"best.score\"]), 'bo', label=\"All STRs, n=\"+str(data.shape[0]))\n",
    "plt.plot(list(INT[\"best.score\"]), 'g.', label=\"Inton STRs, n=\"+str(INT.shape[0]))\n",
    "plt.plot(list(EXO[\"best.score\"]), 'r.', label=\"Exon STRs, n=\"+str(EXO.shape[0]))\n",
    "plt.plot(list(UTR[\"best.score\"]), 'yx', label = \"UTR STRs, n=\"+str(UTR.shape[0]))\n",
    "plt.title(\"Causality scores distribution for 'AC' STR motif\")\n",
    "plt.xlabel(\"STRs\")\n",
    "plt.ylabel(\"Causality scores\")\n",
    "plt.legend(loc=2)\n",
    "\n",
    "#plt.axis([0, 1400, 0,1])\n",
    "plt.show()\n",
    "\n",
    "\n",
    "#fg = seaborn.FacetGrid(data[\"best.score\"], hue='INTRON', aspect=1.61)\n",
    "#fg.map(pyplot.scatter, \"best.score\").add_legend()"
   ]
  },
  {
   "cell_type": "code",
   "execution_count": 64,
   "metadata": {
    "collapsed": false
   },
   "outputs": [
    {
     "name": "stdout",
     "output_type": "stream",
     "text": [
      "6\n"
     ]
    },
    {
     "data": {
      "image/png": "[encoded data removed]",
      "text/plain": [
       "<matplotlib.figure.Figure at 0x7f9a8c3532b0>"
      ]
     },
     "metadata": {},
     "output_type": "display_data"
    },
    {
     "data": {
      "image/png": "[encoded data removed]",
      "text/plain": [
       "<matplotlib.figure.Figure at 0x7f9a8d0d4780>"
      ]
     },
     "metadata": {},
     "output_type": "display_data"
    }
   ],
   "source": [
    "###    (a) Composition of each causality-score bin by STR motif size\n",
    "FEAT = pd.read_csv(\"/storage/szfeupe/Runs/GTEx_estr/Analysis_by_Tissue/SUMMARY/Merged_Causality_Features.table\", sep='\\t')\n",
    "bins = np.percentile(FEAT[FEAT[\"best.q\"]<=MINQ][\"best.score\"], q = percentiles)\n",
    "B = []\n",
    "print(len(bins)-1)\n",
    "plt.figure()\n",
    "for i in range(len(bins)-1):\n",
    "    #print(i)\n",
    "    lb = bins[i]\n",
    "    ub = bins[i+1]\n",
    "    x = FEAT[(FEAT[\"best.score\"]>lb) & (FEAT[\"best.score\"]<= ub) & (FEAT[\"best.q\"]<=1)]\n",
    "    B.append(list(x['motif_len']))\n",
    "    #print(x.head(5))\n",
    "    plt.hist(x['motif_len'], stacked=True)\n",
    "    x=0\n",
    "plt.xlabel('Motif size (bp)')\n",
    "plt.ylabel('Number of STRs')\n",
    "plt.title(\"Number of STRs stacked by cauality score range\")\n",
    "plt.show()\n",
    "\n",
    "\n",
    "plt.hist(B, stacked=True)\n",
    "plt.legend(['0  -  1.5e-14', '1.5e-14 - 1.6e-02', '1.6e-02 - 2.05e-02', '2.05e-02 - 2.6e-02', '2.6e-02 - 3.7e-02' , '3.7e-02 - 6.4e-02', '6.4e-02 - 9.4e-01'])\n",
    "plt.title(\"Number of STRs (motif length) by causality score percentiles\")\n",
    "plt.xlabel('Motif size (bp)')\n",
    "plt.ylabel('Number of STRs')\n",
    "plt.show()\n",
    "\n",
    "#x['motif_len']"
   ]
  },
  {
   "cell_type": "code",
   "execution_count": null,
   "metadata": {
    "collapsed": false
   },
   "outputs": [],
   "source": []
  },
  {
   "cell_type": "code",
   "execution_count": null,
   "metadata": {
    "collapsed": false
   },
   "outputs": [],
   "source": []
  },
  {
   "cell_type": "code",
   "execution_count": null,
   "metadata": {
    "collapsed": false
   },
   "outputs": [],
   "source": []
  },
  {
   "cell_type": "code",
   "execution_count": null,
   "metadata": {
    "collapsed": true
   },
   "outputs": [],
   "source": []
  }
 ],
 "metadata": {
  "kernelspec": {
   "display_name": "Python 3",
   "language": "python",
   "name": "python3"
  },
  "language_info": {
   "codemirror_mode": {
    "name": "ipython",
    "version": 3
   },
   "file_extension": ".py",
   "mimetype": "text/x-python",
   "name": "python",
   "nbconvert_exporter": "python",
   "pygments_lexer": "ipython3",
   "version": "3.4.5"
  }
 },
 "nbformat": 4,
 "nbformat_minor": 2
}
