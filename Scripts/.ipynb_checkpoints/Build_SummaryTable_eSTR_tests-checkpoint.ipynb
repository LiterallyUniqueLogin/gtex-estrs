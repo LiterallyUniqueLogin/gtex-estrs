{
 "cells": [
  {
   "cell_type": "code",
   "execution_count": null,
   "metadata": {
    "collapsed": false
   },
   "outputs": [],
   "source": [
    "#This code merge linear regression output accross all tissue into a big table\n",
    "#Adipose-Subcutaneous                    AdS              \n",
    "#Artery-Tibial                           AT\n",
    "#Cells-Transformedfibroblasts            Fib\n",
    "#Esophagus-Mucosa                        Eso\n",
    "#Muscle-Skeletal                         MS\n",
    "#Whole-Blood                             WB\n",
    "#Lung                                    Lung"
   ]
  },
  {
   "cell_type": "code",
   "execution_count": 2,
   "metadata": {
    "collapsed": false
   },
   "outputs": [
    {
     "name": "stdout",
     "output_type": "stream",
     "text": [
      "209131 225770 216353 227378 215860 225784 221263\n",
      "Whole blood 14845\n",
      "Adipose Subcutanous 15918\n",
      "Cell Fibroblast 15362\n",
      "Esophagous Mucosa 16111\n",
      "Muscle skeletal 15275\n",
      "Lungs 15713\n",
      "Artery tibial 15584\n"
     ]
    }
   ],
   "source": [
    "import pandas as pd\n",
    "import numpy as np\n",
    "import vcf\n",
    "#\n",
    "#Linear regression\n",
    "#\n",
    "col=['chrom','str.start','str.id','gene','ID','beta','p.wald']\n",
    "#wholeblood\n",
    "wb = pd.read_csv('/storage/szfeupe/Runs/GTEx_estr/Analysis_by_Tissue/WholeBlood/Lin_Reg_OutFin.txt', sep='\\t')\n",
    "wb['ID']=wb['gene']+wb['str.id']\n",
    "wb = wb[col]; wb.columns=['chrom','str.start','str.id','gene','ID','beta_blood','blood_pval']\n",
    "#adipose subcutaneous\n",
    "ads= pd.read_csv('/storage/szfeupe/Runs/GTEx_estr/Analysis_by_Tissue/Adipose-Subcutaneous/Lin_Reg_OutFin.txt', sep='\\t')\n",
    "ads['ID']=ads['gene']+ads['str.id']\n",
    "ads = ads[col]; ads.columns=['chrom','str.start','str.id','gene','ID','beta_AdipSub','AdipSub_pval']\n",
    "#cell T Fibroblast\n",
    "ctf= pd.read_csv('/storage/szfeupe/Runs/GTEx_estr/Analysis_by_Tissue/Cells-Transformedfibroblasts/Lin_Reg_OutFin.txt', sep='\\t')\n",
    "ctf['ID']=ctf['gene']+ctf['str.id']\n",
    "ctf = ctf[col]; ctf.columns=['chrom','str.start','str.id','gene','ID','beta_Fibroblast','Fibroblast_pval']\n",
    "#Esophagus mucosa\n",
    "esm= pd.read_csv('/storage/szfeupe/Runs/GTEx_estr/Analysis_by_Tissue/Esophagus-Mucosa/Lin_Reg_OutFin.txt', sep='\\t')\n",
    "esm['ID']=esm['gene']+esm['str.id']\n",
    "esm = esm[col]; esm.columns=['chrom','str.start','str.id','gene','ID','beta_Esophag','Esophag_pval']\n",
    "#Muscle Skeletal\n",
    "ms = pd.read_csv('/storage/szfeupe/Runs/GTEx_estr/Analysis_by_Tissue/Muscle-Skeletal/Lin_Reg_OutFin.txt', sep='\\t')\n",
    "ms['ID']=ms['gene']+ms['str.id']\n",
    "ms = ms[col] ; ms.columns=['chrom','str.start','str.id','gene','ID','beta_MuscleS','MuscleS_pval']\n",
    "#Lung\n",
    "lng= pd.read_csv('/storage/szfeupe/Runs/GTEx_estr/Analysis_by_Tissue/Lung/Lin_Reg_OutFin.txt', sep='\\t')\n",
    "lng['ID']=lng['gene']+lng['str.id']\n",
    "lng = lng[col]; lng.columns=['chrom','str.start','str.id','gene','ID','beta_Lung','Lung_pval']\n",
    "#Arterial Tibial\n",
    "art= pd.read_csv('/storage/szfeupe/Runs/GTEx_estr/Analysis_by_Tissue/Artery-Tibial/Lin_Reg_OutFin.txt', sep='\\t')\n",
    "art['ID']=art['gene']+art['str.id']\n",
    "art = art[col]; art.columns=['chrom','str.start','str.id','gene','ID','beta_ArteryT','ArteryT_pval']\n",
    "rows=['chrom','str.start','str.id','gene','ID']\n",
    "OUT=pd.concat([wb[rows],ads[rows],ctf[rows],esm[rows],ms[rows],lng[rows],art[rows]]).drop_duplicates().reset_index(drop=True)\n",
    "print(wb.shape[0], ads.shape[0],ctf.shape[0], esm.shape[0],ms.shape[0],lng.shape[0],art.shape[0])\n",
    "#\n",
    "#FDR_correction\n",
    "#wbp['Blood_eSTR?'] = np.where(wbp['qvalue']<=0.1, 1, 0)\n",
    "\n",
    "wbp = pd.read_csv('/storage/szfeupe/Runs/GTEx_estr/Analysis_by_Tissue/WholeBlood/PQValues.txt', sep='\\t')\n",
    "wbp['Blood_eSTR?']= np.where(wbp['qvalue']<=0.1, 1, 0); wbp['ID']=wbp['gene']+wbp['str.id'] ;wbp['blood_qval']=wbp['qvalue']\n",
    "Col=['chrom','str.start','str.id','gene','ID', 'blood_qval', 'Blood_eSTR?']; wbp=wbp[Col]\n",
    "print('Whole blood',wbp.shape[0])\n",
    "adsp= pd.read_csv('/storage/szfeupe/Runs/GTEx_estr/Analysis_by_Tissue/Adipose-Subcutaneous/PQValues.txt', sep='\\t')\n",
    "adsp['AdipSub_eSTR?']= np.where(adsp['qvalue']<=0.1, 1, 0);  adsp['ID']= adsp['gene']+ adsp['str.id']; adsp['AdipSub_qval']=  adsp['qvalue']\n",
    "Col=['chrom','str.start','str.id','gene','ID', 'AdipSub_qval', 'AdipSub_eSTR?']; adsp=adsp[Col]\n",
    "print('Adipose Subcutanous',adsp.shape[0])\n",
    "ctfp= pd.read_csv('/storage/szfeupe/Runs/GTEx_estr/Analysis_by_Tissue/Cells-Transformedfibroblasts/PQValues.txt', sep='\\t')\n",
    "ctfp['Fibroblast_eSTR?']= np.where(ctfp['qvalue']<=0.1, 1, 0);  ctfp['ID']= ctfp['gene']+ ctfp['str.id']; ctfp['Fibroblast_qval']=  ctfp['qvalue']\n",
    "Col=['chrom','str.start','str.id','gene','ID', 'Fibroblast_qval', 'Fibroblast_eSTR?']; ctfp= ctfp[Col]\n",
    "print('Cell Fibroblast',ctfp.shape[0])\n",
    "esmp= pd.read_csv('/storage/szfeupe/Runs/GTEx_estr/Analysis_by_Tissue/Esophagus-Mucosa/PQValues.txt', sep='\\t')\n",
    "esmp['Esophagus_eSTR?']= np.where(esmp['qvalue']<=0.1, 1, 0); esmp['ID']= esmp['gene']+ esmp['str.id']; esmp['Esophagus_qval']=  esmp['qvalue']\n",
    "Col=['chrom','str.start','str.id','gene','ID', 'Esophagus_qval', 'Esophagus_eSTR?']; esmp = esmp[Col]\n",
    "print('Esophagous Mucosa',esmp.shape[0])\n",
    "msp = pd.read_csv('/storage/szfeupe/Runs/GTEx_estr/Analysis_by_Tissue/Muscle-Skeletal/PQValues.txt', sep='\\t')\n",
    "msp['MuscleS_eSTR?']= np.where(msp['qvalue']<=0.1, 1, 0);  msp['ID']=  msp['gene']+  msp['str.id'];  msp['MuscleS_qval']= msp['qvalue']\n",
    "Col=['chrom','str.start','str.id','gene','ID', 'MuscleS_qval', 'MuscleS_eSTR?']; msp = msp[Col]\n",
    "print('Muscle skeletal',msp.shape[0])\n",
    "lngp= pd.read_csv('/storage/szfeupe/Runs/GTEx_estr/Analysis_by_Tissue/Lung/PQValue.tsv', sep='\\t')\n",
    "lngp['Lung_eSTR?']= np.where(lngp['qvalue']<=0.1, 1, 0);   lngp['ID']=  lngp['gene']+  lngp['str.id'];  lngp['Lung_qval']= lngp['qvalue']\n",
    "Col=['chrom','str.start','str.id','gene','ID', 'Lung_qval', 'Lung_eSTR?']; lngp = lngp[Col]\n",
    "print('Lungs', lngp.shape[0])\n",
    "artp= pd.read_csv('/storage/szfeupe/Runs/GTEx_estr/Analysis_by_Tissue/Artery-Tibial/PQValues.txt', sep='\\t')\n",
    "artp['ArteryT_eSTR?']=  np.where(artp['qvalue']<=0.1, 1, 0); artp['ID']= artp['gene']+ artp['str.id']; artp['ArteryT_qval']= artp['qvalue']\n",
    "Col=['chrom','str.start','str.id','gene','ID', 'ArteryT_qval', 'ArteryT_eSTR?'];  artp= artp[Col]\n",
    "print('Artery tibial', artp.shape[0])"
   ]
  },
  {
   "cell_type": "code",
   "execution_count": 3,
   "metadata": {
    "collapsed": false
   },
   "outputs": [],
   "source": [
    "#Add the Alleles \n",
    "see=pd.read_csv('/storage/szfeupe/Runs/GTEx_estr/STR_Locus_Alleles.tsv', sep='\\t')#q, header=None)\n",
    "#see.columns=['chrom','str.start', \"allele.REF\",'allele.ALT','motif_len','ref_counts']\n",
    "see['str.id']='str_'+see['str.start'].astype(str)\n",
    "C=['chrom','str.start','str.id',\"allele.REF\",'allele.ALT','motif_len','ref_counts']\n",
    "See=see[C]\n",
    "del See['str.id']\n",
    "cols = ['chrom', 'str.start']\n",
    "OUTs = pd.merge(OUT, See, how='left',on=cols)"
   ]
  },
  {
   "cell_type": "code",
   "execution_count": 4,
   "metadata": {
    "collapsed": false
   },
   "outputs": [
    {
     "data": {
      "text/plain": [
       "(241380, 23)"
      ]
     },
     "execution_count": 4,
     "metadata": {},
     "output_type": "execute_result"
    }
   ],
   "source": [
    "cols=['chrom','str.start','str.id','gene','ID']\n",
    "#Merge to add beta and pvalues by tissue\n",
    "OUT1 = pd.merge(OUTs, wb, how='left',on=cols)\n",
    "OUT2 = pd.merge(OUT1, ads, how='left',on=cols) ; OUT1=0\n",
    "OUT1 = pd.merge(OUT2, ctf, how='left',on=cols) ; OUT2=0\n",
    "OUT2 = pd.merge(OUT1, esm, how='left',on=cols) ; OUT1=0\n",
    "OUT1 = pd.merge(OUT2, ms, how='left',on=cols)  ; OUT2=0\n",
    "OUT2 = pd.merge(OUT1, lng, how='left',on=cols) ; OUT1=0\n",
    "OUT1 = pd.merge(OUT2, art, how='left',on=cols)\n",
    "OUT1.shape"
   ]
  },
  {
   "cell_type": "code",
   "execution_count": 5,
   "metadata": {
    "collapsed": false
   },
   "outputs": [
    {
     "data": {
      "text/plain": [
       "(241380, 37)"
      ]
     },
     "execution_count": 5,
     "metadata": {},
     "output_type": "execute_result"
    }
   ],
   "source": [
    "#Merge to add qvalues and eSTRs by tissue\n",
    "OUT3 = pd.merge(OUT1, wbp, how='left',on=cols)\n",
    "OUT2 = pd.merge(OUT3, adsp, how='left',on=cols) ; OUT3=0\n",
    "OUT3 = pd.merge(OUT2, ctfp, how='left',on=cols) ; OUT2=0\n",
    "OUT2 = pd.merge(OUT3, esmp, how='left',on=cols) ; OUT3=0\n",
    "OUT3 = pd.merge(OUT2, msp, how='left',on=cols)  ; OUT2=0\n",
    "OUT2 = pd.merge(OUT3, lngp, how='left',on=cols) ; OUT3=0\n",
    "OUT3 = pd.merge(OUT2, artp, how='left',on=cols)\n",
    "OUT3.shape"
   ]
  },
  {
   "cell_type": "code",
   "execution_count": 6,
   "metadata": {
    "collapsed": true
   },
   "outputs": [
    {
     "name": "stderr",
     "output_type": "stream",
     "text": [
      "/usr/lib/python3.4/site-packages/ipykernel/__main__.py:2: SettingWithCopyWarning: \n",
      "A value is trying to be set on a copy of a slice from a DataFrame\n",
      "\n",
      "See the caveats in the documentation: http://pandas.pydata.org/pandas-docs/stable/indexing.html#indexing-view-versus-copy\n",
      "  from ipykernel import kernelapp as app\n",
      "/usr/lib/python3.4/site-packages/ipykernel/__main__.py:3: SettingWithCopyWarning: \n",
      "A value is trying to be set on a copy of a slice from a DataFrame\n",
      "\n",
      "See the caveats in the documentation: http://pandas.pydata.org/pandas-docs/stable/indexing.html#indexing-view-versus-copy\n",
      "  app.launch_new_instance()\n",
      "/usr/lib/python3.4/site-packages/ipykernel/__main__.py:4: SettingWithCopyWarning: \n",
      "A value is trying to be set on a copy of a slice from a DataFrame\n",
      "\n",
      "See the caveats in the documentation: http://pandas.pydata.org/pandas-docs/stable/indexing.html#indexing-view-versus-copy\n",
      "/usr/lib/python3.4/site-packages/ipykernel/__main__.py:5: SettingWithCopyWarning: \n",
      "A value is trying to be set on a copy of a slice from a DataFrame\n",
      "\n",
      "See the caveats in the documentation: http://pandas.pydata.org/pandas-docs/stable/indexing.html#indexing-view-versus-copy\n",
      "/usr/lib/python3.4/site-packages/ipykernel/__main__.py:6: SettingWithCopyWarning: \n",
      "A value is trying to be set on a copy of a slice from a DataFrame\n",
      "\n",
      "See the caveats in the documentation: http://pandas.pydata.org/pandas-docs/stable/indexing.html#indexing-view-versus-copy\n",
      "/usr/lib/python3.4/site-packages/ipykernel/__main__.py:7: SettingWithCopyWarning: \n",
      "A value is trying to be set on a copy of a slice from a DataFrame\n",
      "\n",
      "See the caveats in the documentation: http://pandas.pydata.org/pandas-docs/stable/indexing.html#indexing-view-versus-copy\n",
      "/usr/lib/python3.4/site-packages/ipykernel/__main__.py:8: SettingWithCopyWarning: \n",
      "A value is trying to be set on a copy of a slice from a DataFrame\n",
      "\n",
      "See the caveats in the documentation: http://pandas.pydata.org/pandas-docs/stable/indexing.html#indexing-view-versus-copy\n"
     ]
    }
   ],
   "source": [
    "#Label estrs and non estrs by tissue\n",
    "OUT3['Blood_eSTR?'][OUT3['Blood_eSTR?']!=1] = 0\n",
    "OUT3['AdipSub_eSTR?'][OUT3['AdipSub_eSTR?']!=1] = 0\n",
    "OUT3['ArteryT_eSTR?'][OUT3['ArteryT_eSTR?']!=1] = 0\n",
    "OUT3['Esophagus_eSTR?'][OUT3['Esophagus_eSTR?']!=1] = 0\n",
    "OUT3['Fibroblast_eSTR?'][OUT3['Fibroblast_eSTR?']!=1] = 0\n",
    "OUT3['Lung_eSTR?'][OUT3['Lung_eSTR?']!=1] = 0\n",
    "OUT3['MuscleS_eSTR?'][OUT3['MuscleS_eSTR?']!=1] = 0\n",
    "OUT3['eSTR_In_tissues'] = OUT3['Blood_eSTR?']+OUT3['Fibroblast_eSTR?']+OUT3['Lung_eSTR?']+OUT3['MuscleS_eSTR?']+OUT3['AdipSub_eSTR?']+OUT3['ArteryT_eSTR?']+OUT3['Esophagus_eSTR?'] \n",
    "OUT3.to_csv('/storage/szfeupe/Runs/GTEx_estr/Analysis_by_Tissue/SUMMARY/LR_SummaryTest_Table.tsv', sep='\\t', index=False)\n",
    "#OUT3.loc[(OUT3['Fibroblast_eSTR?']>=2)].shape#& (OUT3['Blood_eSTR?']==1)& (OUT3['MuscleS_eSTR?']==1)]"
   ]
  },
  {
   "cell_type": "code",
   "execution_count": null,
   "metadata": {
    "collapsed": false
   },
   "outputs": [],
   "source": [
    "#OUT3['Estrs']=OUT3['Fibroblast_eSTR?']+OUT3['Blood_eSTR?']+OUT3['MuscleS_eSTR?']+OUT3['Lung_eSTR?']+OUT3['Esophagus_eSTR?']+OUT3['ArteryT_eSTR?']+OUT3['AdipSub_eSTR?']\n",
    "#OUT4=OUT3.loc[OUT3['Estrs']>=1]\n",
    "OUT4.to_csv('/storage/szfeupe/Runs/GTEx_estr/eSTRs_Tests_Table.tsv', index=False)\n",
    "del OUT3['Estrs']\n",
    "OUT3.to_csv('/storage/szfeupe/Runs/GTEx_estr/LR_SummaryTest_Table.tsv', sep='\\t', index=False)\n",
    "print('PP')\n",
    "OUT3.shape"
   ]
  },
  {
   "cell_type": "code",
   "execution_count": null,
   "metadata": {
    "collapsed": false
   },
   "outputs": [],
   "source": [
    "#(2) in permuted\n",
    "idx=list(LR.index)\n",
    "#LRp1 = LRp.loc[LRp['gene'].isin(list(LR['gene'])) & LRp['str.id'].isin(list(LR['str.id']))]\n",
    "LRp1=LRp.loc[idx]\n",
    "\n",
    "#select qqplot axis\n",
    "X= LR['logpval']\n",
    "Y= LRp1['logpval']\n",
    "\n",
    "plt.figure(1)\n",
    "#plot qqplot\n",
    "sm.qqplot(X, line='45')\n",
    "sm.qqplot(Y, line='45')\n",
    "smg.gofplots.qqplot_2samples(X,Y, line='q', xlabel='Observed (log(pval))', ylabel='Permuted (log(pval))')\n",
    "pylab.show()\n",
    "#\n",
    "plt.scatter(X, Y)\n",
    "plt.ylabel('Observed')\n",
    "plt.xlabel('Permuted')\n",
    "plt.show()\n"
   ]
  },
  {
   "cell_type": "code",
   "execution_count": null,
   "metadata": {
    "collapsed": false
   },
   "outputs": [],
   "source": [
    "##This code summarises the Anova results and prepare file for anovapvalue qqplot \n",
    "##\n",
    "import matplotlib.pyplot as plt\n",
    "import pandas as pd\n",
    "import numpy as np\n",
    "import scipy.stats as ss\n",
    "\n",
    "Tissue=\"WholeBlood\"\n",
    "##delta_bic = snp_bic - snpstr_bic        ##delta_aic = snp_aic - snpstr_aic \n",
    "##              the lower tht aic or bic the closer the data is to the model\n",
    "print('Summary for '+Tissue+' ...\\n')\n",
    "\n",
    "#FDR \n",
    "pval = pd.read_csv(\"/storage/szfeupe/Runs/GTEx_estr/Analysis_by_Tissue/\"+Tissue+\"/PQValues.txt\", sep='\\t')\n",
    "pval = pval.loc[pval['qvalue']<=0.05]  ##eSTRs at 10% FDR\n",
    "print(pval.shape[0],' eSTRs at 10% FDR')\n",
    "\n",
    "#Anova output \n",
    "hh = pd.read_csv(\"/storage/szfeupe/Runs/GTEx_estr/Analysis_by_Tissue/\"+Tissue+\"/HH/Anova_wg_old.csv\", sep=',')\n",
    "hh1 = hh.loc[hh['gene'].isin(pval['gene'])] \n",
    "print(hh1.shape[0], ' eSTRs and their anova p-values')\n",
    "\n",
    "hh1['st1']=[0]*len(hh1)\n",
    "hh1['st2']=[0]*len(hh1)\n",
    "hh1['st1'][hh1['delta_aic']>0] = 1\n",
    "hh1['st2'][hh1['delta_bic']>0] = 2\n",
    "hh1['strprefer']=hh1['st1']+hh1['st2']\n",
    "\n",
    "\n",
    "hh1.to_csv(\"/storage/szfeupe/Runs/GTEx_estr/Analysis_by_Tissue/\"+Tissue+\"/HH/ESTRs_Anova\", sep='\\t', index=False)\n",
    "\n",
    "hh1"
   ]
  },
  {
   "cell_type": "code",
   "execution_count": 15,
   "metadata": {
    "collapsed": false
   },
   "outputs": [
    {
     "name": "stdout",
     "output_type": "stream",
     "text": [
      "(11, 38)\n",
      "(11, 38)\n",
      "(64, 38)\n",
      "(58, 38)\n",
      "(64, 38)\n",
      "(58, 38)\n",
      "(45, 38)\n"
     ]
    }
   ],
   "source": [
    "print(OUT3.loc[(OUT3['Blood_eSTR?']==1) & (OUT3['eSTR_In_tissues']==7)].shape)\n",
    "print(OUT3.loc[(OUT3['AdipSub_eSTR?']==1) & (OUT3['eSTR_In_tissues']==7)].shape)\n",
    "print(OUT3.loc[(OUT3['ArteryT_eSTR?']==1) & (OUT3['eSTR_In_tissues']>=5)].shape)\n",
    "print(OUT3.loc[(OUT3['Esophagus_eSTR?']==1) & (OUT3['eSTR_In_tissues']>=5)].shape)\n",
    "print(OUT3.loc[(OUT3['Fibroblast_eSTR?']==1) & (OUT3['eSTR_In_tissues']>=5)].shape)\n",
    "print(OUT3.loc[(OUT3['Lung_eSTR?']==1) & (OUT3['eSTR_In_tissues']>=5)].shape)\n",
    "print(OUT3.loc[(OUT3['MuscleS_eSTR?']==1) & (OUT3['eSTR_In_tissues']>=5)].shape)"
   ]
  },
  {
   "cell_type": "code",
   "execution_count": null,
   "metadata": {
    "collapsed": true
   },
   "outputs": [],
   "source": [
    "154  eGenes in 5 or more tissues\n",
    "['ENSG00000121716.14', 'ENSG00000157578.9', 'ENSG00000144021.2', 'ENSG00000197020.6', 'ENSG00000110871.10', 'ENSG00000170425.3', 'ENSG00000166847.5', 'ENSG00000124587.9', 'ENSG00000010626.10', 'ENSG00000240344.4', 'ENSG00000149089.8', 'ENSG00000032742.13', 'ENSG00000258289.3', 'ENSG00000145736.10', 'ENSG00000171903.12', 'ENSG00000126790.7', 'ENSG00000188659.5', 'ENSG00000236624.4', 'ENSG00000084072.12', 'ENSG00000090857.9', 'ENSG00000166896.3', 'ENSG00000204644.5', 'ENSG00000101158.8', 'ENSG00000140386.8', 'ENSG00000053900.6', 'ENSG00000204525.10', 'ENSG00000142632.12', 'ENSG00000014164.6', 'ENSG00000095485.12', 'ENSG00000103723.8', 'ENSG00000122497.13', 'ENSG00000165934.8', 'ENSG00000127399.10', 'ENSG00000177483.7', 'ENSG00000051596.5', 'ENSG00000181240.9', 'ENSG00000214087.4', 'ENSG00000146833.11', 'ENSG00000197345.8', 'ENSG00000102858.8', 'ENSG00000120860.6', 'ENSG00000149231.7', 'ENSG00000111215.7', 'ENSG00000168385.13', 'ENSG00000165171.6', 'ENSG00000168653.6', 'ENSG00000188234.9', 'ENSG00000169629.7', 'ENSG00000223496.1', 'ENSG00000196735.7', 'ENSG00000071894.10', 'ENSG00000104497.9', 'ENSG00000188573.7', 'ENSG00000138744.10', 'ENSG00000163281.7', 'ENSG00000031691.6', 'ENSG00000120539.10', 'ENSG00000142794.14', 'ENSG00000197013.5', 'ENSG00000204520.8', 'ENSG00000141698.12', 'ENSG00000255837.1', 'ENSG00000205464.7', 'ENSG00000205078.5', 'ENSG00000149292.12', 'ENSG00000164346.5', 'ENSG00000120675.4', 'ENSG00000151640.8', 'ENSG00000185619.13', 'ENSG00000137411.12', 'ENSG00000196126.6', 'ENSG00000172322.9', 'ENSG00000120451.6', 'ENSG00000157322.12', 'ENSG00000214940.4', 'ENSG00000182093.10', 'ENSG00000184206.7', 'ENSG00000101639.14', 'ENSG00000237541.3', 'ENSG00000006282.15', 'ENSG00000141391.9', 'ENSG00000173209.18', 'ENSG00000164308.12', 'ENSG00000152726.14', 'ENSG00000254184.3', 'ENSG00000144115.12', 'ENSG00000185808.9', 'ENSG00000171103.6', 'ENSG00000179344.12', 'ENSG00000238083.3', 'ENSG00000164978.13', 'ENSG00000166796.7', 'ENSG00000186470.9', 'ENSG00000118514.9', 'ENSG00000149084.7', 'ENSG00000160284.10', 'ENSG00000137106.13', 'ENSG00000188372.10', 'ENSG00000171806.7', 'ENSG00000163682.11', 'ENSG00000124613.4', 'ENSG00000171928.9', 'ENSG00000108592.12', 'ENSG00000121350.11', 'ENSG00000128989.6', 'ENSG00000128944.9', 'ENSG00000146707.10', 'ENSG00000155542.7', 'ENSG00000117226.7', 'ENSG00000204632.7', 'ENSG00000166435.11', 'ENSG00000180481.6', 'ENSG00000142856.12', 'ENSG00000213077.5', 'ENSG00000152348.11', 'ENSG00000196655.5', 'ENSG00000140323.4', 'ENSG00000198502.5', 'ENSG00000182362.9', 'ENSG00000165806.15', 'ENSG00000158865.8', 'ENSG00000168827.10', 'ENSG00000170291.10', 'ENSG00000141994.11', 'ENSG00000129055.8', 'ENSG00000141252.15', 'ENSG00000054219.9', 'ENSG00000206503.7', 'ENSG00000125124.7', 'ENSG00000048544.5', 'ENSG00000233927.4', 'ENSG00000167720.8', 'ENSG00000144455.9', 'ENSG00000125388.15', 'ENSG00000189339.7', 'ENSG00000020922.8', 'ENSG00000065060.12', 'ENSG00000166436.11', 'ENSG00000140043.7', 'ENSG00000174652.13', 'ENSG00000221947.3', 'ENSG00000217702.1', 'ENSG00000004534.10', 'ENSG00000013573.12', 'ENSG00000128891.11', 'ENSG00000145020.10', 'ENSG00000164048.9', 'ENSG00000140400.10', 'ENSG00000214078.7', 'ENSG00000176681.10', 'ENSG00000174373.11', 'ENSG00000182117.4', 'ENSG00000172728.11', 'ENSG00000116198.8']\n",
    "685 eGenes in 2 or more tissues\n",
    "\n",
    "Here is what I want to report in the abstract\n",
    "Total number of egenes accross all 7 tissues: 2448\n",
    "154 of these genes are egenes in 5 or more tissues and \n",
    "685 of them are egenes in 2 or more tissues.\n",
    " \n",
    "    Instead of this below... since we are still conducting downstream analysis in order to confirm the following:\n",
    "Total number of eSTRs across all 7 tissues 3179\n",
    "44 of these eSTRs are eSTRs in 5 or more tissues and\n",
    "496 of them in 2 or more tissues."
   ]
  }
 ],
 "metadata": {
  "kernelspec": {
   "display_name": "Python 3",
   "language": "python",
   "name": "python3"
  },
  "language_info": {
   "codemirror_mode": {
    "name": "ipython",
    "version": 3
   },
   "file_extension": ".py",
   "mimetype": "text/x-python",
   "name": "python",
   "nbconvert_exporter": "python",
   "pygments_lexer": "ipython3",
   "version": "3.4.5"
  }
 },
 "nbformat": 4,
 "nbformat_minor": 2
}
