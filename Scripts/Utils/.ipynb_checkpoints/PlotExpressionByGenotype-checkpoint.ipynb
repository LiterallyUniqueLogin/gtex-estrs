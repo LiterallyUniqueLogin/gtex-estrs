{
 "cells": [
  {
   "cell_type": "code",
   "execution_count": 120,
   "metadata": {
    "collapsed": true
   },
   "outputs": [],
   "source": [
    "##This script will plot genotypes vs expression for a given gene and variant SNP or STR position\n",
    "##You have to know which chromosome the pair (gene-var) belongs to.\n",
    "\n",
    "import matplotlib.pyplot as plt\n",
    "import pandas as pd\n",
    "import numpy as np\n",
    "import scipy.stats as ss\n",
    "\n",
    "T = ['WholeBlood','Cells-Transformedfibroblasts','Muscle-Skeletal','Lung','Adipose-Subcutaneous','Artery-Tibial','Esophagus-Mucosa']\n",
    "tissue=T[2]\n",
    "ch='chr11'\n",
    "gene='ENSG00000166435.11' \n",
    "var_snp='NA'  ########### OR 'NA' if STR alone \n",
    "var_str=74710172\n",
    "GG='VGLL2'      ### Optional gene name for label"
   ]
  },
  {
   "cell_type": "code",
   "execution_count": 121,
   "metadata": {
    "collapsed": false,
    "scrolled": false
   },
   "outputs": [
    {
     "name": "stdout",
     "output_type": "stream",
     "text": [
      "(43074, 150)   (101, 26870)\n",
      "3 \n",
      " 101\n"
     ]
    }
   ],
   "source": [
    "if var_snp !='NA':\n",
    "    snp=pd.read_csv(\"/storage/szfeupe/Runs/GTEx_estr/SNP_Analysis/SNP_Geno\"+ch, sep='\\t') #snps\n",
    "srt=pd.read_csv(\"/storage/szfeupe/Runs/GTEx_estr/Normalized_Genotypes/STR_Norm_Gen.\"+ch, sep='\\t')\n",
    "expr=pd.read_csv(\"/storage/szfeupe/Runs/GTEx_estr/Analysis_by_Tissue/\"+tissue+\"/Corr_Expr.csv\",sep=',' )\n",
    "print( srt.shape,' ',expr.shape)\n",
    "#snp=snp.loc[snp['chrom']==ch]          #srt=srt.loc[srt['chrom']==ch]\n",
    "#print(snp.shape, ' ', srt.shape,' ',expr.shape)\n",
    "samples=list(expr.index)\n",
    "data=expr[gene]\n",
    "\n",
    "if var_snp !='NA':\n",
    "    genotype_snp = snp.loc[snp['start']==var_snp,samples]\n",
    "    genotype_snp = genotype_snp.replace('None', np.nan)\n",
    "    print(np.count_nonzero(genotype_snp.values=='None'))\n",
    "genotype_str=srt.loc[srt['start']==var_str,samples]\n",
    "print(np.count_nonzero(genotype_str.values=='None'),'\\n', len(data))\n",
    "genotype_str = genotype_str.replace('None', np.nan)"
   ]
  },
  {
   "cell_type": "code",
   "execution_count": 122,
   "metadata": {
    "collapsed": false
   },
   "outputs": [
    {
     "data": {
      "image/png": "[encoded data removed]",
      "text/plain": [
       "<matplotlib.figure.Figure at 0x7f633e85b470>"
      ]
     },
     "metadata": {},
     "output_type": "display_data"
    },
    {
     "data": {
      "image/png": "[encoded data removed]",
      "text/plain": [
       "<matplotlib.figure.Figure at 0x7f63a0581588>"
      ]
     },
     "metadata": {},
     "output_type": "display_data"
    }
   ],
   "source": [
    "x =  range(1,len(data)+1,1)\n",
    "\n",
    "fig=plt.figure(figsize=(10,4))\n",
    "#ax1 = fig.add_subplot(111)\n",
    "\n",
    "plt.plot(x,genotype_str.values.T.tolist(),'.', c='b', label='STR_')\n",
    "plt.legend(loc='upper left')\n",
    "plt.ylabel('Genotype for each sample')\n",
    "plt.show()\n",
    "\n",
    "if var_snp !='NA':\n",
    "    plt.plot(x,genotype_snp.values.T.tolist(), '*', c='g',label='SNP_')\n",
    "    plt.show()\n",
    "    plt.scatter(genotype_snp, data)\n",
    "    plt.ylabel('gene expression')\n",
    "    plt.xlabel('SNP genotypes')\n",
    "    plt.show()\n",
    "plt.scatter(genotype_str, data, label=GG)\n",
    "plt.ylabel('gene expression')\n",
    "plt.xlabel('STR genotypes')\n",
    "plt.title(gene+' - '+GG)\n",
    "plt.show()\n",
    "\n",
    "##Hold snp genotypes constant\n",
    "if var_snp !='NA':\n",
    "    geno=list(set(genotype_snp.values.tolist()[0]))\n",
    "    geno=list(set([x for x in np.nan_to_num(geno) if x!='nan']))\n",
    "    n=len(geno)\n",
    "    ind=genotype_snp.index[0]\n",
    "    fig = plt.figure(figsize=(10, 12)) \n",
    "    for i in range(len(geno)):\n",
    "        print(geno[i])\n",
    "        S=0\n",
    "        S = genotype_snp.T.loc[genotype_snp.T[ind]==geno[i]]\n",
    "        sample=list(S.index)\n",
    "        S['Exp']=data.loc[sample]\n",
    "        S['Str']=genotype_str.T.loc[sample][genotype_str.index[0]]\n",
    "        ax = fig.add_subplot(n,1,1+i)\n",
    "        ax.scatter(list(S['Str']), list(S['Exp']))\n",
    "        #ax.ylabel('Gene expression')\n",
    "        #ax.xlabel('STR genotypes')\n",
    "        ax.title.set_text('Expression @ SNP_genotype='+str(geno[i])+' n='+str(len(S['Exp'])))\n",
    "    plt.show()"
   ]
  },
  {
   "cell_type": "code",
   "execution_count": 51,
   "metadata": {
    "collapsed": false
   },
   "outputs": [
    {
     "data": {
      "text/plain": [
       "99824871"
      ]
     },
     "execution_count": 51,
     "metadata": {},
     "output_type": "execute_result"
    }
   ],
   "source": [
    "#separate_genotypes = [genotype_snp.loc[genotype_snp==x] for x in list(set(genotype_snp.values.tolist()[0]))]\n",
    "#geno=list(set(genotype_snp.values.tolist()[0]))\n",
    "#ind=genotype_str.index[0] #\n",
    "#print(ind)\n",
    "#genotype_snp = genotype_snp.T\n",
    "#print(genotype_snp.T)\n",
    "#L=genotype_snp.T.loc[genotype_snp.T[ind]==geno[0]]\n",
    "#sam=list(L.index)\n",
    "#print (L,'\\n\\n', data.loc[sam])\n",
    "#L['e']=data.loc[sam]\n",
    "#genotype_str.T.loc[sample][ind]\n",
    "#data.loc[sample]\n",
    "#list(genotype_snp.values.dropna.tolist()[0])\n",
    "#genotype_snp.T.loc[genotype_snp.T[ind]==geno[i]]\n",
    "#list(S['Str'])\n",
    "var_str"
   ]
  },
  {
   "cell_type": "code",
   "execution_count": null,
   "metadata": {
    "collapsed": true
   },
   "outputs": [],
   "source": []
  }
 ],
 "metadata": {
  "kernelspec": {
   "display_name": "Python 3",
   "language": "python",
   "name": "python3"
  },
  "language_info": {
   "codemirror_mode": {
    "name": "ipython",
    "version": 3
   },
   "file_extension": ".py",
   "mimetype": "text/x-python",
   "name": "python",
   "nbconvert_exporter": "python",
   "pygments_lexer": "ipython3",
   "version": "3.4.5"
  }
 },
 "nbformat": 4,
 "nbformat_minor": 2
}
